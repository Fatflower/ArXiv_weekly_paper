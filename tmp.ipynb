{
 "cells": [
  {
   "cell_type": "code",
   "execution_count": 1,
   "metadata": {},
   "outputs": [],
   "source": [
    "def convert_text_in_file(file_path, cnt=1):\n",
    "    output_lines = []\n",
    "\n",
    "    with open(file_path, 'r') as file:\n",
    "        for i, line in enumerate(file):\n",
    "            url, title = line.strip().split(\" | \")\n",
    "            paper_title = title.split(\"] \")[1]\n",
    "            formatted_line = f\"{i+cnt+1}. [{paper_title}]({url})\"\n",
    "            output_lines.append(formatted_line)\n",
    "            \n",
    "\n",
    "    return \"\\n\".join(output_lines)\n",
    "\n",
    "def result_write_md(markdown_file, output_lines):\n",
    "    with open(markdown_file, 'a') as m_file:\n",
    "        m_file.seek(0, 2)\n",
    "        if m_file.tell() > 0:\n",
    "            m_file.write('\\n')\n",
    "        m_file.write(output_lines)\n",
    "    print(\"Susseccfully write to file!\")\n",
    "\n",
    "\n"
   ]
  },
  {
   "cell_type": "code",
   "execution_count": 2,
   "metadata": {},
   "outputs": [
    {
     "name": "stdout",
     "output_type": "stream",
     "text": [
      "The total number of lines in the file is: 56\n"
     ]
    }
   ],
   "source": [
    "def count_lines_in_file(file_path):\n",
    "    with open(file_path, 'r', encoding='utf-8') as file:\n",
    "        lines = file.readlines()\n",
    "        return len(lines)\n",
    "file_path = '2024/31_week.md'\n",
    "total_lines = count_lines_in_file(file_path)\n",
    "print(f\"The total number of lines in the file is: {total_lines}\")"
   ]
  },
  {
   "cell_type": "code",
   "execution_count": 3,
   "metadata": {},
   "outputs": [
    {
     "name": "stdout",
     "output_type": "stream",
     "text": [
      "57. [Segment anything model 2: an application to 2D and 3D medical images](https://arxiv.org/abs/2408.00756#)\n",
      "58. [Optimizing Diffusion Models for Joint Trajectory Prediction and Controllable Generation](https://arxiv.org/abs/2408.00766)\n",
      "59. [Collaborative Vision-Text Representation Optimizing for Open-Vocabulary Segmentation](https://arxiv.org/abs/2408.00744)\n",
      "60. [DynamoLLM: Designing LLM Inference Clusters for Performance and Energy Efficiency](https://arxiv.org/abs/2408.00741)\n",
      "61. [Virchow 2: Scaling Self-Supervised Mixed Magnification Models in Pathology](https://arxiv.org/abs/2408.00738)\n",
      "62. [TurboEdit: Text-Based Image Editing Using Few-Step Diffusion Models](https://arxiv.org/abs/2408.00735)\n",
      "63. [Point-supervised Brain Tumor Segmentation with Box-prompted MedSAM](https://arxiv.org/abs/2408.00706)\n",
      "64. [Improving Text Embeddings for Smaller Language Models Using Contrastive Fine-tuning](https://arxiv.org/abs/2408.00690)\n",
      "65. [AutoM3L: An Automated Multimodal Machine Learning Framework with Large Language Models](https://arxiv.org/abs/2408.00665)\n",
      "66. [Deep Learning in Medical Image Classification from MRI-based Brain Tumor Images](https://arxiv.org/abs/2408.00636)\n",
      "67. [Are Bigger Encoders Always Better in Vision Large Models?](https://arxiv.org/abs/2408.00620)\n",
      "68. [SegStitch: Multidimensional Transformer for Robust and Efficient Medical Imaging Segmentation](https://arxiv.org/abs/2408.00496)\n",
      "69. [GalleryGPT: Analyzing Paintings with Large Multimodal Models](https://arxiv.org/abs/2408.00491)\n",
      "70. [DMESA: Densely Matching Everything by Segmenting Anything](https://arxiv.org/abs/2408.00279)\n",
      "71. [Lost in Translation: Latent Concept Misalignment in Text-to-Image Diffusion Models](https://arxiv.org/abs/2408.00230)\n",
      "72. [S-SYNTH: Knowledge-Based, Synthetic Generation of Skin Images](https://arxiv.org/abs/2408.00191)\n",
      "73. [CC-SAM: SAM with Cross-feature Attention and Context for Ultrasound Image Segmentation](https://arxiv.org/abs/2408.00181)\n",
      "74. [Finch: Prompt-guided Key-Value Cache Compression](https://arxiv.org/abs/2408.00167)\n",
      "75. [Replication in Visual Diffusion Models: A Survey and Outlook](https://arxiv.org/abs/2408.00001)\n"
     ]
    }
   ],
   "source": [
    "# 请将 'path_to_your_file.txt' 替换为你的txt文件路径\n",
    "file_path_tmp = 'tmp.txt'\n",
    "converted_text = convert_text_in_file(file_path_tmp, cnt=total_lines)\n",
    "\n",
    "print(converted_text)"
   ]
  },
  {
   "cell_type": "code",
   "execution_count": 4,
   "metadata": {},
   "outputs": [
    {
     "name": "stdout",
     "output_type": "stream",
     "text": [
      "Susseccfully write to file!\n"
     ]
    }
   ],
   "source": [
    "# 写入Readme.md文件\n",
    "markdown_file = 'README.md'\n",
    "output_lines = converted_text\n",
    "result_write_md(markdown_file, output_lines)\n",
    "\n"
   ]
  },
  {
   "cell_type": "code",
   "execution_count": 5,
   "metadata": {},
   "outputs": [
    {
     "name": "stdout",
     "output_type": "stream",
     "text": [
      "Susseccfully write to file!\n"
     ]
    }
   ],
   "source": [
    "# 写入本周的markdown文件\n",
    "\n",
    "output_lines = converted_text\n",
    "result_write_md(file_path, output_lines)"
   ]
  }
 ],
 "metadata": {
  "kernelspec": {
   "display_name": "Python 3.7.13 ('pyt37')",
   "language": "python",
   "name": "python3"
  },
  "language_info": {
   "codemirror_mode": {
    "name": "ipython",
    "version": 3
   },
   "file_extension": ".py",
   "mimetype": "text/x-python",
   "name": "python",
   "nbconvert_exporter": "python",
   "pygments_lexer": "ipython3",
   "version": "3.7.13"
  },
  "orig_nbformat": 4,
  "vscode": {
   "interpreter": {
    "hash": "eede682cbef55f8ad0df024616cb0079c6a04760c6a762ef3695647fd09e8831"
   }
  }
 },
 "nbformat": 4,
 "nbformat_minor": 2
}
