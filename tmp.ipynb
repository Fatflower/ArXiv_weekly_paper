{
 "cells": [
  {
   "cell_type": "code",
   "execution_count": 2,
   "metadata": {},
   "outputs": [
    {
     "name": "stdout",
     "output_type": "stream",
     "text": [
      "71. [AnyTool: Self-Reflective, Hierarchical Agents for Large-Scale API Calls](https://arxiv.org/abs/2402.04253)\n",
      "72. [EVA-CLIP-18B: Scaling CLIP to 18 Billion Parameters](https://arxiv.org/abs/2402.04252)\n",
      "73. [Can Mamba Learn How to Learn? A Comparative Study on In-Context Learning Tasks](https://arxiv.org/abs/2402.04248)\n",
      "74. [Scaling Laws for Downstream Task Performance of Large Language Models](https://arxiv.org/abs/2402.04177)\n",
      "75. [U-shaped Vision Mamba for Single Image Dehazing](https://arxiv.org/abs/2402.04139)\n",
      "76. [A Hard-to-Beat Baseline for Training-free CLIP-based Adaptation](https://arxiv.org/abs/2402.04087)\n",
      "77. [Low-rank Attention Side-Tuning for Parameter-Efficient Fine-Tuning](https://arxiv.org/abs/2402.04009)\n",
      "78. [Elastic Feature Consolidation for Cold Start Exemplar-free Incremental Learning](https://arxiv.org/abs/2402.03917)\n",
      "79. [Efficient Generation of Hidden Outliers for Improved Outlier Detection](https://arxiv.org/abs/2402.03846)\n",
      "80. [Energy-based Domain-Adaptive Segmentation with Depth Guidance](https://arxiv.org/abs/2402.03795)\n",
      "81. [Weakly Supervised Anomaly Detection via Knowledge-Data Alignment](https://arxiv.org/abs/2402.03785)\n",
      "82. [Soft Prompt Tuning for Cross-Lingual Transfer: When Less is More](https://arxiv.org/abs/2402.03782)\n",
      "83. [Intensive Vision-guided Network for Radiology Report Generation](https://arxiv.org/abs/2402.03754)\n",
      "84. [Pre-training of Lightweight Vision Transformers on Small Datasets with Minimally Scaled Images](https://arxiv.org/abs/2402.03752)\n",
      "85. [Vision Superalignment: Weak-to-Strong Generalization for Vision Foundation Models](https://arxiv.org/abs/2402.03749)\n",
      "86. [SISP: A Benchmark Dataset for Fine-grained Ship Instance Segmentation in Panchromatic Satellite Images](https://arxiv.org/abs/2402.03708)\n",
      "87. [GenLens: A Systematic Evaluation of Visual GenAI Model Outputs](https://arxiv.org/abs/2402.03700)\n",
      "88. [Cross-Task Linearity Emerges in the Pretraining-Finetuning Paradigm](https://arxiv.org/abs/2402.03660)\n",
      "89. [CAT-SAM: Conditional Tuning Network for Few-Shot Adaptation of Segmentation Anything Model](https://arxiv.org/abs/2402.03631)\n",
      "90. [Partially Recentralization Softmax Loss for Vision-Language Models Robustness](https://arxiv.org/abs/2402.03627)\n",
      "91. [GRASP: GRAph-Structured Pyramidal Whole Slide Image Representation](https://arxiv.org/abs/2402.03592)\n",
      "92. [Diffusion World Model](https://arxiv.org/abs/2402.03570)\n",
      "93. [How Does Unlabeled Data Provably Help Out-of-Distribution Detection?](https://arxiv.org/abs/2402.03502)\n",
      "94. [Task-Oriented Communication with Out-of-Distribution Detection: An Information Bottleneck Framework](https://arxiv.org/abs/2305.12423)\n",
      "95. [Large-scale Generative AI Models Lack Visual Number Sense](https://arxiv.org/abs/2402.03328)\n",
      "96. [nnMamba: 3D Biomedical Image Segmentation, Classification and Landmark Detection with State Space Model](https://arxiv.org/abs/2402.03526)\n",
      "97. [Path Signatures and Graph Neural Networks for Slow Earthquake Analysis: Better Together?](https://arxiv.org/abs/2402.03558)\n"
     ]
    }
   ],
   "source": [
    "def convert_text_in_file(file_path, cnt=1):\n",
    "    output_lines = []\n",
    "\n",
    "    with open(file_path, 'r') as file:\n",
    "        for i, line in enumerate(file):\n",
    "            url, title = line.strip().split(\" | \")\n",
    "            paper_title = title.split(\"] \")[1]\n",
    "            formatted_line = f\"{i+cnt+1}. [{paper_title}]({url})\"\n",
    "            output_lines.append(formatted_line)\n",
    "            \n",
    "\n",
    "    return \"\\n\".join(output_lines)\n",
    "\n",
    "\n",
    "# 请将 'path_to_your_file.txt' 替换为你的txt文件路径\n",
    "file_path = 'tmp.txt'\n",
    "converted_text = convert_text_in_file(file_path, cnt=70)\n",
    "print(converted_text)"
   ]
  },
  {
   "cell_type": "code",
   "execution_count": null,
   "metadata": {},
   "outputs": [],
   "source": []
  }
 ],
 "metadata": {
  "kernelspec": {
   "display_name": "pyt38",
   "language": "python",
   "name": "python3"
  },
  "language_info": {
   "codemirror_mode": {
    "name": "ipython",
    "version": 3
   },
   "file_extension": ".py",
   "mimetype": "text/x-python",
   "name": "python",
   "nbconvert_exporter": "python",
   "pygments_lexer": "ipython3",
   "version": "3.9.18"
  },
  "orig_nbformat": 4
 },
 "nbformat": 4,
 "nbformat_minor": 2
}
