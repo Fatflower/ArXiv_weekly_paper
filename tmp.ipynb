{
 "cells": [
  {
   "cell_type": "code",
   "execution_count": 23,
   "metadata": {},
   "outputs": [],
   "source": [
    "def convert_text_in_file(file_path, cnt=1):\n",
    "    output_lines = []\n",
    "\n",
    "    with open(file_path, 'r') as file:\n",
    "        for i, line in enumerate(file):\n",
    "            url, title = line.strip().split(\" | \")\n",
    "            paper_title = title.split(\"] \")[1]\n",
    "            formatted_line = f\"{i+cnt+1}. [{paper_title}]({url})\"\n",
    "            output_lines.append(formatted_line)\n",
    "            \n",
    "\n",
    "    return \"\\n\".join(output_lines)\n",
    "\n",
    "def result_write_md(markdown_file, output_lines):\n",
    "    with open(markdown_file, 'a') as m_file:\n",
    "        m_file.seek(0, 2)\n",
    "        if m_file.tell() > 0:\n",
    "            m_file.write('\\n')\n",
    "        m_file.write(output_lines)\n",
    "    print(\"Susseccfully write to file!\")\n",
    "\n",
    "\n"
   ]
  },
  {
   "cell_type": "code",
   "execution_count": 24,
   "metadata": {},
   "outputs": [
    {
     "name": "stdout",
     "output_type": "stream",
     "text": [
      "22. [Analogist: Out-of-the-box Visual In-Context Learning with Image Diffusion Model](https://arxiv.org/abs/2405.10316)\n",
      "23. [On Sample Selection for Continual Learning: a Video Streaming Case Study](https://arxiv.org/abs/2405.10290)\n",
      "24. [FFF: Fixing Flawed Foundations in contrastive pre-training results in very strong Vision-Language models](https://arxiv.org/abs/2405.10286)\n",
      "25. [GPT Store Mining and Analysis](https://arxiv.org/abs/2405.10210)\n",
      "26. [Densely Distilling Cumulative Knowledge for Continual Learning](https://arxiv.org/abs/2405.09820)\n",
      "27. [Many-Shot In-Context Learning in Multimodal Foundation Models](https://arxiv.org/abs/2405.09798)\n",
      "28. [LoRA Learns Less and Forgets Less](https://arxiv.org/abs/2405.09673)\n",
      "29. [A Comprehensive Survey on Data Augmentation](https://arxiv.org/abs/2405.09591)\n",
      "30. [MGSER-SAM: Memory-Guided Soft Experience Replay with Sharpness-Aware Optimization for Enhanced Continual Learning](https://arxiv.org/abs/2405.09492)\n",
      "31. [Time-Equivariant Contrastive Learning for Degenerative Disease Progression in Retinal OCT](https://arxiv.org/abs/2405.09404)\n",
      "32. [CTS: A Consistency-Based Medical Image Segmentation Model](https://arxiv.org/abs/2405.09056)\n",
      "33. [CLIP with Quality Captions: A Strong Pretraining for Vision Tasks](https://arxiv.org/abs/2405.08911)\n",
      "34. [Energy-based Hopfield Boosting for Out-of-Distribution Detection](https://arxiv.org/abs/2405.08766)\n",
      "35. [Image to Pseudo-Episode: Boosting Few-Shot Segmentation by Unlabeled Data](https://arxiv.org/abs/2405.08765)\n",
      "36. [EVDA: Evolving Deepfake Audio Detection Continual Learning Benchmark](https://arxiv.org/abs/2405.08596)\n",
      "37. [Dynamic Feature Learning and Matching for Class-Incremental Learning](https://arxiv.org/abs/2405.08533)\n",
      "38. [Rethinking Prior Information Generation with CLIP for Few-Shot Segmentation](https://arxiv.org/abs/2405.08458)\n",
      "39. [How Alignment Helps Make the Most of Multimodal Data](https://arxiv.org/abs/2405.08454)\n",
      "40. [Feature Expansion and enhanced Compression for Class Incremental Learning](https://arxiv.org/abs/2405.08038)\n"
     ]
    }
   ],
   "source": [
    "# 请将 'path_to_your_file.txt' 替换为你的txt文件路径\n",
    "file_path = 'tmp.txt'\n",
    "converted_text = convert_text_in_file(file_path, cnt=21)\n",
    "\n",
    "print(converted_text)"
   ]
  },
  {
   "cell_type": "code",
   "execution_count": 25,
   "metadata": {},
   "outputs": [
    {
     "name": "stdout",
     "output_type": "stream",
     "text": [
      "Susseccfully write to file!\n"
     ]
    }
   ],
   "source": [
    "# 写入Readme.md文件\n",
    "markdown_file = 'README.md'\n",
    "output_lines = converted_text\n",
    "result_write_md(markdown_file, output_lines)\n",
    "\n"
   ]
  },
  {
   "cell_type": "code",
   "execution_count": 26,
   "metadata": {},
   "outputs": [
    {
     "name": "stdout",
     "output_type": "stream",
     "text": [
      "Susseccfully write to file!\n"
     ]
    }
   ],
   "source": [
    "# 写入本周的markdown文件\n",
    "markdown_file = '2024/20_week.md'\n",
    "output_lines = converted_text\n",
    "result_write_md(markdown_file, output_lines)"
   ]
  }
 ],
 "metadata": {
  "kernelspec": {
   "display_name": "Python 3.8.13 ('pyt38')",
   "language": "python",
   "name": "python3"
  },
  "language_info": {
   "codemirror_mode": {
    "name": "ipython",
    "version": 3
   },
   "file_extension": ".py",
   "mimetype": "text/x-python",
   "name": "python",
   "nbconvert_exporter": "python",
   "pygments_lexer": "ipython3",
   "version": "3.8.13"
  },
  "orig_nbformat": 4,
  "vscode": {
   "interpreter": {
    "hash": "176c92cd5e5485b42e3e73d2f25e60c2ed8f24d584687c4dae8d36d44ade605d"
   }
  }
 },
 "nbformat": 4,
 "nbformat_minor": 2
}
