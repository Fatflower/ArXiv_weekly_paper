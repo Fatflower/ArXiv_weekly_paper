{
 "cells": [
  {
   "cell_type": "code",
   "execution_count": 1,
   "metadata": {},
   "outputs": [
    {
     "name": "stdout",
     "output_type": "stream",
     "text": [
      "1. [Few-Shot Learning on Graphs: from Meta-learning to Pre-training and Prompting](https://arxiv.org/abs/2402.01440)\n",
      "2. [From Words to Molecules: A Survey of Large Language Models in Chemistry](https://arxiv.org/abs/2402.01439)\n",
      "3. [XAI for Skin Cancer Detection with Prototypes and Non-Expert Supervision](https://arxiv.org/abs/2402.01410)\n",
      "4. [Continual Learning for Large Language Models: A Survey](https://arxiv.org/abs/2402.01364)\n",
      "5. [FindingEmo: An Image Dataset for Emotion Recognition in the Wild](https://arxiv.org/abs/2402.01355)\n",
      "6. [Describing Images $\\textit{Fast and Slow}$: Quantifying and Predicting the Variation in Human Signals during Visuo-Linguistic Processes](https://arxiv.org/abs/2402.01352)\n",
      "7. [CORE: Mitigating Catastrophic Forgetting in Continual Learning through Cognitive Replay](https://arxiv.org/abs/2402.01348)\n",
      "8. [Can MLLMs Perform Text-to-Image In-Context Learning?](https://arxiv.org/abs/2402.01293)\n",
      "9. [On the Transferability of Large-Scale Self-Supervision to Few-Shot Audio Classification](https://arxiv.org/abs/2402.01274)\n",
      "10. [Can Shape-Infused Joint Embeddings Improve Image-Conditioned 3D Diffusion?](https://arxiv.org/abs/2402.01241)\n",
      "11. [Segment Any Change](https://arxiv.org/abs/2402.01188)\n",
      "12. [A Comprehensive Survey on 3D Content Generation](https://arxiv.org/abs/2402.01166)\n",
      "13. [Efficient Prompt Caching via Embedding Similarity](https://arxiv.org/abs/2402.01173)\n",
      "14. [A Single Simple Patch is All You Need for AI-generated Image Detection](https://arxiv.org/abs/2402.01123)\n",
      "15. [A Survey for Foundation Models in Autonomous Driving](https://arxiv.org/abs/2402.01105)\n",
      "16. [Compositional Generative Modeling: A Single Model is Not All You Need](https://arxiv.org/abs/2402.01103)\n",
      "17. [Addressing Bias Through Ensemble Learning and Regularized Fine-Tuning](https://arxiv.org/abs/2402.00910)\n",
      "18. [VISION-MAE: A Foundation Model for Medical Image Segmentation and Classification](https://arxiv.org/abs/2402.01034)\n"
     ]
    }
   ],
   "source": [
    "def convert_text_in_file(file_path, cnt=1):\n",
    "    output_lines = []\n",
    "\n",
    "    with open(file_path, 'r') as file:\n",
    "        for i, line in enumerate(file):\n",
    "            url, title = line.strip().split(\" | \")\n",
    "            paper_title = title.split(\"] \")[1]\n",
    "            formatted_line = f\"{i+cnt+1}. [{paper_title}]({url})\"\n",
    "            output_lines.append(formatted_line)\n",
    "            \n",
    "\n",
    "    return \"\\n\".join(output_lines)\n",
    "\n",
    "\n",
    "# 请将 'path_to_your_file.txt' 替换为你的txt文件路径\n",
    "file_path = 'tmp.txt'\n",
    "converted_text = convert_text_in_file(file_path, cnt=0)\n",
    "print(converted_text)"
   ]
  },
  {
   "cell_type": "code",
   "execution_count": null,
   "metadata": {},
   "outputs": [],
   "source": []
  }
 ],
 "metadata": {
  "kernelspec": {
   "display_name": "pyt38",
   "language": "python",
   "name": "python3"
  },
  "language_info": {
   "codemirror_mode": {
    "name": "ipython",
    "version": 3
   },
   "file_extension": ".py",
   "mimetype": "text/x-python",
   "name": "python",
   "nbconvert_exporter": "python",
   "pygments_lexer": "ipython3",
   "version": "3.9.18"
  },
  "orig_nbformat": 4
 },
 "nbformat": 4,
 "nbformat_minor": 2
}
