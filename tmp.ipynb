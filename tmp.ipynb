{
 "cells": [
  {
   "cell_type": "code",
   "execution_count": 1,
   "metadata": {},
   "outputs": [
    {
     "name": "stdout",
     "output_type": "stream",
     "text": [
      "1. [FaBERT: Pre-training BERT on Persian Blogs](https://arxiv.org/abs/2402.06617)\n",
      "2. [More than the Sum of Its Parts: Ensembling Backbone Networks for Few-Shot Segmentation](https://arxiv.org/abs/2402.06581)\n",
      "3. [Diffusion-ES: Gradient-free Planning with Diffusion for Autonomous Driving and Zero-Shot Instruction Following](https://arxiv.org/abs/2402.06559)\n",
      "4. [Bryndza at ClimateActivism 2024: Stance, Target and Hate Event Detection via Retrieval-Augmented GPT-4 and LLaMA](https://arxiv.org/abs/2402.06549)\n",
      "5. [Calibrating Long-form Generations from Large Language Models](https://arxiv.org/abs/2402.06544)\n",
      "6. [Feature Density Estimation for Out-of-Distribution Detection via Normalizing Flows](https://arxiv.org/abs/2402.06537)\n",
      "7. [Refining Myocardial Infarction Detection: A Novel Multi-Modal Composite Kernel Strategy in One-Class Classification](https://arxiv.org/abs/2402.06530)\n",
      "8. [BarlowTwins-CXR : Enhancing Chest X-Ray abnormality localization in heterogeneous data with cross-domain self-supervised learning](https://arxiv.org/abs/2402.06499)\n",
      "9. [Iris-SAM: Iris Segmentation Using a Foundational Model](https://arxiv.org/abs/2402.06497)\n",
      "10. [Large Language Models for Captioning and Retrieving Remote Sensing Images](https://arxiv.org/abs/2402.06475)\n",
      "11. [Where is the Truth? The Risk of Getting Confounded in a Continual World](https://arxiv.org/abs/2402.06434)\n",
      "12. [Continual Learning on Graphs: A Survey](https://arxiv.org/abs/2402.06330)\n",
      "13. [Taking Class Imbalance Into Account in Open Set Recognition Evaluation](https://arxiv.org/abs/2402.06331)\n",
      "14. [A Unified Causal View of Instruction Tuning](https://arxiv.org/abs/2402.06220)\n",
      "15. [ViGoR: Improving Visual Grounding of Large Vision Language Models with Fine-Grained Reward Modeling](https://arxiv.org/abs/2402.06118)\n",
      "16. [Rethinking Data Selection for Supervised Fine-Tuning](https://arxiv.org/abs/2402.06094)\n",
      "17. [Exploring Visual Culture Awareness in GPT-4V: A Comprehensive Probing](https://arxiv.org/abs/2402.06015)\n",
      "18. [A Survey on Transformer Compression](https://arxiv.org/abs/2402.05964)\n",
      "19. [EasyFS: an Efficient Model-free Feature Selection Framework via Elastic Transformation of Features](https://arxiv.org/abs/2402.05954)\n"
     ]
    }
   ],
   "source": [
    "def convert_text_in_file(file_path, cnt=1):\n",
    "    output_lines = []\n",
    "\n",
    "    with open(file_path, 'r') as file:\n",
    "        for i, line in enumerate(file):\n",
    "            url, title = line.strip().split(\" | \")\n",
    "            paper_title = title.split(\"] \")[1]\n",
    "            formatted_line = f\"{i+cnt+1}. [{paper_title}]({url})\"\n",
    "            output_lines.append(formatted_line)\n",
    "            \n",
    "\n",
    "    return \"\\n\".join(output_lines)\n",
    "\n",
    "\n",
    "# 请将 'path_to_your_file.txt' 替换为你的txt文件路径\n",
    "file_path = 'tmp.txt'\n",
    "converted_text = convert_text_in_file(file_path, cnt=0)\n",
    "print(converted_text)"
   ]
  },
  {
   "cell_type": "code",
   "execution_count": null,
   "metadata": {},
   "outputs": [],
   "source": []
  }
 ],
 "metadata": {
  "kernelspec": {
   "display_name": "pyt38",
   "language": "python",
   "name": "python3"
  },
  "language_info": {
   "codemirror_mode": {
    "name": "ipython",
    "version": 3
   },
   "file_extension": ".py",
   "mimetype": "text/x-python",
   "name": "python",
   "nbconvert_exporter": "python",
   "pygments_lexer": "ipython3",
   "version": "3.9.18"
  },
  "orig_nbformat": 4
 },
 "nbformat": 4,
 "nbformat_minor": 2
}
