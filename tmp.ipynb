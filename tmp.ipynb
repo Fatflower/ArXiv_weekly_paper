{
 "cells": [
  {
   "cell_type": "code",
   "execution_count": 1,
   "metadata": {},
   "outputs": [],
   "source": [
    "def convert_text_in_file(file_path, cnt=1):\n",
    "    output_lines = []\n",
    "\n",
    "    with open(file_path, 'r') as file:\n",
    "        for i, line in enumerate(file):\n",
    "            url, title = line.strip().split(\" | \")\n",
    "            paper_title = title.split(\"] \")[1]\n",
    "            formatted_line = f\"{i+cnt+1}. [{paper_title}]({url})\"\n",
    "            output_lines.append(formatted_line)\n",
    "            \n",
    "\n",
    "    return \"\\n\".join(output_lines)\n",
    "\n",
    "def result_write_md(markdown_file, output_lines):\n",
    "    with open(markdown_file, 'a') as m_file:\n",
    "        m_file.seek(0, 2)\n",
    "        if m_file.tell() > 0:\n",
    "            m_file.write('\\n')\n",
    "        m_file.write(output_lines)\n",
    "    print(\"Susseccfully write to file!\")\n",
    "\n",
    "\n"
   ]
  },
  {
   "cell_type": "code",
   "execution_count": 2,
   "metadata": {},
   "outputs": [
    {
     "name": "stdout",
     "output_type": "stream",
     "text": [
      "1. [Advanced Payment Security System:XGBoost, CatBoost and SMOTE Integrated](https://arxiv.org/abs/2406.04658)\n",
      "2. [CLoG: Benchmarking Continual Learning of Image Generation Models](https://arxiv.org/abs/2406.04584)\n",
      "3. [Attention Fusion Reverse Distillation for Multi-Lighting Image Anomaly Detection](https://arxiv.org/abs/2406.04573)\n",
      "4. [OCCAM: Towards Cost-Efficient and Accuracy-Aware Image Classification Inference](https://arxiv.org/abs/2406.04508)\n",
      "5. [MAIRA-2: Grounded Radiology Report Generation](https://arxiv.org/abs/2406.04449)\n",
      "6. [Can Language Models Use Forecasting Strategies?](https://arxiv.org/abs/2406.04446)\n",
      "7. [Can Language Models Serve as Text-Based World Simulators?](https://arxiv.org/abs/2406.06485)\n",
      "8. [Towards a Personal Health Large Language Model](https://arxiv.org/abs/2406.06474)\n",
      "9. [Husky: A Unified, Open-Source Language Agent for Multi-Step Reasoning](https://arxiv.org/abs/2406.06469)\n",
      "10. [Towards Lifelong Learning of Large Language Models: A Survey](https://arxiv.org/abs/2406.06391)\n",
      "11. [Cascading Unknown Detection with Known Classification for Open Set Recognition](https://arxiv.org/abs/2406.06351)\n",
      "12. [A Statistical Theory of Regularization-Based Continual Learning](https://arxiv.org/abs/2406.06213)\n",
      "13. [Robust Latent Representation Tuning for Image-text Classification](https://arxiv.org/abs/2406.06048)\n",
      "14. [Aligning Large Language Models with Representation Editing: A Control Perspective](https://arxiv.org/abs/2406.05954)\n",
      "15. [Mamba YOLO: SSMs-Based YOLO For Object Detection](https://arxiv.org/abs/2406.05835)\n",
      "16. [F-LMM: Grounding Frozen Large Multimodal Models](https://arxiv.org/abs/2406.05821)\n",
      "17. [Visual Prompt Tuning in Null Space for Continual Learning](https://arxiv.org/abs/2406.05658)\n",
      "18. [CCSI: Continual Class-Specific Impression for Data-free Class Incremental Learning](https://arxiv.org/abs/2406.05631)\n",
      "19. [A Comprehensive Evaluation of Parameter-Efficient Fine-Tuning on Automated Program Repair](https://arxiv.org/abs/2406.05639)\n",
      "20. [Domain Generalization Guided by Large-Scale Pre-Trained Priors](https://arxiv.org/abs/2406.05628)\n",
      "21. [Aligning Human Knowledge with Visual Concepts Towards Explainable Medical Image Classification](https://arxiv.org/abs/2406.05596)\n",
      "22. [Regularized Training with Generated Datasets for Name-Only Transfer of Vision-Language Models](https://arxiv.org/abs/2406.05432)\n",
      "23. [LoCoCo: Dropping In Convolutions for Long Context Compression](https://arxiv.org/abs/2406.05317)\n",
      "24. [SuperPos-Prompt: Enhancing Soft Prompt Tuning of Language Models with Superposition of Multi Token Embeddings](https://arxiv.org/abs/2406.05279)\n",
      "25. [USE: Universal Segment Embeddings for Open-Vocabulary Image Segmentation](https://arxiv.org/abs/2406.05271)\n",
      "26. [CPLIP: Zero-Shot Learning for Histopathology with Comprehensive Vision-Language Alignment](https://arxiv.org/abs/2406.05205)\n",
      "27. [MHS-VM: Multi-Head Scanning in Parallel Subspaces for Vision Mamba](https://arxiv.org/abs/2406.05992)\n",
      "28. [GCtx-UNet: Efficient Network for Medical Image Segmentation](https://arxiv.org/abs/2406.05891)\n",
      "29. [MSAGPT: Neural Prompting Protein Structure Prediction via MSA Generative Pre-Training](https://arxiv.org/abs/2406.05347)\n",
      "30. [An Empirical Study on Parameter-Efficient Fine-Tuning for MultiModal Large Language Models](https://arxiv.org/abs/2406.05130)\n",
      "31. [Prototype Correlation Matching and Class-Relation Reasoning for Few-Shot Medical Image Segmentation](https://arxiv.org/abs/2406.05054)\n",
      "32. [AttnDreamBooth: Towards Text-Aligned Personalized Text-to-Image Generation](https://arxiv.org/abs/2406.05000)\n",
      "33. [ProMotion: Prototypes As Motion Learners](https://arxiv.org/abs/2406.04999)\n",
      "34. [MEFT: Memory-Efficient Fine-Tuning through Sparse Adapter](https://arxiv.org/abs/2406.04984)\n",
      "35. [MA-AVT: Modality Alignment for Parameter-Efficient Audio-Visual Transformers](https://arxiv.org/abs/2406.04930)\n",
      "36. [Revisiting Catastrophic Forgetting in Large Language Model Tuning](https://arxiv.org/abs/2406.04836)\n",
      "37. [BERTs are Generative In-Context Learners](https://arxiv.org/abs/2406.04823)\n",
      "38. [REP: Resource-Efficient Prompting for On-device Continual Learning](https://arxiv.org/abs/2406.04772)\n",
      "39. [MGIMM: Multi-Granularity Instruction Multimodal Model for Attribute-Guided Remote Sensing Image Detailed Description](https://arxiv.org/abs/2406.04716)\n",
      "40. [Mixture-of-Agents Enhances Large Language Model Capabilities](https://arxiv.org/abs/2406.04692)\n"
     ]
    }
   ],
   "source": [
    "# 请将 'path_to_your_file.txt' 替换为你的txt文件路径\n",
    "file_path = 'tmp.txt'\n",
    "converted_text = convert_text_in_file(file_path, cnt=0)\n",
    "\n",
    "print(converted_text)"
   ]
  },
  {
   "cell_type": "code",
   "execution_count": 3,
   "metadata": {},
   "outputs": [
    {
     "name": "stdout",
     "output_type": "stream",
     "text": [
      "Susseccfully write to file!\n"
     ]
    }
   ],
   "source": [
    "# 写入Readme.md文件\n",
    "markdown_file = 'README.md'\n",
    "output_lines = converted_text\n",
    "result_write_md(markdown_file, output_lines)\n",
    "\n"
   ]
  },
  {
   "cell_type": "code",
   "execution_count": 4,
   "metadata": {},
   "outputs": [
    {
     "name": "stdout",
     "output_type": "stream",
     "text": [
      "Susseccfully write to file!\n"
     ]
    }
   ],
   "source": [
    "# 写入本周的markdown文件\n",
    "markdown_file = '2024/24_week.md'\n",
    "output_lines = converted_text\n",
    "result_write_md(markdown_file, output_lines)"
   ]
  }
 ],
 "metadata": {
  "kernelspec": {
   "display_name": "Python 3.8.13 ('pyt38')",
   "language": "python",
   "name": "python3"
  },
  "language_info": {
   "codemirror_mode": {
    "name": "ipython",
    "version": 3
   },
   "file_extension": ".py",
   "mimetype": "text/x-python",
   "name": "python",
   "nbconvert_exporter": "python",
   "pygments_lexer": "ipython3",
   "version": "3.8.13"
  },
  "orig_nbformat": 4,
  "vscode": {
   "interpreter": {
    "hash": "176c92cd5e5485b42e3e73d2f25e60c2ed8f24d584687c4dae8d36d44ade605d"
   }
  }
 },
 "nbformat": 4,
 "nbformat_minor": 2
}
