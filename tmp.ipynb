{
 "cells": [
  {
   "cell_type": "code",
   "execution_count": 3,
   "metadata": {},
   "outputs": [
    {
     "name": "stdout",
     "output_type": "stream",
     "text": [
      "61. [AID: Attention Interpolation of Text-to-Image Diffusion](https://arxiv.org/abs/2403.17924)\n",
      "62. [LISA: Layerwise Importance Sampling for Memory-Efficient Large Language Model Fine-Tuning](https://arxiv.org/abs/2403.17919)\n",
      "63. [ELGC-Net: Efficient Local-Global Context Aggregation for Remote Sensing Change Detection](https://arxiv.org/abs/2403.17909)\n",
      "64. [Improving Text-to-Image Consistency via Automatic Prompt Optimization](https://arxiv.org/abs/2403.17804)\n",
      "65. [Multi-Task Dense Prediction via Mixture of Low-Rank Experts](https://arxiv.org/abs/2403.17749)\n",
      "66. [The Solution for the CVPR 2023 1st foundation model challenge-Track2](https://arxiv.org/abs/2403.17702)\n",
      "67. [On the Benefits of Over-parameterization for Out-of-Distribution Generalization](https://arxiv.org/abs/2403.17592)\n",
      "68. [A Survey on Deep Learning and State-of-the-arts Applications](https://arxiv.org/abs/2403.17561)\n",
      "69. [Boosting Few-Shot Learning with Disentangled Self-Supervised Learning and Meta-Learning for Medical Image Classification](https://arxiv.org/abs/2403.17530)\n",
      "70. [DS-AL: A Dual-Stream Analytic Learning for Exemplar-Free Class-Incremental Learning](https://arxiv.org/abs/2403.17503)\n",
      "71. [Neural Clustering based Visual Representation Learning](https://arxiv.org/abs/2403.17409)\n",
      "72. [Boosting Few-Shot Learning via Attentive Feature Regularization](https://arxiv.org/abs/2403.17025)\n",
      "73. [CT Synthesis with Conditional Diffusion Models for Abdominal Lymph Node Segmentation](https://arxiv.org/abs/2403.17770)\n",
      "74. [Rotate to Scan: UNet-like Mamba with Triplet SSM Module for Medical Image Segmentation](https://arxiv.org/abs/2403.17701)\n"
     ]
    }
   ],
   "source": [
    "def convert_text_in_file(file_path, cnt=1):\n",
    "    output_lines = []\n",
    "\n",
    "    with open(file_path, 'r') as file:\n",
    "        for i, line in enumerate(file):\n",
    "            url, title = line.strip().split(\" | \")\n",
    "            paper_title = title.split(\"] \")[1]\n",
    "            formatted_line = f\"{i+cnt+1}. [{paper_title}]({url})\"\n",
    "            output_lines.append(formatted_line)\n",
    "            \n",
    "\n",
    "    return \"\\n\".join(output_lines)\n",
    "\n",
    "\n",
    "# 请将 'path_to_your_file.txt' 替换为你的txt文件路径\n",
    "file_path = 'tmp.txt'\n",
    "converted_text = convert_text_in_file(file_path, cnt=60)\n",
    "print(converted_text)"
   ]
  },
  {
   "cell_type": "code",
   "execution_count": null,
   "metadata": {},
   "outputs": [],
   "source": []
  }
 ],
 "metadata": {
  "kernelspec": {
   "display_name": "pyt38",
   "language": "python",
   "name": "python3"
  },
  "language_info": {
   "codemirror_mode": {
    "name": "ipython",
    "version": 3
   },
   "file_extension": ".py",
   "mimetype": "text/x-python",
   "name": "python",
   "nbconvert_exporter": "python",
   "pygments_lexer": "ipython3",
   "version": "3.8.13"
  },
  "orig_nbformat": 4
 },
 "nbformat": 4,
 "nbformat_minor": 2
}
