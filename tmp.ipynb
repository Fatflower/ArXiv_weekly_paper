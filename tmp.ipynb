{
 "cells": [
  {
   "cell_type": "code",
   "execution_count": 6,
   "metadata": {},
   "outputs": [],
   "source": [
    "def convert_text_in_file(file_path, cnt=1):\n",
    "    output_lines = []\n",
    "\n",
    "    with open(file_path, 'r') as file:\n",
    "        for i, line in enumerate(file):\n",
    "            url, title = line.strip().split(\" | \")\n",
    "            paper_title = title.split(\"] \")[1]\n",
    "            formatted_line = f\"{i+cnt+1}. [{paper_title}]({url})\"\n",
    "            output_lines.append(formatted_line)\n",
    "            \n",
    "\n",
    "    return \"\\n\".join(output_lines)\n",
    "\n",
    "def result_write_md(markdown_file, output_lines):\n",
    "    with open(markdown_file, 'a') as m_file:\n",
    "        m_file.seek(0, 2)\n",
    "        if m_file.tell() > 0:\n",
    "            m_file.write('\\n')\n",
    "        m_file.write(output_lines)\n",
    "    print(\"Susseccfully write to file!\")\n",
    "\n",
    "\n"
   ]
  },
  {
   "cell_type": "code",
   "execution_count": 7,
   "metadata": {},
   "outputs": [
    {
     "name": "stdout",
     "output_type": "stream",
     "text": [
      "The total number of lines in the file is: 0\n"
     ]
    }
   ],
   "source": [
    "def count_lines_in_file(file_path):\n",
    "    with open(file_path, 'r', encoding='utf-8') as file:\n",
    "        lines = file.readlines()\n",
    "        return len(lines)\n",
    "file_path = '2024/31_week.md'\n",
    "total_lines = count_lines_in_file(file_path)\n",
    "print(f\"The total number of lines in the file is: {total_lines}\")"
   ]
  },
  {
   "cell_type": "code",
   "execution_count": 8,
   "metadata": {},
   "outputs": [
    {
     "name": "stdout",
     "output_type": "stream",
     "text": [
      "1. [Benchmarking Dependence Measures to Prevent Shortcut Learning in Medical Imaging](https://arxiv.org/abs/2407.18792)\n",
      "2. [Constructing Enhanced Mutual Information for Online Class-Incremental Learning](https://arxiv.org/abs/2407.18526)\n",
      "3. [AI Safety in Generative AI Large Language Models: A Survey](https://arxiv.org/abs/2407.18369)\n",
      "4. [Towards A Generalizable Pathology Foundation Model via Unified Knowledge Distillation](https://arxiv.org/abs/2407.18449)\n"
     ]
    }
   ],
   "source": [
    "# 请将 'path_to_your_file.txt' 替换为你的txt文件路径\n",
    "file_path_tmp = 'tmp.txt'\n",
    "converted_text = convert_text_in_file(file_path_tmp, cnt=total_lines)\n",
    "\n",
    "print(converted_text)"
   ]
  },
  {
   "cell_type": "code",
   "execution_count": 9,
   "metadata": {},
   "outputs": [
    {
     "name": "stdout",
     "output_type": "stream",
     "text": [
      "Susseccfully write to file!\n"
     ]
    }
   ],
   "source": [
    "# 写入Readme.md文件\n",
    "markdown_file = 'README.md'\n",
    "output_lines = converted_text\n",
    "result_write_md(markdown_file, output_lines)\n",
    "\n"
   ]
  },
  {
   "cell_type": "code",
   "execution_count": 10,
   "metadata": {},
   "outputs": [
    {
     "name": "stdout",
     "output_type": "stream",
     "text": [
      "Susseccfully write to file!\n"
     ]
    }
   ],
   "source": [
    "# 写入本周的markdown文件\n",
    "\n",
    "output_lines = converted_text\n",
    "result_write_md(file_path, output_lines)"
   ]
  }
 ],
 "metadata": {
  "kernelspec": {
   "display_name": "Python 3.7.13 ('pyt37')",
   "language": "python",
   "name": "python3"
  },
  "language_info": {
   "codemirror_mode": {
    "name": "ipython",
    "version": 3
   },
   "file_extension": ".py",
   "mimetype": "text/x-python",
   "name": "python",
   "nbconvert_exporter": "python",
   "pygments_lexer": "ipython3",
   "version": "3.7.13"
  },
  "orig_nbformat": 4,
  "vscode": {
   "interpreter": {
    "hash": "eede682cbef55f8ad0df024616cb0079c6a04760c6a762ef3695647fd09e8831"
   }
  }
 },
 "nbformat": 4,
 "nbformat_minor": 2
}
