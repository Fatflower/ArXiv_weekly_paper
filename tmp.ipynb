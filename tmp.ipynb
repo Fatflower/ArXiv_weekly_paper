{
 "cells": [
  {
   "cell_type": "code",
   "execution_count": 1,
   "metadata": {},
   "outputs": [],
   "source": [
    "def convert_text_in_file(file_path, cnt=1):\n",
    "    output_lines = []\n",
    "\n",
    "    with open(file_path, 'r') as file:\n",
    "        for i, line in enumerate(file):\n",
    "            url, title = line.strip().split(\" | \")\n",
    "            paper_title = title.split(\"] \")[1]\n",
    "            formatted_line = f\"{i+cnt+1}. [{paper_title}]({url})\"\n",
    "            output_lines.append(formatted_line)\n",
    "            \n",
    "\n",
    "    return \"\\n\".join(output_lines)\n",
    "\n",
    "def result_write_md(markdown_file, output_lines):\n",
    "    with open(markdown_file, 'a') as m_file:\n",
    "        m_file.seek(0, 2)\n",
    "        if m_file.tell() > 0:\n",
    "            m_file.write('\\n')\n",
    "        m_file.write(output_lines)\n",
    "    print(\"Susseccfully write to file!\")\n",
    "\n",
    "\n"
   ]
  },
  {
   "cell_type": "code",
   "execution_count": 2,
   "metadata": {},
   "outputs": [
    {
     "name": "stdout",
     "output_type": "stream",
     "text": [
      "The total number of lines in the file is: 41\n"
     ]
    }
   ],
   "source": [
    "def count_lines_in_file(file_path):\n",
    "    with open(file_path, 'r', encoding='utf-8') as file:\n",
    "        lines = file.readlines()\n",
    "        return len(lines)\n",
    "file_path = '2024/30_week.md'\n",
    "total_lines = count_lines_in_file(file_path)\n",
    "print(f\"The total number of lines in the file is: {total_lines}\")"
   ]
  },
  {
   "cell_type": "code",
   "execution_count": 3,
   "metadata": {},
   "outputs": [
    {
     "name": "stdout",
     "output_type": "stream",
     "text": [
      "42. [CMR Scaling Law: Predicting Critical Mixture Ratios for Continual Pre-training of Language Models](https://arxiv.org/abs/2407.17467)\n",
      "43. [Scalify: scale propagation for efficient low-precision LLM training](https://arxiv.org/abs/2407.17353)\n",
      "44. [Multi-label Cluster Discrimination for Visual Representation Learning](https://arxiv.org/abs/2407.17331)\n",
      "45. [Embedding-Free Transformer with Inference Spatial Reduction for Efficient Semantic Segmentation](https://arxiv.org/abs/2407.17261)\n",
      "46. [Graph Neural Networks: A suitable Alternative to MLPs in Latent 3D Medical Image Classification?](https://arxiv.org/abs/2407.17219)\n",
      "47. [When Text and Images Don't Mix: Bias-Correcting Language-Image Similarity Scores for Anomaly Detection](https://arxiv.org/abs/2407.17083)\n",
      "48. [High Efficiency Image Compression for Large Visual-Language Models](https://arxiv.org/abs/2407.17060)\n",
      "49. [Selective Vision-Language Subspace Projection for Few-shot CLIP](https://arxiv.org/abs/2407.16977)\n",
      "50. [Open Challenges on Fairness of Artificial Intelligence in Medical Imaging Applications](https://arxiv.org/abs/2407.16953)\n",
      "51. [Automatic Categorization of GitHub Actions with Transformers and Few-shot Learning](https://arxiv.org/abs/2407.16946)\n",
      "52. [Train-Attention: Meta-Learning Where to Focus in Continual Knowledge Learning](https://arxiv.org/abs/2407.16920)\n",
      "53. [SINDER: Repairing the Singular Defects of DINOv2](https://arxiv.org/abs/2407.16826)\n"
     ]
    }
   ],
   "source": [
    "# 请将 'path_to_your_file.txt' 替换为你的txt文件路径\n",
    "file_path_tmp = 'tmp.txt'\n",
    "converted_text = convert_text_in_file(file_path_tmp, cnt=total_lines)\n",
    "\n",
    "print(converted_text)"
   ]
  },
  {
   "cell_type": "code",
   "execution_count": 4,
   "metadata": {},
   "outputs": [
    {
     "name": "stdout",
     "output_type": "stream",
     "text": [
      "Susseccfully write to file!\n"
     ]
    }
   ],
   "source": [
    "# 写入Readme.md文件\n",
    "markdown_file = 'README.md'\n",
    "output_lines = converted_text\n",
    "result_write_md(markdown_file, output_lines)\n",
    "\n"
   ]
  },
  {
   "cell_type": "code",
   "execution_count": 5,
   "metadata": {},
   "outputs": [
    {
     "name": "stdout",
     "output_type": "stream",
     "text": [
      "Susseccfully write to file!\n"
     ]
    }
   ],
   "source": [
    "# 写入本周的markdown文件\n",
    "\n",
    "output_lines = converted_text\n",
    "result_write_md(file_path, output_lines)"
   ]
  }
 ],
 "metadata": {
  "kernelspec": {
   "display_name": "Python 3.7.13 ('pyt37')",
   "language": "python",
   "name": "python3"
  },
  "language_info": {
   "codemirror_mode": {
    "name": "ipython",
    "version": 3
   },
   "file_extension": ".py",
   "mimetype": "text/x-python",
   "name": "python",
   "nbconvert_exporter": "python",
   "pygments_lexer": "ipython3",
   "version": "3.7.13"
  },
  "orig_nbformat": 4,
  "vscode": {
   "interpreter": {
    "hash": "eede682cbef55f8ad0df024616cb0079c6a04760c6a762ef3695647fd09e8831"
   }
  }
 },
 "nbformat": 4,
 "nbformat_minor": 2
}
