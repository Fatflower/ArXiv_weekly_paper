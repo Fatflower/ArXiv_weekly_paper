{
 "cells": [
  {
   "cell_type": "code",
   "execution_count": 2,
   "metadata": {},
   "outputs": [
    {
     "name": "stdout",
     "output_type": "stream",
     "text": [
      "20. [FAST: Factorizable Attention for Speeding up Transformers](https://arxiv.org/abs/2402.07901)\n",
      "21. [Label-Efficient Model Selection for Text Generation](https://arxiv.org/abs/2402.07891)\n",
      "22. [Scaling Laws for Fine-Grained Mixture of Experts](https://arxiv.org/abs/2402.07871)\n",
      "23. [Prismatic VLMs: Investigating the Design Space of Visually-Conditioned Language Models](https://arxiv.org/abs/2402.07865)\n",
      "24. [On Computationally Efficient Multi-Class Calibration](https://arxiv.org/abs/2402.07821)\n",
      "25. [Multi-Intent Attribute-Aware Text Matching in Searching](https://arxiv.org/abs/2402.07788)\n",
      "26. [HYPO: Hyperspherical Out-of-Distribution Generalization](https://arxiv.org/abs/2402.07785)\n",
      "27. [Complete Instances Mining for Weakly Supervised Instance Segmentation](https://arxiv.org/abs/2402.07633)\n",
      "28. [SLIT: Boosting Audio-Text Pre-Training via Multi-Stage Learning and Instruction Tuning](https://arxiv.org/abs/2402.07485)\n",
      "29. [A Closer Look at the Robustness of Contrastive Language-Image Pre-Training (CLIP)](https://arxiv.org/abs/2402.07410)\n",
      "30. [Make it more specific: A novel uncertainty based airway segmentation application on 3D U-Net and its variants](https://arxiv.org/abs/2402.07403)\n",
      "31. [Deep Learning for Medical Image Segmentation with Imprecise Annotation](https://arxiv.org/abs/2402.07330)\n",
      "32. [The Bias of Harmful Label Associations in Vision-Language Models](https://arxiv.org/abs/2402.07329)\n",
      "33. [TransGPT: Multi-modal Generative Pre-trained Transformer for Transportation](https://arxiv.org/abs/2402.07233)\n",
      "34. [A novel spatial-frequency domain network for zero-shot incremental learning](https://arxiv.org/abs/2402.07216)\n",
      "35. [3D Gaussian as a New Vision Era: A Survey](https://arxiv.org/abs/2402.07181)\n",
      "36. [Two-Stage Multi-task Self-Supervised Learning for Medical Image Segmentation](https://arxiv.org/abs/2402.07119)\n",
      "37. [SpeechCLIP+: Self-supervised multi-task representation learning for speech via CLIP and speech-image data](https://arxiv.org/abs/2402.06959)\n",
      "38. [Assessing Uncertainty Estimation Methods for 3D Image Segmentation under Distribution Shifts](https://arxiv.org/abs/2402.06937)\n",
      "39. [ChemLLM: A Chemical Large Language Model](https://arxiv.org/abs/2402.06852)\n",
      "40. [Reasoning Grasping via Multimodal Large Language Model](https://arxiv.org/abs/2402.06798)\n",
      "41. [Private Knowledge Sharing in Distributed Learning: A Survey](https://arxiv.org/abs/2402.06682)\n",
      "42. [Comparative Analysis of ImageNet Pre-Trained Deep Learning Models and DINOv2 in Medical Imaging Classification](https://arxiv.org/abs/2402.07595)\n",
      "43. [Re-DiffiNet: Modeling discrepancies in tumor segmentation using diffusion](https://arxiv.org/abs/2402.07354)\n",
      "44. [Semi-Mamba-UNet: Pixel-Level Contrastive Cross-Supervised Visual Mamba-based UNet for Semi-Supervised Medical Image Segmentation](https://arxiv.org/abs/2402.07245)\n"
     ]
    }
   ],
   "source": [
    "def convert_text_in_file(file_path, cnt=1):\n",
    "    output_lines = []\n",
    "\n",
    "    with open(file_path, 'r') as file:\n",
    "        for i, line in enumerate(file):\n",
    "            url, title = line.strip().split(\" | \")\n",
    "            paper_title = title.split(\"] \")[1]\n",
    "            formatted_line = f\"{i+cnt+1}. [{paper_title}]({url})\"\n",
    "            output_lines.append(formatted_line)\n",
    "            \n",
    "\n",
    "    return \"\\n\".join(output_lines)\n",
    "\n",
    "\n",
    "# 请将 'path_to_your_file.txt' 替换为你的txt文件路径\n",
    "file_path = 'tmp.txt'\n",
    "converted_text = convert_text_in_file(file_path, cnt=19)\n",
    "print(converted_text)"
   ]
  },
  {
   "cell_type": "code",
   "execution_count": null,
   "metadata": {},
   "outputs": [],
   "source": []
  }
 ],
 "metadata": {
  "kernelspec": {
   "display_name": "pyt38",
   "language": "python",
   "name": "python3"
  },
  "language_info": {
   "codemirror_mode": {
    "name": "ipython",
    "version": 3
   },
   "file_extension": ".py",
   "mimetype": "text/x-python",
   "name": "python",
   "nbconvert_exporter": "python",
   "pygments_lexer": "ipython3",
   "version": "3.9.18"
  },
  "orig_nbformat": 4
 },
 "nbformat": 4,
 "nbformat_minor": 2
}
