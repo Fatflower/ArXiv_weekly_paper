{
 "cells": [
  {
   "cell_type": "code",
   "execution_count": 6,
   "metadata": {},
   "outputs": [],
   "source": [
    "def convert_text_in_file(file_path, cnt=1):\n",
    "    output_lines = []\n",
    "\n",
    "    with open(file_path, 'r') as file:\n",
    "        for i, line in enumerate(file):\n",
    "            url, title = line.strip().split(\" | \")\n",
    "            paper_title = title.split(\"] \")[1]\n",
    "            formatted_line = f\"{i+cnt+1}. [{paper_title}]({url})\"\n",
    "            output_lines.append(formatted_line)\n",
    "            \n",
    "\n",
    "    return \"\\n\".join(output_lines)\n",
    "\n",
    "def result_write_md(markdown_file, output_lines):\n",
    "    with open(markdown_file, 'a') as m_file:\n",
    "        m_file.seek(0, 2)\n",
    "        if m_file.tell() > 0:\n",
    "            m_file.write('\\n')\n",
    "        m_file.write(output_lines)\n",
    "    print(\"Susseccfully write to file!\")\n",
    "\n",
    "\n"
   ]
  },
  {
   "cell_type": "code",
   "execution_count": 7,
   "metadata": {},
   "outputs": [
    {
     "name": "stdout",
     "output_type": "stream",
     "text": [
      "The total number of lines in the file is: 28\n"
     ]
    }
   ],
   "source": [
    "def count_lines_in_file(file_path):\n",
    "    with open(file_path, 'r', encoding='utf-8') as file:\n",
    "        lines = file.readlines()\n",
    "        return len(lines)\n",
    "file_path = '2024/35_week.md'\n",
    "total_lines = count_lines_in_file(file_path)\n",
    "print(f\"The total number of lines in the file is: {total_lines}\")"
   ]
  },
  {
   "cell_type": "code",
   "execution_count": 8,
   "metadata": {},
   "outputs": [
    {
     "name": "stdout",
     "output_type": "stream",
     "text": [
      "29. [Foundation Models for Music: A Survey](https://arxiv.org/abs/2408.14340)\n",
      "30. [LSM-YOLO: A Compact and Effective ROI Detector for Medical Detection](https://arxiv.org/abs/2408.14087)\n",
      "31. [Let Video Teaches You More: Video-to-Image Knowledge Distillation using DEtection TRansformer for Medical Video Lesion Detection](https://arxiv.org/abs/2408.14051)\n",
      "32. [Avatar Concept Slider: Manipulate Concepts In Your Human Avatar With Fine-grained Control](https://arxiv.org/abs/2408.13995)\n",
      "33. [Dual-CBA: Improving Online Continual Learning via Dual Continual Bias Adaptors from a Bi-level Optimization Perspective](https://arxiv.org/abs/2408.13991)\n",
      "34. [FusionSAM: Latent Space driven Segment Anything Model for Multimodal Fusion and Segmentation](https://arxiv.org/abs/2408.13980)\n",
      "35. [LowCLIP: Adapting the CLIP Model Architecture for Low-Resource Languages in Multimodal Image Retrieval Task](https://arxiv.org/abs/2408.13909)\n",
      "36. [Evaluating Attribute Comprehension in Large Vision-Language Models](https://arxiv.org/abs/2408.13898)\n",
      "37. [PropSAM: A Propagation-Based Model for Segmenting Any 3D Objects in Multi-Modal Medical Images](https://arxiv.org/abs/2408.13836)\n",
      "38. [Biomedical Large Languages Models Seem not to be Superior to Generalist Models on Unseen Medical Data](https://arxiv.org/abs/2408.13833)\n",
      "39. [Localization and Expansion: A Decoupled Framework for Point Cloud Few-shot Semantic Segmentation](https://arxiv.org/abs/2408.13752)\n",
      "40. [MSVM-UNet: Multi-Scale Vision Mamba UNet for Medical Image Segmentation](https://arxiv.org/abs/2408.13735)\n",
      "41. [CNN-Transformer Rectified Collaborative Learning for Medical Image Segmentation](https://arxiv.org/abs/2408.13698)\n",
      "42. [Studying the Effect of Audio Filters in Pre-Trained Models for Environmental Sound Classification](https://arxiv.org/abs/2408.13644)\n",
      "43. [Size Aware Cross-shape Scribble Supervision for Medical Image Segmentation](https://arxiv.org/abs/2408.13639)\n",
      "44. [SpeechCraft: A Fine-grained Expressive Speech Dataset with Natural Language Description](https://arxiv.org/abs/2408.13608)\n",
      "45. [A Practitioner's Guide to Continual Multimodal Pretraining](https://arxiv.org/abs/2408.14471)\n",
      "46. [Attend-Fusion: Efficient Audio-Visual Fusion for Video Classification](https://arxiv.org/abs/2408.14441)\n",
      "47. [Explainable Concept Generation through Vision-Language Preference Learning](https://arxiv.org/abs/2408.13438)\n"
     ]
    }
   ],
   "source": [
    "# 请将 'path_to_your_file.txt' 替换为你的txt文件路径\n",
    "file_path_tmp = 'tmp.txt'\n",
    "converted_text = convert_text_in_file(file_path_tmp, cnt=total_lines)\n",
    "\n",
    "print(converted_text)"
   ]
  },
  {
   "cell_type": "code",
   "execution_count": 9,
   "metadata": {},
   "outputs": [
    {
     "name": "stdout",
     "output_type": "stream",
     "text": [
      "Susseccfully write to file!\n"
     ]
    }
   ],
   "source": [
    "# 写入Readme.md文件\n",
    "markdown_file = 'README.md'\n",
    "output_lines = converted_text\n",
    "result_write_md(markdown_file, output_lines)\n",
    "\n"
   ]
  },
  {
   "cell_type": "code",
   "execution_count": 10,
   "metadata": {},
   "outputs": [
    {
     "name": "stdout",
     "output_type": "stream",
     "text": [
      "Susseccfully write to file!\n"
     ]
    }
   ],
   "source": [
    "# 写入本周的markdown文件\n",
    "\n",
    "output_lines = converted_text\n",
    "result_write_md(file_path, output_lines)"
   ]
  }
 ],
 "metadata": {
  "kernelspec": {
   "display_name": "Python 3.8.13 ('pyt38')",
   "language": "python",
   "name": "python3"
  },
  "language_info": {
   "codemirror_mode": {
    "name": "ipython",
    "version": 3
   },
   "file_extension": ".py",
   "mimetype": "text/x-python",
   "name": "python",
   "nbconvert_exporter": "python",
   "pygments_lexer": "ipython3",
   "version": "3.8.13"
  },
  "orig_nbformat": 4,
  "vscode": {
   "interpreter": {
    "hash": "176c92cd5e5485b42e3e73d2f25e60c2ed8f24d584687c4dae8d36d44ade605d"
   }
  }
 },
 "nbformat": 4,
 "nbformat_minor": 2
}
