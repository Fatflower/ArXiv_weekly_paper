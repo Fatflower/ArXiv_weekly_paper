{
 "cells": [
  {
   "cell_type": "code",
   "execution_count": 1,
   "metadata": {},
   "outputs": [],
   "source": [
    "def convert_text_in_file(file_path, cnt=1):\n",
    "    output_lines = []\n",
    "\n",
    "    with open(file_path, 'r') as file:\n",
    "        for i, line in enumerate(file):\n",
    "            url, title = line.strip().split(\" | \")\n",
    "            paper_title = title.split(\"] \")[1]\n",
    "            formatted_line = f\"{i+cnt+1}. [{paper_title}]({url})\"\n",
    "            output_lines.append(formatted_line)\n",
    "            \n",
    "\n",
    "    return \"\\n\".join(output_lines)\n",
    "\n",
    "def result_write_md(markdown_file, output_lines):\n",
    "    with open(markdown_file, 'a') as m_file:\n",
    "        m_file.seek(0, 2)\n",
    "        if m_file.tell() > 0:\n",
    "            m_file.write('\\n')\n",
    "        m_file.write(output_lines)\n",
    "    print(\"Susseccfully write to file!\")\n",
    "\n",
    "\n"
   ]
  },
  {
   "cell_type": "code",
   "execution_count": 2,
   "metadata": {},
   "outputs": [
    {
     "name": "stdout",
     "output_type": "stream",
     "text": [
      "The total number of lines in the file is: 21\n"
     ]
    }
   ],
   "source": [
    "def count_lines_in_file(file_path):\n",
    "    with open(file_path, 'r', encoding='utf-8') as file:\n",
    "        lines = file.readlines()\n",
    "        return len(lines)\n",
    "file_path = '2024/36_week.md'\n",
    "total_lines = count_lines_in_file(file_path)\n",
    "print(f\"The total number of lines in the file is: {total_lines}\")"
   ]
  },
  {
   "cell_type": "code",
   "execution_count": 3,
   "metadata": {},
   "outputs": [
    {
     "name": "stdout",
     "output_type": "stream",
     "text": [
      "22. [Accurate Forgetting for All-in-One Image Restoration Model](https://arxiv.org/abs/2409.00685)\n",
      "23. [YOLOO: You Only Learn from Others Once](https://arxiv.org/abs/2409.00618)\n",
      "24. [Sparse Mamba: Reinforcing Controllability In Structural State Space Models](https://arxiv.org/abs/2409.00563)\n",
      "25. [FADE: Few-shot/zero-shot Anomaly Detection Engine using Large Vision-Language Model](https://arxiv.org/abs/2409.00556)\n",
      "26. [Data Augmentation for Image Classification using Generative AI](https://arxiv.org/abs/2409.00547)\n",
      "27. [How Does Diverse Interpretability of Textual Prompts Impact Medical Vision-Language Zero-Shot Tasks?](https://arxiv.org/abs/2409.00543)\n",
      "28. [Incremental Open-set Domain Adaptation](https://arxiv.org/abs/2409.00530)\n",
      "29. [A Survey for Large Language Models in Biomedicine](https://arxiv.org/abs/2409.00133)\n",
      "30. [Vision-Language and Large Language Model Performance in Gastroenterology: GPT, Claude, Llama, Phi, Mistral, Gemma, and Quantized Models](https://arxiv.org/abs/2409.00084)\n",
      "31. [HiPrompt: Tuning-free Higher-Resolution Generation with Hierarchical MLLM Prompts](https://arxiv.org/abs/2409.02919)\n",
      "32. [LongLLaVA: Scaling Multi-modal LLMs to 1000 Images Efficiently via Hybrid Architecture](https://arxiv.org/abs/2409.02889)\n",
      "33. [Benchmarking Spurious Bias in Few-Shot Image Classifiers](https://arxiv.org/abs/2409.02882)\n",
      "34. [Oops, I Sampled it Again: Reinterpreting Confidence Intervals in Few-Shot Learning](https://arxiv.org/abs/2409.02850)\n",
      "35. [Towards a Unified View of Preference Learning for Large Language Models: A Survey](https://arxiv.org/abs/2409.02795)\n",
      "36. [A Comparative Study of Pre-training and Self-training](https://arxiv.org/abs/2409.02751)\n",
      "37. [MedUnA: Language guided Unsupervised Adaptation of Vision-Language Models for Medical Image Classification](https://arxiv.org/abs/2409.02729)\n",
      "38. [Deconfounded Causality-aware Parameter-Efficient Fine-Tuning for Problem-Solving Improvement of LLMs](https://arxiv.org/abs/2409.02686)\n",
      "39. [LLM-Assisted Visual Analytics: Opportunities and Challenges](https://arxiv.org/abs/2409.02691)\n",
      "40. [Few-shot Multi-Task Learning of Linear Invariant Features with Meta Subspace Pursuit](https://arxiv.org/abs/2409.02708)\n",
      "41. [Standing on the Shoulders of Giants: Reprogramming Visual-Language Model for General Deepfake Detection](https://arxiv.org/abs/2409.02664)\n",
      "42. [A Medical Multimodal Large Language Model for Pediatric Pneumonia](https://arxiv.org/abs/2409.02608)\n",
      "43. [Evaluation Study on SAM 2 for Class-agnostic Instance-level Segmentation](https://arxiv.org/abs/2409.02567)\n",
      "44. [Vision-Language Navigation with Continual Learning](https://arxiv.org/abs/2409.02561)\n",
      "45. [SG-MIM: Structured Knowledge Guided Efficient Pre-training for Dense Prediction](https://arxiv.org/abs/2409.02513)\n",
      "46. [Training-free Color-Style Disentanglement for Constrained Text-to-Image Synthesis](https://arxiv.org/abs/2409.02429)\n",
      "47. [Neural Dynamics Model of Visual Decision-Making: Learning from Human Experts](https://arxiv.org/abs/2409.02390)\n",
      "48. [How to Determine the Preferred Image Distribution of a Black-Box Vision-Language Model?](https://arxiv.org/abs/2409.02253)\n",
      "49. [OLMoE: Open Mixture-of-Experts Language Models](https://arxiv.org/abs/2409.02060)\n",
      "50. [PMT-MAE: Dual-Branch Self-Supervised Learning with Distillation for Efficient Point Cloud Classification](https://arxiv.org/abs/2409.02007)\n",
      "51. [Large Language Models for Anomaly and Out-of-Distribution Detection: A Survey](https://arxiv.org/abs/2409.01980)\n",
      "52. [Efficient LLM Context Distillation](https://arxiv.org/abs/2409.01930)\n",
      "53. [Towards Generative Class Prompt Learning for Few-shot Visual Recognition](https://arxiv.org/abs/2409.01835)\n",
      "54. [When Does Visual Prompting Outperform Linear Probing for Vision-Language Models? A Likelihood Perspective](https://arxiv.org/abs/2409.01821)\n",
      "55. [Shuffle Mamba: State Space Models with Random Shuffle for Multi-Modal Image Fusion](https://arxiv.org/abs/2409.01728)\n",
      "56. [LSSF-Net: Lightweight Segmentation with Self-Awareness, Spatial Attention, and Focal Modulation](https://arxiv.org/abs/2409.01572)\n",
      "57. [CT-SDM: A Sampling Diffusion Model for Sparse-View CT Reconstruction across All Sampling Rates](https://arxiv.org/abs/2409.01571)\n",
      "58. [Revisiting SMoE Language Models by Evaluating Inefficiencies with Task Specific Expert Pruning](https://arxiv.org/abs/2409.01483)\n",
      "59. [Towards General Industrial Intelligence: A Survey on IIoT-Enhanced Continual Large Models](https://arxiv.org/abs/2409.01207)\n",
      "60. [Logit Scaling for Out-of-Distribution Detection](https://arxiv.org/abs/2409.01175)\n",
      "61. [Diffusion-Driven Data Replay: A Novel Approach to Combat Forgetting in Federated Class Continual Learning](https://arxiv.org/abs/2409.01128)\n",
      "62. [SOOD-ImageNet: a Large-Scale Dataset for Semantic Out-Of-Distribution Image Classification and Semantic Segmentation](https://arxiv.org/abs/2409.01109)\n",
      "63. [Unleashing the Power of Task-Specific Directions in Parameter Efficient Fine-tuning](https://arxiv.org/abs/2409.01035)\n",
      "64. [MedSAM-U: Uncertainty-Guided Auto Multi-Prompt Adaptation for Reliable MedSAM](https://arxiv.org/abs/2409.00924)\n",
      "65. [Modeling Text-Label Alignment for Hierarchical Text Classification](https://arxiv.org/abs/2409.00788)\n",
      "66. [Enhancing Remote Sensing Vision-Language Models for Zero-Shot Scene Classification](https://arxiv.org/abs/2409.00698)\n",
      "67. [Curriculum Prompting Foundation Models for Medical Image Segmentation](https://arxiv.org/abs/2409.00695)\n"
     ]
    }
   ],
   "source": [
    "# 请将 'path_to_your_file.txt' 替换为你的txt文件路径\n",
    "file_path_tmp = 'tmp.txt'\n",
    "converted_text = convert_text_in_file(file_path_tmp, cnt=total_lines)\n",
    "\n",
    "print(converted_text)"
   ]
  },
  {
   "cell_type": "code",
   "execution_count": 4,
   "metadata": {},
   "outputs": [
    {
     "name": "stdout",
     "output_type": "stream",
     "text": [
      "Susseccfully write to file!\n"
     ]
    }
   ],
   "source": [
    "# 写入Readme.md文件\n",
    "markdown_file = 'README.md'\n",
    "output_lines = converted_text\n",
    "result_write_md(markdown_file, output_lines)\n",
    "\n"
   ]
  },
  {
   "cell_type": "code",
   "execution_count": 5,
   "metadata": {},
   "outputs": [
    {
     "name": "stdout",
     "output_type": "stream",
     "text": [
      "Susseccfully write to file!\n"
     ]
    }
   ],
   "source": [
    "# 写入本周的markdown文件\n",
    "\n",
    "output_lines = converted_text\n",
    "result_write_md(file_path, output_lines)"
   ]
  }
 ],
 "metadata": {
  "kernelspec": {
   "display_name": "Python 3.8.13 ('pyt38')",
   "language": "python",
   "name": "python3"
  },
  "language_info": {
   "codemirror_mode": {
    "name": "ipython",
    "version": 3
   },
   "file_extension": ".py",
   "mimetype": "text/x-python",
   "name": "python",
   "nbconvert_exporter": "python",
   "pygments_lexer": "ipython3",
   "version": "3.8.13"
  },
  "orig_nbformat": 4,
  "vscode": {
   "interpreter": {
    "hash": "176c92cd5e5485b42e3e73d2f25e60c2ed8f24d584687c4dae8d36d44ade605d"
   }
  }
 },
 "nbformat": 4,
 "nbformat_minor": 2
}
