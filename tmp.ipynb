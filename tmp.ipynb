{
 "cells": [
  {
   "cell_type": "code",
   "execution_count": 2,
   "metadata": {},
   "outputs": [
    {
     "name": "stdout",
     "output_type": "stream",
     "text": [
      "14. [DreamLIP: Language-Image Pre-training with Long Captions](https://arxiv.org/abs/2403.17007)\n",
      "15. [Be Yourself: Bounded Attention for Multi-Subject Text-to-Image Generation](https://arxiv.org/abs/2403.16990)\n",
      "16. [Hyperspherical Classification with Dynamic Label-to-Prototype Assignment](https://arxiv.org/abs/2403.16937)\n",
      "17. [Clustering Propagation for Universal Medical Image Segmentation](https://arxiv.org/abs/2403.16646)\n",
      "18. [SegICL: A Universal In-context Learning Framework for Enhanced Segmentation in Medical Imaging](https://arxiv.org/abs/2403.16578)\n",
      "19. [LLMs Are Few-Shot In-Context Low-Resource Language Learners](https://arxiv.org/abs/2403.16512)\n",
      "20. [Learning To Guide Human Decision Makers With Vision-Language Models](https://arxiv.org/abs/2403.16501)\n",
      "21. [FlashEval: Towards Fast and Accurate Evaluation of Text-to-image Diffusion Generative Models](https://arxiv.org/abs/2403.16379)\n",
      "22. [Large Language Models in Biomedical and Health Informatics: A Bibliometric Review](https://arxiv.org/abs/2403.16303)\n",
      "23. [Exemplar-Free Class Incremental Learning via Incremental Representation](https://arxiv.org/abs/2403.16221)\n",
      "24. [ALoRA: Allocating Low-Rank Adaptation for Fine-tuning Large Language Models](https://arxiv.org/abs/2403.16187)\n",
      "25. [Enhancing Visual Continual Learning with Language-Guided Supervision](https://arxiv.org/abs/2403.16124)\n",
      "26. [Leveraging Zero-Shot Prompting for Efficient Language Model Distillation](https://arxiv.org/abs/2403.15886)\n",
      "27. [G-ACIL: Analytic Learning for Exemplar-Free Generalized Class Incremental Learning](https://arxiv.org/abs/2403.15706)\n",
      "28. [RetiGen: A Framework for Generalized Retinal Diagnosis Using Multi-View Fundus Images](https://arxiv.org/abs/2403.15647)\n",
      "29. [FairerCLIP: Debiasing CLIP's Zero-Shot Predictions using Functions in RKHSs](https://arxiv.org/abs/2403.15593)\n",
      "30. [MedPromptX: Grounded Multimodal Prompting for Chest X-ray Diagnosis](https://arxiv.org/abs/2403.15585)\n",
      "31. [Learning to Infer Generative Template Programs for Visual Concepts](https://arxiv.org/abs/2403.15476)\n",
      "32. [Unveiling the Anomalies in an Ever-Changing World: A Benchmark for Pixel-Level Anomaly Detection in Continual Learning](https://arxiv.org/abs/2403.15463)\n",
      "33. [What Are Tools Anyway? A Survey from the Language Model Perspective](https://arxiv.org/abs/2403.15452)\n",
      "34. [RSTAR: Rotational Streak Artifact Reduction in 4D CBCT using Separable and Circular Convolutions](https://arxiv.org/abs/2403.16361)\n",
      "35. [Supervised Learning via Ensembles of Diverse Functional Representations: the Functional Voting Classifier](https://arxiv.org/abs/2403.15778)\n",
      "36. [3D-TransUNet for Brain Metastases Segmentation in the BraTS2023 Challenge](https://arxiv.org/abs/2403.15735)\n"
     ]
    }
   ],
   "source": [
    "def convert_text_in_file(file_path, cnt=1):\n",
    "    output_lines = []\n",
    "\n",
    "    with open(file_path, 'r') as file:\n",
    "        for i, line in enumerate(file):\n",
    "            url, title = line.strip().split(\" | \")\n",
    "            paper_title = title.split(\"] \")[1]\n",
    "            formatted_line = f\"{i+cnt+1}. [{paper_title}]({url})\"\n",
    "            output_lines.append(formatted_line)\n",
    "            \n",
    "\n",
    "    return \"\\n\".join(output_lines)\n",
    "\n",
    "\n",
    "# 请将 'path_to_your_file.txt' 替换为你的txt文件路径\n",
    "file_path = 'tmp.txt'\n",
    "converted_text = convert_text_in_file(file_path, cnt=13)\n",
    "print(converted_text)"
   ]
  },
  {
   "cell_type": "code",
   "execution_count": null,
   "metadata": {},
   "outputs": [],
   "source": []
  }
 ],
 "metadata": {
  "kernelspec": {
   "display_name": "pyt38",
   "language": "python",
   "name": "python3"
  },
  "language_info": {
   "codemirror_mode": {
    "name": "ipython",
    "version": 3
   },
   "file_extension": ".py",
   "mimetype": "text/x-python",
   "name": "python",
   "nbconvert_exporter": "python",
   "pygments_lexer": "ipython3",
   "version": "3.8.13"
  },
  "orig_nbformat": 4
 },
 "nbformat": 4,
 "nbformat_minor": 2
}
