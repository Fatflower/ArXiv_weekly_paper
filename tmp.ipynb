{
 "cells": [
  {
   "cell_type": "code",
   "execution_count": 2,
   "metadata": {},
   "outputs": [],
   "source": [
    "def convert_text_in_file(file_path, cnt=1):\n",
    "    output_lines = []\n",
    "\n",
    "    with open(file_path, 'r') as file:\n",
    "        for i, line in enumerate(file):\n",
    "            url, title = line.strip().split(\" | \")\n",
    "            paper_title = title.split(\"] \")[1]\n",
    "            formatted_line = f\"{i+cnt+1}. [{paper_title}]({url})\"\n",
    "            output_lines.append(formatted_line)\n",
    "            \n",
    "\n",
    "    return \"\\n\".join(output_lines)\n",
    "\n",
    "def result_write_md(markdown_file, output_lines):\n",
    "    with open(markdown_file, 'a') as m_file:\n",
    "        m_file.seek(0, 2)\n",
    "        if m_file.tell() > 0:\n",
    "            m_file.write('\\n')\n",
    "        m_file.write(output_lines)\n",
    "    print(\"Susseccfully write to file!\")\n",
    "\n",
    "\n"
   ]
  },
  {
   "cell_type": "code",
   "execution_count": 3,
   "metadata": {},
   "outputs": [
    {
     "name": "stdout",
     "output_type": "stream",
     "text": [
      "34. [How Far Are We to GPT-4V? Closing the Gap to Commercial Multimodal Models with Open-Source Suites](https://arxiv.org/abs/2404.16821)\n",
      "35. [Meta-Transfer Derm-Diagnosis: Exploring Few-Shot Learning and Transfer Learning for Skin Disease Classification in Long-Tail Distribution](https://arxiv.org/abs/2404.16814)\n",
      "36. [AAPL: Adding Attributes to Prompt Learning for Vision-Language Models](https://arxiv.org/abs/2404.16804)\n",
      "37. [Weak-to-Strong Extrapolation Expedites Alignment](https://arxiv.org/abs/2404.16792)\n",
      "38. [SEED-Bench-2-Plus: Benchmarking Multimodal Large Language Models with Text-Rich Visual Comprehension](https://arxiv.org/abs/2404.16790)\n",
      "39. [Continual Learning of Large Language Models: A Comprehensive Survey](https://arxiv.org/abs/2404.16789)\n",
      "40. [Modeling Selective Feature Attention for Representation-based Siamese Text Matching](https://arxiv.org/abs/2404.16776)\n",
      "41. [Prefix Text as a Yarn: Eliciting Non-English Alignment in Foundation Language Model](https://arxiv.org/abs/2404.16766)\n",
      "42. [EmoVIT: Revolutionizing Emotion Insights with Visual Instruction Tuning](https://arxiv.org/abs/2404.16670)\n",
      "43. [DAVE -- A Detect-and-Verify Paradigm for Low-Shot Counting](https://arxiv.org/abs/2404.16622)\n",
      "44. [MuseumMaker: Continual Style Customization without Catastrophic Forgetting](https://arxiv.org/abs/2404.16612)\n",
      "45. [SFMViT: SlowFast Meet ViT in Chaotic World](https://arxiv.org/abs/2404.16609)\n",
      "46. [Revisiting Relevance Feedback for CLIP-based Interactive Image Retrieval](https://arxiv.org/abs/2404.16398)\n",
      "47. [Efficiency in Focus: LayerNorm as a Catalyst for Fine-tuning Medical Visual Language Pre-trained Models](https://arxiv.org/abs/2404.16385)\n",
      "48. [List Items One by One: A New Data Source and Learning Paradigm for Multimodal LLMs](https://arxiv.org/abs/2404.16375)\n",
      "49. [Multimodal Information Interaction for Medical Image Segmentation](https://arxiv.org/abs/2404.16371)\n",
      "50. [Integration of Mixture of Experts and Multimodal Generative AI in Internet of Vehicles: A Survey](https://arxiv.org/abs/2404.16356)\n",
      "51. [Dual Expert Distillation Network for Generalized Zero-Shot Learning](https://arxiv.org/abs/2404.16348)\n",
      "52. [Training-Free Unsupervised Prompt for Vision-Language Models](https://arxiv.org/abs/2404.16339)\n",
      "53. [IMWA: Iterative Model Weight Averaging Benefits Class-Imbalanced Learning Tasks](https://arxiv.org/abs/2404.16331)\n",
      "54. [Semantic Segmentation Refiner for Ultrasound Applications with Zero-Shot Foundation Models](https://arxiv.org/abs/2404.16325)\n",
      "55. [TI2V-Zero: Zero-Shot Image Conditioning for Text-to-Video Diffusion Models](https://arxiv.org/abs/2404.16306)\n",
      "56. [Semantically consistent Video-to-Audio Generation using Multimodal Language Large Model](https://arxiv.org/abs/2404.16305)\n",
      "57. [Style Adaptation for Domain-adaptive Semantic Segmentation](https://arxiv.org/abs/2404.16301)\n",
      "58. [When Fuzzing Meets LLMs: Challenges and Opportunities](https://arxiv.org/abs/2404.16297)\n",
      "59. [Towards Efficient Patient Recruitment for Clinical Trials: Application of a Prompt-Based Learning Model](https://arxiv.org/abs/2404.16198)\n",
      "60. [Fusion of Domain-Adapted Vision and Language Models for Medical Visual Question Answering](https://arxiv.org/abs/2404.16192)\n",
      "61. [Quantitative Characterization of Retinal Features in Translated OCTA](https://arxiv.org/abs/2404.16133)\n",
      "62. [FairDeDup: Detecting and Mitigating Vision-Language Fairness Disparities in Semantic Dataset Deduplication](https://arxiv.org/abs/2404.16123)\n",
      "63. [Interactive Visual Learning for Stable Diffusion](https://arxiv.org/abs/2404.16069)\n",
      "64. [A Survey on Generative AI and LLM for Video Generation, Understanding, and Streaming](https://arxiv.org/abs/2404.16038)\n",
      "65. [Cantor: Inspiring Multimodal Chain-of-Thought of MLLM](https://arxiv.org/abs/2404.16033)\n",
      "66. [MoDE: CLIP Data Experts via Clustering](https://arxiv.org/abs/2404.16030)\n",
      "67. [Boosting Architectural Generation via Prompts: Report](https://arxiv.org/abs/2404.15971)\n",
      "68. [Mammo-CLIP: Leveraging Contrastive Language-Image Pre-training (CLIP) for Enhanced Breast Cancer Diagnosis with Multi-view Mammography](https://arxiv.org/abs/2404.15946)\n",
      "69. [A Comprehensive Survey on Evaluating Large Language Model Applications in the Medical Industry](https://arxiv.org/abs/2404.15777)\n",
      "70. [ChEX: Interactive Localization and Region Description in Chest X-rays](https://arxiv.org/abs/2404.15770)\n",
      "71. [No Train but Gain: Language Arithmetic for training-free Language Adapters enhancement](https://arxiv.org/abs/2404.15737)\n",
      "72. [Beyond Chain-of-Thought: A Survey of Chain-of-X Paradigms for LLMs](https://arxiv.org/abs/2404.15676)\n",
      "73. [HybridVC: Efficient Voice Style Conversion with Text and Audio Prompts](https://arxiv.org/abs/2404.15637)\n",
      "74. [A Survey of Deep Long-Tail Classification Advancements](https://arxiv.org/abs/2404.15593)\n",
      "75. [MiM: Mask in Mask Self-Supervised Pre-Training for 3D Medical Image Analysis](https://arxiv.org/abs/2404.15580)\n"
     ]
    }
   ],
   "source": [
    "# 请将 'path_to_your_file.txt' 替换为你的txt文件路径\n",
    "file_path = 'tmp.txt'\n",
    "converted_text = convert_text_in_file(file_path, cnt=33)\n",
    "\n",
    "print(converted_text)"
   ]
  },
  {
   "cell_type": "code",
   "execution_count": 4,
   "metadata": {},
   "outputs": [
    {
     "name": "stdout",
     "output_type": "stream",
     "text": [
      "Susseccfully write to file!\n"
     ]
    }
   ],
   "source": [
    "# 写入Readme.md文件\n",
    "markdown_file = 'README.md'\n",
    "output_lines = converted_text\n",
    "result_write_md(markdown_file, output_lines)\n",
    "\n"
   ]
  },
  {
   "cell_type": "code",
   "execution_count": 5,
   "metadata": {},
   "outputs": [
    {
     "name": "stdout",
     "output_type": "stream",
     "text": [
      "Susseccfully write to file!\n"
     ]
    }
   ],
   "source": [
    "# 写入本周的markdown文件\n",
    "markdown_file = '2024/17_week.md'\n",
    "output_lines = converted_text\n",
    "result_write_md(markdown_file, output_lines)"
   ]
  }
 ],
 "metadata": {
  "kernelspec": {
   "display_name": "pyt38",
   "language": "python",
   "name": "python3"
  },
  "language_info": {
   "codemirror_mode": {
    "name": "ipython",
    "version": 3
   },
   "file_extension": ".py",
   "mimetype": "text/x-python",
   "name": "python",
   "nbconvert_exporter": "python",
   "pygments_lexer": "ipython3",
   "version": "3.8.13"
  },
  "orig_nbformat": 4
 },
 "nbformat": 4,
 "nbformat_minor": 2
}
