{
 "cells": [
  {
   "cell_type": "code",
   "execution_count": 1,
   "metadata": {},
   "outputs": [],
   "source": [
    "def convert_text_in_file(file_path, cnt=1):\n",
    "    output_lines = []\n",
    "\n",
    "    with open(file_path, 'r') as file:\n",
    "        for i, line in enumerate(file):\n",
    "            url, title = line.strip().split(\" | \")\n",
    "            paper_title = title.split(\"] \")[1]\n",
    "            formatted_line = f\"{i+cnt+1}. [{paper_title}]({url})\"\n",
    "            output_lines.append(formatted_line)\n",
    "            \n",
    "\n",
    "    return \"\\n\".join(output_lines)\n",
    "\n",
    "def result_write_md(markdown_file, output_lines):\n",
    "    with open(markdown_file, 'a') as m_file:\n",
    "        m_file.seek(0, 2)\n",
    "        if m_file.tell() > 0:\n",
    "            m_file.write('\\n')\n",
    "        m_file.write(output_lines)\n",
    "    print(\"Susseccfully write to file!\")\n",
    "\n",
    "\n"
   ]
  },
  {
   "cell_type": "code",
   "execution_count": 2,
   "metadata": {},
   "outputs": [
    {
     "name": "stdout",
     "output_type": "stream",
     "text": [
      "The total number of lines in the file is: 16\n"
     ]
    }
   ],
   "source": [
    "def count_lines_in_file(file_path):\n",
    "    with open(file_path, 'r', encoding='utf-8') as file:\n",
    "        lines = file.readlines()\n",
    "        return len(lines)\n",
    "file_path = '2024/30_week.md'\n",
    "total_lines = count_lines_in_file(file_path)\n",
    "print(f\"The total number of lines in the file is: {total_lines}\")"
   ]
  },
  {
   "cell_type": "code",
   "execution_count": 3,
   "metadata": {},
   "outputs": [
    {
     "name": "stdout",
     "output_type": "stream",
     "text": [
      "17. [AdaCLIP: Adapting CLIP with Hybrid Learnable Prompts for Zero-Shot Anomaly Detection](https://arxiv.org/abs/2407.15795)\n",
      "18. [CLIP with Generative Latent Replay: a Strong Baseline for Incremental Learning](https://arxiv.org/abs/2407.15793)\n",
      "19. [Zero-Shot Embeddings Inform Learning and Forgetting with Vision-Language Encoders](https://arxiv.org/abs/2407.15731)\n",
      "20. [SETTP: Style Extraction and Tunable Inference via Dual-level Transferable Prompt Learning](https://arxiv.org/abs/2407.15556)\n",
      "21. [Pre-Training and Prompting for Few-Shot Node Classification on Text-Attributed Graphs](https://arxiv.org/abs/2407.15431)\n",
      "22. [Enhancing Retinal Disease Classification from OCTA Images via Active Learning Techniques](https://arxiv.org/abs/2407.15293)\n",
      "23. [D$^4$M: Dataset Distillation via Disentangled Diffusion Model](https://arxiv.org/abs/2407.15138)\n",
      "24. [CBCTLiTS: A Synthetic, Paired CBCT/CT Dataset For Segmentation And Style Transfer](https://arxiv.org/abs/2407.14853)\n",
      "25. [FairViT: Fair Vision Transformer via Adaptive Masking](https://arxiv.org/abs/2407.14799)\n",
      "26. [Compact Language Models via Pruning and Knowledge Distillation](https://arxiv.org/abs/2407.14679)\n",
      "27. [On Learning Discriminative Features from Synthesized Data for Self-Supervised Fine-Grained Visual Recognition](https://arxiv.org/abs/2407.14676)\n",
      "28. [Learning Visual Grounding from Generative Vision and Language Model](https://arxiv.org/abs/2407.14563)\n",
      "29. [Addressing Imbalance for Class Incremental Learning in Medical Image Classification](https://arxiv.org/abs/2407.13768)\n",
      "30. [Aggregated Attributions for Explanatory Analysis of 3D Segmentation Models](https://arxiv.org/abs/2407.16653)\n",
      "31. [Imperfect Vision Encoders: Efficient and Robust Tuning for Vision-Language Models](https://arxiv.org/abs/2407.16526)\n",
      "32. [Navigating Uncertainty in Medical Image Segmentation](https://arxiv.org/abs/2407.16367)\n",
      "33. [Optimizing Robotic Manipulation with Decision-RWKV: A Recurrent Sequence Modeling Approach for Lifelong Learning](https://arxiv.org/abs/2407.16306)\n",
      "34. [Multimodal Unlearnable Examples: Protecting Data against Multimodal Contrastive Learning](https://arxiv.org/abs/2407.16307)\n",
      "35. [HSVLT: Hierarchical Scale-Aware Vision-Language Transformer for Multi-Label Image Classification](https://arxiv.org/abs/2407.16244)\n",
      "36. [A Survey of Explainable Artificial Intelligence (XAI) in Financial Time Series Forecasting](https://arxiv.org/abs/2407.15909)\n",
      "37. [Craft: Cross-modal Aligned Features Improve Robustness of Prompt Tuning](https://arxiv.org/abs/2407.15894)\n",
      "38. [A Survey on Trustworthiness in Foundation Models for Medical Image Analysis](https://arxiv.org/abs/2407.15851)\n",
      "39. [Towards Latent Masked Image Modeling for Self-Supervised Visual Representation Learning](https://arxiv.org/abs/2407.15837)\n",
      "40. [AbdomenAtlas: A Large-Scale, Detailed-Annotated, & Multi-Center Dataset for Efficient Transfer Learning and Open Algorithmic Benchmarking](https://arxiv.org/abs/2407.16697)\n",
      "41. [SAM-CP: Marrying SAM with Composable Prompts for Versatile Segmentation](https://arxiv.org/abs/2407.16682)\n"
     ]
    }
   ],
   "source": [
    "# 请将 'path_to_your_file.txt' 替换为你的txt文件路径\n",
    "file_path_tmp = 'tmp.txt'\n",
    "converted_text = convert_text_in_file(file_path_tmp, cnt=total_lines)\n",
    "\n",
    "print(converted_text)"
   ]
  },
  {
   "cell_type": "code",
   "execution_count": 4,
   "metadata": {},
   "outputs": [
    {
     "name": "stdout",
     "output_type": "stream",
     "text": [
      "Susseccfully write to file!\n"
     ]
    }
   ],
   "source": [
    "# 写入Readme.md文件\n",
    "markdown_file = 'README.md'\n",
    "output_lines = converted_text\n",
    "result_write_md(markdown_file, output_lines)\n",
    "\n"
   ]
  },
  {
   "cell_type": "code",
   "execution_count": 5,
   "metadata": {},
   "outputs": [
    {
     "name": "stdout",
     "output_type": "stream",
     "text": [
      "Susseccfully write to file!\n"
     ]
    }
   ],
   "source": [
    "# 写入本周的markdown文件\n",
    "\n",
    "output_lines = converted_text\n",
    "result_write_md(file_path, output_lines)"
   ]
  }
 ],
 "metadata": {
  "kernelspec": {
   "display_name": "Python 3.7.13 ('pyt37')",
   "language": "python",
   "name": "python3"
  },
  "language_info": {
   "codemirror_mode": {
    "name": "ipython",
    "version": 3
   },
   "file_extension": ".py",
   "mimetype": "text/x-python",
   "name": "python",
   "nbconvert_exporter": "python",
   "pygments_lexer": "ipython3",
   "version": "3.7.13"
  },
  "orig_nbformat": 4,
  "vscode": {
   "interpreter": {
    "hash": "eede682cbef55f8ad0df024616cb0079c6a04760c6a762ef3695647fd09e8831"
   }
  }
 },
 "nbformat": 4,
 "nbformat_minor": 2
}
