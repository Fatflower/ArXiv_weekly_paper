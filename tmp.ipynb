{
 "cells": [
  {
   "cell_type": "code",
   "execution_count": 1,
   "metadata": {},
   "outputs": [
    {
     "name": "stdout",
     "output_type": "stream",
     "text": [
      "59. [Simple and Scalable Strategies to Continually Pre-train Large Language Models](https://arxiv.org/abs/2403.08763)\n",
      "60. [DAM: Dynamic Adapter Merging for Continual Video QA Learning](https://arxiv.org/abs/2403.08755)\n",
      "61. [OneVOS: Unifying Video Object Segmentation with All-in-One Transformer Framework](https://arxiv.org/abs/2403.08682)\n",
      "62. [Consistent Prompting for Rehearsal-Free Continual Learning](https://arxiv.org/abs/2403.08568)\n",
      "63. [AIGCs Confuse AI Too: Investigating and Explaining Synthetic Image-induced Hallucinations in Large Vision-Language Models](https://arxiv.org/abs/2403.08542)\n",
      "64. [An Empirical Study of Parameter Efficient Fine-tuning on Vision-Language Pre-train Model](https://arxiv.org/abs/2403.08433)\n",
      "65. [Language-Driven Visual Consensus for Zero-Shot Semantic Segmentation](https://arxiv.org/abs/2403.08426)\n",
      "66. [Iterative Online Image Synthesis via Diffusion Model for Imbalanced Classification](https://arxiv.org/abs/2403.08407)\n",
      "67. [NaturalVLM: Leveraging Fine-grained Natural Language for Affordance-Guided Visual Manipulation](https://arxiv.org/abs/2403.08355)\n",
      "68. [CoIN: A Benchmark of Continual Instruction tuNing for Multimodel Large Language Model](https://arxiv.org/abs/2403.08350)\n",
      "69. [Knowledge Conflicts for LLMs: A Survey](https://arxiv.org/abs/2403.08319)\n",
      "70. [Efficient Prompt Tuning of Large Vision-Language Model for Fine-Grained Ship Classification](https://arxiv.org/abs/2403.08271)\n",
      "71. [Scattered Mixture-of-Experts Implementation](https://arxiv.org/abs/2403.08245)\n",
      "72. [BAGEL: Bootstrapping Agents by Guiding Exploration with Language](https://arxiv.org/abs/2403.08140)\n",
      "73. [FluoroSAM: A Language-aligned Foundation Model for X-ray Image Segmentation](https://arxiv.org/abs/2403.08059)\n",
      "74. [Real-time Surgical Instrument Segmentation in Video Using Point Tracking and Segment Anything](https://arxiv.org/abs/2403.08003)\n",
      "75. [Pix2Pix-OnTheFly: Leveraging LLMs for Instruction-Guided Image Editing](https://arxiv.org/abs/2403.08004)\n",
      "76. [Dynamic Policy-Driven Adaptive Multi-Instance Learning for Whole Slide Image Classification](https://arxiv.org/abs/2403.07939)\n",
      "77. [MIP: CLIP-based Image Reconstruction from PEFT Gradients](https://arxiv.org/abs/2403.07901)\n",
      "78. [Seg-metrics: a Python package to compute segmentation metrics](https://arxiv.org/abs/2403.07884)\n",
      "79. [Segmentation of Knee Bones for Osteoarthritis Assessment: A Comparative Analysis of Supervised, Few-Shot, and Zero-Shot Learning Approaches](https://arxiv.org/abs/2403.08761)\n",
      "80. [Diffusion Models with Implicit Guidance for Medical Anomaly Detection](https://arxiv.org/abs/2403.08464)\n",
      "81. [DecompDiff: Diffusion Models with Decomposed Priors for Structure-Based Drug Design](https://arxiv.org/abs/2403.07902)\n"
     ]
    }
   ],
   "source": [
    "def convert_text_in_file(file_path, cnt=1):\n",
    "    output_lines = []\n",
    "\n",
    "    with open(file_path, 'r') as file:\n",
    "        for i, line in enumerate(file):\n",
    "            url, title = line.strip().split(\" | \")\n",
    "            paper_title = title.split(\"] \")[1]\n",
    "            formatted_line = f\"{i+cnt+1}. [{paper_title}]({url})\"\n",
    "            output_lines.append(formatted_line)\n",
    "            \n",
    "\n",
    "    return \"\\n\".join(output_lines)\n",
    "\n",
    "\n",
    "# 请将 'path_to_your_file.txt' 替换为你的txt文件路径\n",
    "file_path = 'tmp.txt'\n",
    "converted_text = convert_text_in_file(file_path, cnt=58)\n",
    "print(converted_text)"
   ]
  },
  {
   "cell_type": "code",
   "execution_count": null,
   "metadata": {},
   "outputs": [],
   "source": []
  }
 ],
 "metadata": {
  "kernelspec": {
   "display_name": "pyt38",
   "language": "python",
   "name": "python3"
  },
  "language_info": {
   "codemirror_mode": {
    "name": "ipython",
    "version": 3
   },
   "file_extension": ".py",
   "mimetype": "text/x-python",
   "name": "python",
   "nbconvert_exporter": "python",
   "pygments_lexer": "ipython3",
   "version": "3.8.13"
  },
  "orig_nbformat": 4
 },
 "nbformat": 4,
 "nbformat_minor": 2
}
