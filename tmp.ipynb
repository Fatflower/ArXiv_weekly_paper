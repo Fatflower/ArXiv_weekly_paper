{
 "cells": [
  {
   "cell_type": "code",
   "execution_count": 3,
   "metadata": {},
   "outputs": [
    {
     "name": "stdout",
     "output_type": "stream",
     "text": [
      "98. [A Survey on Domain Generalization for Medical Image Analysis](https://arxiv.org/abs/2402.05035)\n",
      "99. [EfficientViT-SAM: Accelerated Segment Anything Model Without Performance Loss](https://arxiv.org/abs/2402.05008)\n",
      "100. [ConvLoRA and AdaBN based Domain Adaptation via Self-Training](https://arxiv.org/abs/2402.04964)\n",
      "101. [Text or Image? What is More Important in Cross-Domain Generalization Capabilities of Hate Meme Detection Models?](https://arxiv.org/abs/2402.04967)\n",
      "102. [Source-Free Domain Adaptation with Diffusion-Guided Source Data Generation](https://arxiv.org/abs/2402.04929)\n",
      "103. [Personalized Text Generation with Fine-Grained Linguistic Control](https://arxiv.org/abs/2402.04914)\n",
      "104. [L4Q: Parameter Efficient Quantization-Aware Training on Large Language Models via LoRA-wise LSQ](https://arxiv.org/abs/2402.04902)\n",
      "105. [Long Is More for Alignment: A Simple but Tough-to-Beat Baseline for Instruction Fine-Tuning](https://arxiv.org/abs/2402.04833)\n",
      "106. [BOWLL: A Deceptively Simple Open World Lifelong Learner](https://arxiv.org/abs/2402.04814)\n",
      "107. [MLLM-as-a-Judge: Assessing Multimodal LLM-as-a-Judge with Vision-Language Benchmark](https://arxiv.org/abs/2402.04788)\n",
      "108. [Boundary-aware Contrastive Learning for Semi-supervised Nuclei Instance Segmentation](https://arxiv.org/abs/2402.04756)\n",
      "109. [Large Language Models As Faithful Explainers](https://arxiv.org/abs/2402.04678)\n",
      "110. [Open-Vocabulary Calibration for Vision-Language Models](https://arxiv.org/abs/2402.04655)\n",
      "111. [LLMs Meet VLMs: Boost Open Vocabulary Object Detection with Fine-grained Descriptors](https://arxiv.org/abs/2402.04630)\n",
      "112. [MEMORYLLM: Towards Self-Updatable Large Language Models](https://arxiv.org/abs/2402.04624)\n",
      "113. [InfLLM: Unveiling the Intrinsic Capacity of LLMs for Understanding Extremely Long Sequences with Training-Free Memory](https://arxiv.org/abs/2402.04617)\n",
      "114. [TinyLLM: Learning a Small Student from Multiple Large Language Models](https://arxiv.org/abs/2402.04616)\n",
      "115. [ScreenAI: A Vision-Language Model for UI and Infographics Understanding](https://arxiv.org/abs/2402.04615)\n",
      "116. [Sparse Anatomical Prompt Semi-Supervised Learning with Masked Image Modeling for CBCT Tooth Segmentation](https://arxiv.org/abs/2402.04587)\n",
      "117. [FM-Fusion: Instance-aware Semantic Mapping Boosted by Vision-Language Foundation Models](https://arxiv.org/abs/2402.04555)\n",
      "118. [BioDrone: A Bionic Drone-based Single Object Tracking Benchmark for Robust Vision](https://arxiv.org/abs/2402.04519)\n",
      "119. [Detection Transformer for Teeth Detection, Segmentation, and Numbering in Oral Rare Diseases: Focus on Data Augmentation and Inpainting Techniques](https://arxiv.org/abs/2402.04408)\n",
      "120. [Democratizing Large Language Models via Personalized Parameter-Efficient Fine-tuning](https://arxiv.org/abs/2402.04401)\n",
      "121. [Mamba-UNet: UNet-Like Pure Visual Mamba for Medical Image Segmentation](https://arxiv.org/abs/2402.05079)\n"
     ]
    }
   ],
   "source": [
    "def convert_text_in_file(file_path, cnt=1):\n",
    "    output_lines = []\n",
    "\n",
    "    with open(file_path, 'r') as file:\n",
    "        for i, line in enumerate(file):\n",
    "            url, title = line.strip().split(\" | \")\n",
    "            paper_title = title.split(\"] \")[1]\n",
    "            formatted_line = f\"{i+cnt+1}. [{paper_title}]({url})\"\n",
    "            output_lines.append(formatted_line)\n",
    "            \n",
    "\n",
    "    return \"\\n\".join(output_lines)\n",
    "\n",
    "\n",
    "# 请将 'path_to_your_file.txt' 替换为你的txt文件路径\n",
    "file_path = 'tmp.txt'\n",
    "converted_text = convert_text_in_file(file_path, cnt=97)\n",
    "print(converted_text)"
   ]
  },
  {
   "cell_type": "code",
   "execution_count": null,
   "metadata": {},
   "outputs": [],
   "source": []
  }
 ],
 "metadata": {
  "kernelspec": {
   "display_name": "pyt38",
   "language": "python",
   "name": "python3"
  },
  "language_info": {
   "codemirror_mode": {
    "name": "ipython",
    "version": 3
   },
   "file_extension": ".py",
   "mimetype": "text/x-python",
   "name": "python",
   "nbconvert_exporter": "python",
   "pygments_lexer": "ipython3",
   "version": "3.9.18"
  },
  "orig_nbformat": 4
 },
 "nbformat": 4,
 "nbformat_minor": 2
}
