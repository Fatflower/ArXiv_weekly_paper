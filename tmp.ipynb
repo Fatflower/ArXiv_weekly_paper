{
 "cells": [
  {
   "cell_type": "code",
   "execution_count": 1,
   "metadata": {},
   "outputs": [],
   "source": [
    "def convert_text_in_file(file_path, cnt=1):\n",
    "    output_lines = []\n",
    "\n",
    "    with open(file_path, 'r') as file:\n",
    "        for i, line in enumerate(file):\n",
    "            url, title = line.strip().split(\" | \")\n",
    "            paper_title = title.split(\"] \")[1]\n",
    "            formatted_line = f\"{i+cnt+1}. [{paper_title}]({url})\"\n",
    "            output_lines.append(formatted_line)\n",
    "            \n",
    "\n",
    "    return \"\\n\".join(output_lines)\n",
    "\n",
    "def result_write_md(markdown_file, output_lines):\n",
    "    with open(markdown_file, 'a') as m_file:\n",
    "        m_file.seek(0, 2)\n",
    "        if m_file.tell() > 0:\n",
    "            m_file.write('\\n')\n",
    "        m_file.write(output_lines)\n",
    "    print(\"Susseccfully write to file!\")\n",
    "\n",
    "\n"
   ]
  },
  {
   "cell_type": "code",
   "execution_count": 2,
   "metadata": {},
   "outputs": [
    {
     "name": "stdout",
     "output_type": "stream",
     "text": [
      "The total number of lines in the file is: 0\n"
     ]
    }
   ],
   "source": [
    "def count_lines_in_file(file_path):\n",
    "    with open(file_path, 'r', encoding='utf-8') as file:\n",
    "        lines = file.readlines()\n",
    "        return len(lines)\n",
    "file_path = '2024/41_week.md'\n",
    "total_lines = count_lines_in_file(file_path)\n",
    "print(f\"The total number of lines in the file is: {total_lines}\")"
   ]
  },
  {
   "cell_type": "code",
   "execution_count": 3,
   "metadata": {},
   "outputs": [
    {
     "name": "stdout",
     "output_type": "stream",
     "text": [
      "1. [LatteCLIP: Unsupervised CLIP Fine-Tuning via LMM-Synthetic Texts](https://arxiv.org/abs/2410.08211)\n",
      "2. [Mono-InternVL: Pushing the Boundaries of Monolithic Multimodal Large Language Models with Endogenous Visual Pre-training](https://arxiv.org/abs/2410.08202)\n",
      "3. [HybridBooth: Hybrid Prompt Inversion for Efficient Subject-Driven Generation](https://arxiv.org/abs/2410.08192)\n",
      "4. [Scaling Laws For Diffusion Transformers](https://arxiv.org/abs/2410.08184)\n",
      "5. [DART: Denoising Autoregressive Transformer for Scalable Text-to-Image Generation](https://arxiv.org/abs/2410.08159)\n",
      "6. [Q-VLM: Post-training Quantization for Large Vision-Language Models](https://arxiv.org/abs/2410.08119)\n",
      "7. [Parameter-Efficient Fine-Tuning in Spectral Domain for Point Cloud Learning](https://arxiv.org/abs/2410.08114)\n",
      "8. [Distribution Guidance Network for Weakly Supervised Point Cloud Semantic Segmentation](https://arxiv.org/abs/2410.08091)\n",
      "9. [Efficiently Learning at Test-Time: Active Fine-Tuning of LLMs](https://arxiv.org/abs/2410.08020)\n",
      "10. [AHA: Human-Assisted Out-of-Distribution Generalization and Detection](https://arxiv.org/abs/2410.08000)\n",
      "11. [Executing Arithmetic: Fine-Tuning Large Language Models as Turing Machines](https://arxiv.org/abs/2410.07896)\n",
      "12. [Generated Bias: Auditing Internal Bias Dynamics of Text-To-Image Generative Models](https://arxiv.org/abs/2410.07884)\n",
      "13. [HeGraphAdapter: Tuning Multi-Modal Vision-Language Models with Heterogeneous Graph Adapter](https://arxiv.org/abs/2410.07854)\n",
      "14. [MinorityPrompt: Text to Minority Image Generation via Prompt Optimization](https://arxiv.org/abs/2410.07838)\n",
      "15. [Exploring Foundation Models in Remote Sensing Image Change Detection: A Comprehensive Survey](https://arxiv.org/abs/2410.07824)\n",
      "16. [Temporal-Difference Variational Continual Learning](https://arxiv.org/abs/2410.07812)\n",
      "17. [Prototype-based Optimal Transport for Out-of-Distribution Detection](https://arxiv.org/abs/2410.07617)\n",
      "18. [A Unified Debiasing Approach for Vision-Language Models across Modalities and Tasks](https://arxiv.org/abs/2410.07593)\n",
      "19. [Positive-Augmented Contrastive Learning for Vision-and-Language Evaluation and Training](https://arxiv.org/abs/2410.07336)\n",
      "20. [Margin-bounded Confidence Scores for Out-of-Distribution Detection](https://arxiv.org/abs/2410.07185)\n",
      "21. [Towards Interpreting Visual Information Processing in Vision-Language Models](https://arxiv.org/abs/2410.07149)\n",
      "22. [EvolveDirector: Approaching Advanced Text-to-Image Generation with Large Vision-Language Models](https://arxiv.org/abs/2410.07133)\n",
      "23. [VHELM: A Holistic Evaluation of Vision Language Models](https://arxiv.org/abs/2410.07112)\n",
      "24. [Continual Learning: Less Forgetting, More OOD Generalization via Adaptive Contrastive Replay](https://arxiv.org/abs/2410.07110)\n",
      "25. [Clean Evaluations on Contaminated Visual Language Models](https://arxiv.org/abs/2410.07030)\n",
      "26. [Preference Fine-Tuning for Factuality in Chest X-Ray Interpretation Models Without Human Feedback](https://arxiv.org/abs/2410.07025)\n",
      "27. [Tri-Level Navigator: LLM-Empowered Tri-Level Learning for Time Series OOD Generalization](https://arxiv.org/abs/2410.07018)\n",
      "28. [From Pixels to Tokens: Revisiting Object Hallucinations in Large Vision-Language Models](https://arxiv.org/abs/2410.06795)\n",
      "29. [CoBa: Convergence Balancer for Multitask Finetuning of Large Language Models](https://arxiv.org/abs/2410.06741)\n",
      "30. [ETA: Evaluating Then Aligning Safety of Vision Language Models at Inference Time](https://arxiv.org/abs/2410.06625)\n",
      "31. [3D Representation Methods: A Survey](https://arxiv.org/abs/2410.06475)\n",
      "32. [From Generalist to Specialist: Adapting Vision Language Models via Task-Specific Visual Instruction Tuning](https://arxiv.org/abs/2410.06456)\n",
      "33. [Fine-grained Hallucination Detection and Mitigation in Language Model Mathematical Reasoning](https://arxiv.org/abs/2410.06304)\n",
      "34. [Adaptive Label Smoothing for Out-of-Distribution Detection](https://arxiv.org/abs/2410.06134)\n",
      "35. [Aria: An Open Multimodal Native Mixture-of-Experts Model](https://arxiv.org/abs/2410.05993)\n",
      "36. [Training-Free Open-Ended Object Detection and Segmentation via Attention as Prompts](https://arxiv.org/abs/2410.05963)\n",
      "37. [MedUniSeg: 2D and 3D Medical Image Segmentation via a Prompt-driven Universal Model](https://arxiv.org/abs/2410.05905)\n",
      "38. [CLOSER: Towards Better Representation Learning for Few-Shot Class-Incremental Learning](https://arxiv.org/abs/2410.05627)\n",
      "39. [Self-rationalization improves LLM as a fine-grained judge](https://arxiv.org/abs/2410.05495)\n",
      "40. [Recent Advances of Multimodal Continual Learning: A Comprehensive Survey](https://arxiv.org/abs/2410.05352)\n",
      "41. [MedImageInsight: An Open-Source Embedding Model for General Domain Medical Imaging](https://arxiv.org/abs/2410.06542)\n",
      "42. [Fine-Tuning CLIP's Last Visual Projector: A Few-Shot Cornucopia](https://arxiv.org/abs/2410.05270)\n",
      "43. [TextHawk2: A Large Vision-Language Model Excels in Bilingual OCR and Grounding with 16x Fewer Tokens](https://arxiv.org/abs/2410.05261)\n",
      "44. [LoTLIP: Improving Language-Image Pre-training for Long Text Understanding](https://arxiv.org/abs/2410.05249)\n",
      "45. [SFTMix: Elevating Language Model Instruction Tuning with Mixup Recipe](https://arxiv.org/abs/2410.05248)\n",
      "46. [TuneVLSeg: Prompt Tuning Benchmark for Vision-Language Segmentation Models](https://arxiv.org/abs/2410.05239)\n",
      "47. [SimO Loss: Anchor-Free Contrastive Loss for Fine-Grained Supervised Contrastive Learning](https://arxiv.org/abs/2410.05233)\n",
      "48. [DiffuseReg: Denoising Diffusion Model for Obtaining Deformation Fields in Unsupervised Deformable Image Registration](https://arxiv.org/abs/2410.05234)\n",
      "49. [Preserving Multi-Modal Capabilities of Pre-trained VLMs for Improving Vision-Linguistic Compositionality](https://arxiv.org/abs/2410.05210)\n",
      "50. [Enhancing Equity in Large Language Models for Medical Applications](https://arxiv.org/abs/2410.05180)\n",
      "51. [VLM2Vec: Training Vision-Language Models for Massive Multimodal Embedding Tasks](https://arxiv.org/abs/2410.05160)\n",
      "52. [IGroupSS-Mamba: Interval Group Spatial-Spectral Mamba for Hyperspectral Image Classification](https://arxiv.org/abs/2410.05100)\n",
      "53. [Compression via Pre-trained Transformers: A Study on Byte-Level Multimodal Data](https://arxiv.org/abs/2410.05078)\n",
      "54. [SELECT: A Large-Scale Benchmark of Data Curation Strategies for Image Classification](https://arxiv.org/abs/2410.05057)\n",
      "55. [HE-Drive: Human-Like End-to-End Driving with Vision Language Models](https://arxiv.org/abs/2410.05051)\n",
      "56. [On Efficient Variants of Segment Anything Model: A Survey](https://arxiv.org/abs/2410.04960)\n",
      "57. [OmniBooth: Learning Latent Control for Image Synthesis with Multi-modal Instruction](https://arxiv.org/abs/2410.04932)\n",
      "58. [Intent Classification for Bank Chatbots through LLM Fine-Tuning](https://arxiv.org/abs/2410.04925)\n",
      "59. [Art2Mus: Bridging Visual Arts and Music through Cross-Modal Generation](https://arxiv.org/abs/2410.04906)\n",
      "60. [Low-Rank Continual Personalization of Diffusion Models](https://arxiv.org/abs/2410.04891)\n",
      "61. [A Simple Image Segmentation Framework via In-Context Examples](https://arxiv.org/abs/2410.04842)\n",
      "62. [Diffusion Models in 3D Vision: A Survey](https://arxiv.org/abs/2410.04738)\n",
      "63. [TLDR: Token-Level Detective Reward Model for Large Vision Language Models](https://arxiv.org/abs/2410.04734)\n",
      "64. [Low-Rank Continual Pyramid Vision Transformer: Incrementally Segment Whole-Body Organs in CT with Light-Weighted Adaptation](https://arxiv.org/abs/2410.04689)\n",
      "65. [ActiView: Evaluating Active Perception Ability for Multimodal Large Language Models](https://arxiv.org/abs/2410.04659)\n",
      "66. [AdaptDiff: Cross-Modality Domain Adaptation via Weak Conditional Semantic Diffusion for Retinal Vessel Segmentation](https://arxiv.org/abs/2410.04648)\n",
      "67. [Is What You Ask For What You Get? Investigating Concept Associations in Text-to-Image Models](https://arxiv.org/abs/2410.04634)\n",
      "68. [VISTA: A Visual and Textual Attention Dataset for Interpreting Multimodal Models](https://arxiv.org/abs/2410.04609)\n",
      "69. [Look Around and Find Out: OOD Detection with Relative Angles](https://arxiv.org/abs/2410.04525)\n",
      "70. [Towards Secure Tuning: Mitigating Security Risks Arising from Benign Instruction Fine-Tuning](https://arxiv.org/abs/2410.04524)\n",
      "71. [MECFormer: Multi-task Whole Slide Image Classification with Expert Consultation Network](https://arxiv.org/abs/2410.04507)\n",
      "72. [Interpret Your Decision: Logical Reasoning Regularization for Generalization in Visual Classification](https://arxiv.org/abs/2410.04492)\n",
      "73. [A Mathematical Explanation of UNet](https://arxiv.org/abs/2410.04434)\n",
      "74. [SparseVLM: Visual Token Sparsification for Efficient Vision-Language Model Inference](https://arxiv.org/abs/2410.04417)\n",
      "75. [MVP-Bench: Can Large Vision--Language Models Conduct Multi-level Visual Perception Like Humans?](https://arxiv.org/abs/2410.04345)\n",
      "76. [Leveraging Hierarchical Taxonomies in Prompt-based Continual Learning](https://arxiv.org/abs/2410.04327)\n",
      "77. [LongGenBench: Long-context Generation Benchmark](https://arxiv.org/abs/2410.04199)\n",
      "78. [Self-Correction is More than Refinement: A Learning Framework for Visual and Language Reasoning Tasks](https://arxiv.org/abs/2410.04055)\n",
      "79. [AUCSeg: AUC-oriented Pixel-level Long-tail Semantic Segmentation](https://arxiv.org/abs/2409.20398)\n",
      "80. [DB-SAM: Delving into High Quality Universal Medical Image Segmentation](https://arxiv.org/abs/2410.04172)\n",
      "81. [WAVE-UNET: Wavelength based Image Reconstruction method using attention UNET for OCT images](https://arxiv.org/abs/2410.04123)\n",
      "82. [Multiscale Latent Diffusion Model for Enhanced Feature Extraction from Medical Images](https://arxiv.org/abs/2410.04000)\n"
     ]
    }
   ],
   "source": [
    "# 请将 'path_to_your_file.txt' 替换为你的txt文件路径\n",
    "file_path_tmp = 'tmp.txt'\n",
    "converted_text = convert_text_in_file(file_path_tmp, cnt=total_lines)\n",
    "\n",
    "print(converted_text)"
   ]
  },
  {
   "cell_type": "code",
   "execution_count": 4,
   "metadata": {},
   "outputs": [
    {
     "name": "stdout",
     "output_type": "stream",
     "text": [
      "Susseccfully write to file!\n"
     ]
    }
   ],
   "source": [
    "# 写入Readme.md文件\n",
    "markdown_file = 'README.md'\n",
    "output_lines = converted_text\n",
    "result_write_md(markdown_file, output_lines)\n",
    "\n"
   ]
  },
  {
   "cell_type": "code",
   "execution_count": 5,
   "metadata": {},
   "outputs": [
    {
     "name": "stdout",
     "output_type": "stream",
     "text": [
      "Susseccfully write to file!\n"
     ]
    }
   ],
   "source": [
    "# 写入本周的markdown文件\n",
    "\n",
    "output_lines = converted_text\n",
    "result_write_md(file_path, output_lines)"
   ]
  }
 ],
 "metadata": {
  "kernelspec": {
   "display_name": "Python 3.8.13 ('pyt38')",
   "language": "python",
   "name": "python3"
  },
  "language_info": {
   "codemirror_mode": {
    "name": "ipython",
    "version": 3
   },
   "file_extension": ".py",
   "mimetype": "text/x-python",
   "name": "python",
   "nbconvert_exporter": "python",
   "pygments_lexer": "ipython3",
   "version": "3.8.13"
  },
  "orig_nbformat": 4,
  "vscode": {
   "interpreter": {
    "hash": "176c92cd5e5485b42e3e73d2f25e60c2ed8f24d584687c4dae8d36d44ade605d"
   }
  }
 },
 "nbformat": 4,
 "nbformat_minor": 2
}
