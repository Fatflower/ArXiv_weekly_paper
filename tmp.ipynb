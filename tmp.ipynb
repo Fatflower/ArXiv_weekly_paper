{
 "cells": [
  {
   "cell_type": "code",
   "execution_count": 1,
   "metadata": {},
   "outputs": [],
   "source": [
    "def convert_text_in_file(file_path, cnt=1):\n",
    "    output_lines = []\n",
    "\n",
    "    with open(file_path, 'r') as file:\n",
    "        for i, line in enumerate(file):\n",
    "            url, title = line.strip().split(\" | \")\n",
    "            paper_title = title.split(\"] \")[1]\n",
    "            formatted_line = f\"{i+cnt+1}. [{paper_title}]({url})\"\n",
    "            output_lines.append(formatted_line)\n",
    "            \n",
    "\n",
    "    return \"\\n\".join(output_lines)\n",
    "\n",
    "def result_write_md(markdown_file, output_lines):\n",
    "    with open(markdown_file, 'a') as m_file:\n",
    "        m_file.seek(0, 2)\n",
    "        if m_file.tell() > 0:\n",
    "            m_file.write('\\n')\n",
    "        m_file.write(output_lines)\n",
    "    print(\"Susseccfully write to file!\")\n",
    "\n",
    "\n"
   ]
  },
  {
   "cell_type": "code",
   "execution_count": 2,
   "metadata": {},
   "outputs": [
    {
     "name": "stdout",
     "output_type": "stream",
     "text": [
      "The total number of lines in the file is: 0\n"
     ]
    }
   ],
   "source": [
    "def count_lines_in_file(file_path):\n",
    "    with open(file_path, 'r', encoding='utf-8') as file:\n",
    "        lines = file.readlines()\n",
    "        return len(lines)\n",
    "file_path = '2024/42_week.md'\n",
    "total_lines = count_lines_in_file(file_path)\n",
    "print(f\"The total number of lines in the file is: {total_lines}\")"
   ]
  },
  {
   "cell_type": "code",
   "execution_count": 3,
   "metadata": {},
   "outputs": [
    {
     "name": "stdout",
     "output_type": "stream",
     "text": [
      "1. [Parameter-Efficient Fine-Tuning of State Space Models](https://arxiv.org/abs/2410.09016)\n",
      "2. [Semantic Score Distillation Sampling for Compositional Text-to-3D Generation](https://arxiv.org/abs/2410.09009)\n",
      "3. [UniGlyph: A Seven-Segment Script for Universal Language Representation](https://arxiv.org/abs/2410.08974)\n",
      "4. [Calibrated Cache Model for Few-Shot Vision-Language Model Adaptation](https://arxiv.org/abs/2410.08895)\n",
      "5. [Audio Description Generation in the Era of LLMs and VLMs: A Review of Transferable Generative AI Technologies](https://arxiv.org/abs/2410.08860)\n",
      "6. [VideoSAM: Open-World Video Segmentation](https://arxiv.org/abs/2410.08781)\n",
      "7. [Conjugated Semantic Pool Improves OOD Detection with Pre-trained Vision-Language Models](https://arxiv.org/abs/2410.08611)\n",
      "8. [Semantic Token Reweighting for Interpretable and Controllable Text Embeddings in CLIP](https://arxiv.org/abs/2410.08469)\n",
      "9. [Symbolic Music Generation with Fine-grained Interactive Textural Guidance](https://arxiv.org/abs/2410.08435)\n",
      "10. [Meissonic: Revitalizing Masked Generative Transformers for Efficient High-Resolution Text-to-Image Synthesis](https://arxiv.org/abs/2410.08261)\n",
      "11. [When Does Perceptual Alignment Benefit Vision Representations?](https://arxiv.org/abs/2410.10817)\n",
      "12. [Your Mixture-of-Experts LLM Is Secretly an Embedding Model For Free](https://arxiv.org/abs/2410.10814)\n",
      "13. [Mix Data or Merge Models? Optimizing for Diverse Multi-Task Learning](https://arxiv.org/abs/2410.10801)\n",
      "14. [UniMatch V2: Pushing the Limit of Semi-Supervised Semantic Segmentation](https://arxiv.org/abs/2410.10777)\n",
      "15. [FlexGen: Flexible Multi-View Generation from Text and Image Inputs](https://arxiv.org/abs/2410.10745)\n",
      "16. [Balancing Continuous Pre-Training and Instruction Fine-Tuning: Optimizing Instruction-Following in LLMs](https://arxiv.org/abs/2410.10739)\n",
      "17. [Queryable Prototype Multiple Instance Learning with Vision-Language Models for Incremental Whole Slide Image Classification](https://arxiv.org/abs/2410.10573)\n",
      "18. [RICASSO: Reinforced Imbalance Learning with Class-Aware Self-Supervised Outliers Exposure](https://arxiv.org/abs/2410.10548)\n",
      "19. [Vision-guided and Mask-enhanced Adaptive Denoising for Prompt-based Image Editing](https://arxiv.org/abs/2410.10496)\n",
      "20. [Learning to Ground VLMs without Forgetting](https://arxiv.org/abs/2410.10491)\n",
      "21. [Tighter Risk Bounds for Mixtures of Experts](https://arxiv.org/abs/2410.10397)\n",
      "22. [V2M: Visual 2-Dimensional Mamba for Image Representation Learning](https://arxiv.org/abs/2410.10382)\n",
      "23. [GraphCLIP: Enhancing Transferability in Graph Foundation Models for Text-Attributed Graphs](https://arxiv.org/abs/2410.10329)\n",
      "24. [GlobalMamba: Global Image Serialization for Vision Mamba](https://arxiv.org/abs/2410.10316)\n",
      "25. [Fine-grained Abnormality Prompt Learning for Zero-shot Anomaly Detection](https://arxiv.org/abs/2410.10289)\n",
      "26. [LOBG:Less Overfitting for Better Generalization in Vision-Language Model](https://arxiv.org/abs/2410.10247)\n",
      "27. [KNN Transformer with Pyramid Prompts for Few-Shot Learning](https://arxiv.org/abs/2410.10227)\n",
      "28. [Is Parameter Collision Hindering Continual Learning in LLMs?](https://arxiv.org/abs/2410.10179)\n",
      "29. [MMIE: Massive Multimodal Interleaved Comprehension Benchmark for Large Vision-Language Models](https://arxiv.org/abs/2410.10139)\n",
      "30. [Can We Predict Performance of Large Models across Vision-Language Tasks?](https://arxiv.org/abs/2410.10112)\n",
      "31. [TULIP: Token-length Upgraded CLIP](https://arxiv.org/abs/2410.10034)\n",
      "32. [Text4Seg: Reimagining Image Segmentation as Text Generation](https://arxiv.org/abs/2410.09855)\n",
      "33. [Understanding Robustness of Parameter-Efficient Tuning for Image Classification](https://arxiv.org/abs/2410.09845)\n",
      "34. [Task Adaptive Feature Distribution Based Network for Few-shot Fine-grained Target Classification](https://arxiv.org/abs/2410.09797)\n",
      "35. [AM-SAM: Automated Prompting and Mask Calibration for Segment Anything Model](https://arxiv.org/abs/2410.09714)\n",
      "36. [MMCOMPOSITION: Revisiting the Compositionality of Pre-trained Vision-Language Models](https://arxiv.org/abs/2410.09733)\n",
      "37. [Learning the Bitter Lesson: Empirical Evidence from 20 Years of CVPR Proceedings](https://arxiv.org/abs/2410.09649)\n",
      "38. [AI Model Registries: A Foundational Tool for AI Governance](https://arxiv.org/abs/2410.09645)\n",
      "39. [MTL-LoRA: Low-Rank Adaptation for Multi-Task Learning](https://arxiv.org/abs/2410.09437)\n",
      "40. [Debiasing Vison-Language Models with Text-Only Training](https://arxiv.org/abs/2410.09365)\n",
      "41. [CtrLoRA: An Extensible and Efficient Framework for Controllable Image Generation](https://arxiv.org/abs/2410.09400)\n",
      "42. [Foundation Model-Powered 3D Few-Shot Class Incremental Learning via Training-free Adaptor](https://arxiv.org/abs/2410.09237)\n",
      "43. [Continual Learning with Neuromorphic Computing: Theories, Methods, and Applications](https://arxiv.org/abs/2410.09218)\n",
      "44. [Cross-Domain Evaluation of Few-Shot Classification Models: Natural Images vs. Histopathological Images](https://arxiv.org/abs/2410.09176)\n",
      "45. [MMFuser: Multimodal Multi-Layer Feature Fuser for Fine-Grained Vision-Language Understanding](https://arxiv.org/abs/2410.11829)\n",
      "46. [Improving Long-Text Alignment for Text-to-Image Diffusion Models](https://arxiv.org/abs/2410.11817)\n",
      "47. [The Best of Both Worlds: On the Dilemma of Out-of-distribution Detection](https://arxiv.org/abs/2410.11576)\n",
      "48. [Overcoming Domain Limitations in Open-vocabulary Segmentation](https://arxiv.org/abs/2410.11536)\n",
      "49. [Augmentation-Driven Metric for Balancing Preservation and Modification in Text-Guided Image Editing](https://arxiv.org/abs/2410.11374)\n",
      "50. [CONSULT: Contrastive Self-Supervised Learning for Few-shot Tumor Detection](https://arxiv.org/abs/2410.11307)\n",
      "51. [Tree of Attributes Prompt Learning for Vision-Language Models](https://arxiv.org/abs/2410.11201)\n",
      "52. [MANet: Fine-Tuning Segment Anything Model for Multimodal Remote Sensing Semantic Segmentation](https://arxiv.org/abs/2410.11160)\n",
      "53. [LLaCA: Multimodal Large Language Continual Assistant](https://arxiv.org/abs/2410.10868)\n",
      "54. [STA-Unet: Rethink the semantic redundant for Medical Imaging Segmentation](https://arxiv.org/abs/2410.11578)\n"
     ]
    }
   ],
   "source": [
    "# 请将 'path_to_your_file.txt' 替换为你的txt文件路径\n",
    "file_path_tmp = 'tmp.txt'\n",
    "converted_text = convert_text_in_file(file_path_tmp, cnt=total_lines)\n",
    "\n",
    "print(converted_text)"
   ]
  },
  {
   "cell_type": "code",
   "execution_count": 4,
   "metadata": {},
   "outputs": [
    {
     "name": "stdout",
     "output_type": "stream",
     "text": [
      "Susseccfully write to file!\n"
     ]
    }
   ],
   "source": [
    "# 写入Readme.md文件\n",
    "markdown_file = 'README.md'\n",
    "output_lines = converted_text\n",
    "result_write_md(markdown_file, output_lines)\n",
    "\n"
   ]
  },
  {
   "cell_type": "code",
   "execution_count": 5,
   "metadata": {},
   "outputs": [
    {
     "name": "stdout",
     "output_type": "stream",
     "text": [
      "Susseccfully write to file!\n"
     ]
    }
   ],
   "source": [
    "# 写入本周的markdown文件\n",
    "\n",
    "output_lines = converted_text\n",
    "result_write_md(file_path, output_lines)"
   ]
  }
 ],
 "metadata": {
  "kernelspec": {
   "display_name": "Python 3.8.13 ('pyt38')",
   "language": "python",
   "name": "python3"
  },
  "language_info": {
   "codemirror_mode": {
    "name": "ipython",
    "version": 3
   },
   "file_extension": ".py",
   "mimetype": "text/x-python",
   "name": "python",
   "nbconvert_exporter": "python",
   "pygments_lexer": "ipython3",
   "version": "3.8.13"
  },
  "orig_nbformat": 4,
  "vscode": {
   "interpreter": {
    "hash": "176c92cd5e5485b42e3e73d2f25e60c2ed8f24d584687c4dae8d36d44ade605d"
   }
  }
 },
 "nbformat": 4,
 "nbformat_minor": 2
}
