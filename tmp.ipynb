{
 "cells": [
  {
   "cell_type": "code",
   "execution_count": 1,
   "metadata": {},
   "outputs": [],
   "source": [
    "def convert_text_in_file(file_path, cnt=1):\n",
    "    output_lines = []\n",
    "\n",
    "    with open(file_path, 'r') as file:\n",
    "        for i, line in enumerate(file):\n",
    "            url, title = line.strip().split(\" | \")\n",
    "            paper_title = title.split(\"] \")[1]\n",
    "            formatted_line = f\"{i+cnt+1}. [{paper_title}]({url})\"\n",
    "            output_lines.append(formatted_line)\n",
    "            \n",
    "\n",
    "    return \"\\n\".join(output_lines)\n",
    "\n"
   ]
  },
  {
   "cell_type": "code",
   "execution_count": 3,
   "metadata": {},
   "outputs": [
    {
     "name": "stdout",
     "output_type": "stream",
     "text": [
      "9. [Strategic Usage in a Multi-Learner Setting](https://arxiv.org/abs/2401.16422)\n",
      "10. [InternLM-XComposer2: Mastering Free-form Text-Image Composition and Comprehension in Vision-Language Large Model](https://arxiv.org/abs/2401.16420)\n",
      "11. [Scaling Sparse Fine-Tuning to Large Language Models](https://arxiv.org/abs/2401.16405)\n",
      "12. [Continual Learning with Pre-Trained Models: A Survey](https://arxiv.org/abs/2401.16386)\n",
      "13. [Spatial-Aware Latent Initialization for Controllable Image Generation](https://arxiv.org/abs/2401.16157)\n",
      "14. [Sample Weight Estimation Using Meta-Updates for Online Continual Learning](https://arxiv.org/abs/2401.15973)\n",
      "15. [MoE-LLaVA: Mixture of Experts for Large Vision-Language Models](https://arxiv.org/abs/2401.15947)\n",
      "16. [Overcoming the Pitfalls of Vision-Language Model Finetuning for OOD Generalization](https://arxiv.org/abs/2401.15914)\n",
      "17. [Cross-Scale MAE: A Tale of Multi-Scale Exploitation in Remote Sensing](https://arxiv.org/abs/2401.15855)\n",
      "18. [Few and Fewer: Learning Better from Few Examples Using Fewer Base Classes](https://arxiv.org/abs/2401.15834)\n",
      "19. [Divide and Conquer: Language Models can Plan and Self-Correct for Compositional Text-to-Image Generation](https://arxiv.org/abs/2401.15688)\n",
      "20. [Data-Free Generalized Zero-Shot Learning](https://arxiv.org/abs/2401.15657)\n",
      "21. [IntentTuner: An Interactive Framework for Integrating Human Intents in Fine-tuning Text-to-Image Generative Models](https://arxiv.org/abs/2401.15559)\n",
      "22. [Dynamic Transformer Architecture for Continual Learning of Multimodal Tasks](https://arxiv.org/abs/2401.15275)\n",
      "23. [HiFT: A Hierarchical Full Parameter Fine-Tuning Strategy](https://arxiv.org/abs/2401.15207)\n",
      "24. [Improving Fairness of Automated Chest X-ray Diagnosis by Contrastive Learning](https://arxiv.org/abs/2401.15111)\n"
     ]
    }
   ],
   "source": [
    "# 请将 'path_to_your_file.txt' 替换为你的txt文件路径\n",
    "file_path = 'tmp.txt'\n",
    "converted_text = convert_text_in_file(file_path, cnt=8)\n",
    "print(converted_text)"
   ]
  },
  {
   "cell_type": "code",
   "execution_count": null,
   "metadata": {},
   "outputs": [],
   "source": []
  }
 ],
 "metadata": {
  "kernelspec": {
   "display_name": "pyt38",
   "language": "python",
   "name": "python3"
  },
  "language_info": {
   "codemirror_mode": {
    "name": "ipython",
    "version": 3
   },
   "file_extension": ".py",
   "mimetype": "text/x-python",
   "name": "python",
   "nbconvert_exporter": "python",
   "pygments_lexer": "ipython3",
   "version": "3.9.18"
  },
  "orig_nbformat": 4
 },
 "nbformat": 4,
 "nbformat_minor": 2
}
