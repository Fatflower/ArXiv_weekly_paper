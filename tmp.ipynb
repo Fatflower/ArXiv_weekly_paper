{
 "cells": [
  {
   "cell_type": "code",
   "execution_count": 16,
   "metadata": {},
   "outputs": [],
   "source": [
    "def convert_text_in_file(file_path, cnt=1):\n",
    "    output_lines = []\n",
    "\n",
    "    with open(file_path, 'r') as file:\n",
    "        for i, line in enumerate(file):\n",
    "            url, title = line.strip().split(\" | \")\n",
    "            paper_title = title.split(\"] \")[1]\n",
    "            formatted_line = f\"{i+cnt+1}. [{paper_title}]({url})\"\n",
    "            output_lines.append(formatted_line)\n",
    "            \n",
    "\n",
    "    return \"\\n\".join(output_lines)\n",
    "\n",
    "def result_write_md(markdown_file, output_lines):\n",
    "    with open(markdown_file, 'a') as m_file:\n",
    "        m_file.seek(0, 2)\n",
    "        if m_file.tell() > 0:\n",
    "            m_file.write('\\n')\n",
    "        m_file.write(output_lines)\n",
    "    print(\"Susseccfully write to file!\")\n",
    "\n",
    "\n"
   ]
  },
  {
   "cell_type": "code",
   "execution_count": 17,
   "metadata": {},
   "outputs": [
    {
     "name": "stdout",
     "output_type": "stream",
     "text": [
      "The total number of lines in the file is: 0\n"
     ]
    }
   ],
   "source": [
    "def count_lines_in_file(file_path):\n",
    "    with open(file_path, 'r', encoding='utf-8') as file:\n",
    "        lines = file.readlines()\n",
    "        return len(lines)\n",
    "file_path = '2024/26_week.md'\n",
    "total_lines = count_lines_in_file(file_path)\n",
    "print(f\"The total number of lines in the file is: {total_lines}\")"
   ]
  },
  {
   "cell_type": "code",
   "execution_count": 18,
   "metadata": {},
   "outputs": [
    {
     "name": "stdout",
     "output_type": "stream",
     "text": [
      "1. [Long Context Transfer from Language to Vision](https://arxiv.org/abs/2406.16852)\n",
      "2. [Beyond Thumbs Up/Down: Untangling Challenges of Fine-Grained Feedback for Text-to-Image Generation](https://arxiv.org/abs/2406.16807)\n",
      "3. [Sparser is Faster and Less is More: Efficient Sparse Attention for Long-Range Transformers](https://arxiv.org/abs/2406.16747)\n",
      "4. [LLaMA-MoE: Building Mixture-of-Experts from LLaMA with Continual Pre-training](https://arxiv.org/abs/2406.16554)\n",
      "5. [InterCLIP-MEP: Interactive CLIP and Memory-Enhanced Predictor for Multi-modal Sarcasm Detection](https://arxiv.org/abs/2406.16464)\n",
      "6. [Theory on Mixture-of-Experts in Continual Learning](https://arxiv.org/abs/2406.16437)\n",
      "7. [Exploring Cross-Domain Few-Shot Classification via Frequency-Aware Prompting](https://arxiv.org/abs/2406.16422)\n",
      "8. [What Do VLMs NOTICE? A Mechanistic Interpretability Pipeline for Noise-free Text-Image Corruption and Evaluation](https://arxiv.org/abs/2406.16320)\n",
      "9. [Multimodal Multilabel Classification by CLIP](https://arxiv.org/abs/2406.16141)\n",
      "10. [A Simple Framework for Open-Vocabulary Zero-Shot Segmentation](https://arxiv.org/abs/2406.16085)\n",
      "11. [Smart Feature is What You Need](https://arxiv.org/abs/2406.15805)\n",
      "12. [TP-DRSeg: Improving Diabetic Retinopathy Lesion Segmentation with Explicit Text-Prompts Assisted SAM](https://arxiv.org/abs/2406.15764)\n",
      "13. [Self-Supervised Alignment Learning for Medical Image Segmentation](https://arxiv.org/abs/2406.15699)\n",
      "14. [Feature Purified Transformer With Cross-level Feature Guiding Decoder For Multi-class OOD and Anomaly Deteciton](https://arxiv.org/abs/2406.15396)\n",
      "15. [Demystifying the Effect of Receptive Field Size in U-Net Models for Medical Image Segmentation](https://arxiv.org/abs/2406.16701)\n",
      "16. [OAML: Outlier Aware Metric Learning for OOD Detection Enhancement](https://arxiv.org/abs/2406.16525)\n",
      "17. [Combine and Conquer: A Meta-Analysis on Data Shift and Out-of-Distribution Detection](https://arxiv.org/abs/2406.16045)\n",
      "18. [Automated radiotherapy treatment planning guided by GPT-4Vision](https://arxiv.org/abs/2406.15609)\n",
      "19. [Retrieval Augmented Zero-Shot Text Classification](https://arxiv.org/abs/2406.15241)\n",
      "20. [Deciphering the Definition of Adversarial Robustness for post-hoc OOD Detectors](https://arxiv.org/abs/2406.15104)\n",
      "21. [Neural Incremental Data Assimilation](https://arxiv.org/abs/2406.15076)\n",
      "22. [Domain Adaptation of Llama3-70B-Instruct through Continual Pre-Training and Model Merging: A Comprehensive Evaluation](https://arxiv.org/abs/2406.14971)\n",
      "23. [Skip and Skip: Segmenting Medical Images with Prompts](https://arxiv.org/abs/2406.14958)\n",
      "24. [CLIP-Decoder : ZeroShot Multilabel Classification using Multimodal CLIP Aligned Representation](https://arxiv.org/abs/2406.14830)\n",
      "25. [Rapid and Accurate Diagnosis of Acute Aortic Syndrome using Non-contrast CT: A Large-scale, Retrospective, Multi-center and AI-based Study](https://arxiv.org/abs/2406.15222)\n",
      "26. [SelfReg-UNet: Self-Regularized UNet for Medical Image Segmentation](https://arxiv.org/abs/2406.14896)\n"
     ]
    }
   ],
   "source": [
    "# 请将 'path_to_your_file.txt' 替换为你的txt文件路径\n",
    "file_path_tmp = 'tmp.txt'\n",
    "converted_text = convert_text_in_file(file_path_tmp, cnt=total_lines)\n",
    "\n",
    "print(converted_text)"
   ]
  },
  {
   "cell_type": "code",
   "execution_count": 19,
   "metadata": {},
   "outputs": [
    {
     "name": "stdout",
     "output_type": "stream",
     "text": [
      "Susseccfully write to file!\n"
     ]
    }
   ],
   "source": [
    "# 写入Readme.md文件\n",
    "markdown_file = 'README.md'\n",
    "output_lines = converted_text\n",
    "result_write_md(markdown_file, output_lines)\n",
    "\n"
   ]
  },
  {
   "cell_type": "code",
   "execution_count": 20,
   "metadata": {},
   "outputs": [
    {
     "name": "stdout",
     "output_type": "stream",
     "text": [
      "Susseccfully write to file!\n"
     ]
    }
   ],
   "source": [
    "# 写入本周的markdown文件\n",
    "\n",
    "output_lines = converted_text\n",
    "result_write_md(file_path, output_lines)"
   ]
  }
 ],
 "metadata": {
  "kernelspec": {
   "display_name": "Python 3.8.13 ('pyt38')",
   "language": "python",
   "name": "python3"
  },
  "language_info": {
   "codemirror_mode": {
    "name": "ipython",
    "version": 3
   },
   "file_extension": ".py",
   "mimetype": "text/x-python",
   "name": "python",
   "nbconvert_exporter": "python",
   "pygments_lexer": "ipython3",
   "version": "3.8.13"
  },
  "orig_nbformat": 4,
  "vscode": {
   "interpreter": {
    "hash": "176c92cd5e5485b42e3e73d2f25e60c2ed8f24d584687c4dae8d36d44ade605d"
   }
  }
 },
 "nbformat": 4,
 "nbformat_minor": 2
}
