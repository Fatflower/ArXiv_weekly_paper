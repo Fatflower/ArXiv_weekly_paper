{
 "cells": [
  {
   "cell_type": "code",
   "execution_count": 1,
   "metadata": {},
   "outputs": [
    {
     "name": "stdout",
     "output_type": "stream",
     "text": [
      "15. [Finding Visual Task Vectors](https://arxiv.org/abs/2404.05729)\n",
      "16. [Evaluating the Efficacy of Cut-and-Paste Data Augmentation in Semantic Segmentation for Satellite Imagery](https://arxiv.org/abs/2404.05693)\n",
      "17. [AlignZeg: Mitigating Objective Misalignment for Zero-shot Semantic Segmentation](https://arxiv.org/abs/2404.05667)\n",
      "18. [MLP Can Be A Good Transformer Learner](https://arxiv.org/abs/2404.05657)\n",
      "19. [MULTIFLOW: Shifting Towards Task-Agnostic Vision-Language Pruning](https://arxiv.org/abs/2404.05621)\n",
      "20. [Eye Tracking on Text Reading with Visual Enhancements](https://arxiv.org/abs/2404.05572)\n",
      "21. [Investigating the Effectiveness of Cross-Attention to Unlock Zero-Shot Editing of Text-to-Video Diffusion Models](https://arxiv.org/abs/2404.05519)\n",
      "22. [Mind-to-Image: Projecting Visual Mental Imagination of the Brain from fMRI](https://arxiv.org/abs/2404.05468)\n",
      "23. [Unlocking Adaptive User Experience with Generative AI](https://arxiv.org/abs/2404.05442)\n",
      "24. [PAT: Pixel-wise Adaptive Training for Long-tailed Segmentation](https://arxiv.org/abs/2404.05393)\n",
      "25. [Rethinking the Spatial Inconsistency in Classifier-Free Diffusion Guidance](https://arxiv.org/abs/2404.05384)\n",
      "26. [Mask-ControlNet: Higher-Quality Image Generation with An Additional Mask Prompt](https://arxiv.org/abs/2404.05331)\n",
      "27. [PromptAD: Learning Prompts with only Normal Samples for Few-Shot Anomaly Detection](https://arxiv.org/abs/2404.05231)\n",
      "28. [DLoRA: Distributed Parameter-Efficient Fine-Tuning Solution for Large Language Model](https://arxiv.org/abs/2404.05182)\n",
      "29. [Plug and Play with Prompts: A Prompt Tuning Approach for Controlling Text Generation](https://arxiv.org/abs/2404.05143)\n",
      "30. [Fantastic Animals and Where to Find Them: Segment Any Marine Animal with Dual SAM](https://arxiv.org/abs/2404.04996)\n",
      "31. [FPL+: Filtered Pseudo Label-based Unsupervised Cross-Modality Adaptation for 3D Medical Image Segmentation](https://arxiv.org/abs/2404.04971)\n",
      "32. [DL-EWF: Deep Learning Empowering Women's Fashion with Grounded-Segment-Anything Segmentation for Body Shape Classification](https://arxiv.org/abs/2404.04891)\n",
      "33. [Mixture of Low-rank Experts for Transferable AI-Generated Image Detection](https://arxiv.org/abs/2404.04883)\n",
      "34. [On the Learnability of Out-of-distribution Detection](https://arxiv.org/abs/2404.04865)\n",
      "35. [ProtoAL: Interpretable Deep Active Learning with prototypes for medical imaging](https://arxiv.org/abs/2404.04736)\n",
      "36. [BeyondScene: Higher-Resolution Human-Centric Scene Generation With Pretrained Diffusion](https://arxiv.org/abs/2404.04544)\n",
      "37. [Frequency Decomposition-Driven Unsupervised Domain Adaptation for Remote Sensing Image Semantic Segmentation](https://arxiv.org/abs/2404.04531)\n",
      "38. [MedIAnomaly: A comparative study of anomaly detection in medical images](https://arxiv.org/abs/2404.04518)\n",
      "39. [DELTA: Decoupling Long-Tailed Online Continual Learning](https://arxiv.org/abs/2404.04476)\n",
      "40. [Idea-2-3D: Collaborative LMM Agents Enable 3D Model Generation from Interleaved Multimodal Inputs](https://arxiv.org/abs/2404.04363)\n"
     ]
    }
   ],
   "source": [
    "def convert_text_in_file(file_path, cnt=1):\n",
    "    output_lines = []\n",
    "\n",
    "    with open(file_path, 'r') as file:\n",
    "        for i, line in enumerate(file):\n",
    "            url, title = line.strip().split(\" | \")\n",
    "            paper_title = title.split(\"] \")[1]\n",
    "            formatted_line = f\"{i+cnt+1}. [{paper_title}]({url})\"\n",
    "            output_lines.append(formatted_line)\n",
    "            \n",
    "\n",
    "    return \"\\n\".join(output_lines)\n",
    "\n",
    "\n",
    "# 请将 'path_to_your_file.txt' 替换为你的txt文件路径\n",
    "file_path = 'tmp.txt'\n",
    "converted_text = convert_text_in_file(file_path, cnt=14)\n",
    "print(converted_text)"
   ]
  },
  {
   "cell_type": "code",
   "execution_count": null,
   "metadata": {},
   "outputs": [],
   "source": []
  }
 ],
 "metadata": {
  "kernelspec": {
   "display_name": "pyt38",
   "language": "python",
   "name": "python3"
  },
  "language_info": {
   "codemirror_mode": {
    "name": "ipython",
    "version": 3
   },
   "file_extension": ".py",
   "mimetype": "text/x-python",
   "name": "python",
   "nbconvert_exporter": "python",
   "pygments_lexer": "ipython3",
   "version": "3.8.13"
  },
  "orig_nbformat": 4
 },
 "nbformat": 4,
 "nbformat_minor": 2
}
