{
 "cells": [
  {
   "cell_type": "code",
   "execution_count": 1,
   "metadata": {},
   "outputs": [],
   "source": [
    "def convert_text_in_file(file_path, cnt=1):\n",
    "    output_lines = []\n",
    "\n",
    "    with open(file_path, 'r') as file:\n",
    "        for i, line in enumerate(file):\n",
    "            url, title = line.strip().split(\" | \")\n",
    "            paper_title = title.split(\"] \")[1]\n",
    "            formatted_line = f\"{i+cnt+1}. [{paper_title}]({url})\"\n",
    "            output_lines.append(formatted_line)\n",
    "            \n",
    "\n",
    "    return \"\\n\".join(output_lines)\n",
    "\n",
    "def result_write_md(markdown_file, output_lines):\n",
    "    with open(markdown_file, 'a') as m_file:\n",
    "        m_file.seek(0, 2)\n",
    "        if m_file.tell() > 0:\n",
    "            m_file.write('\\n')\n",
    "        m_file.write(output_lines)\n",
    "    print(\"Susseccfully write to file!\")\n",
    "\n",
    "\n"
   ]
  },
  {
   "cell_type": "code",
   "execution_count": 2,
   "metadata": {},
   "outputs": [
    {
     "name": "stdout",
     "output_type": "stream",
     "text": [
      "The total number of lines in the file is: 49\n"
     ]
    }
   ],
   "source": [
    "def count_lines_in_file(file_path):\n",
    "    with open(file_path, 'r', encoding='utf-8') as file:\n",
    "        lines = file.readlines()\n",
    "        return len(lines)\n",
    "file_path = '2024/41_week.md'\n",
    "total_lines = count_lines_in_file(file_path)\n",
    "print(f\"The total number of lines in the file is: {total_lines}\")"
   ]
  },
  {
   "cell_type": "code",
   "execution_count": 3,
   "metadata": {},
   "outputs": [
    {
     "name": "stdout",
     "output_type": "stream",
     "text": [
      "50. [Multi-View and Multi-Scale Alignment for Contrastive Language-Image Pre-training in Mammography](https://arxiv.org/abs/2409.18119)\n",
      "51. [Cascade Prompt Learning for Vision-Language Model Adaptation](https://arxiv.org/abs/2409.17805)\n",
      "52. [EM-Net: Efficient Channel and Frequency Learning with Mamba for 3D Medical Image Segmentation](https://arxiv.org/abs/2409.17675)\n",
      "53. [Revisiting Deep Ensemble Uncertainty for Enhanced Medical Anomaly Detection](https://arxiv.org/abs/2409.17485)\n",
      "54. [AgMTR: Agent Mining Transformer for Few-shot Segmentation in Remote Sensing](https://arxiv.org/abs/2409.17453)\n",
      "55. [Rejection Sampling IMLE: Designing Priors for Better Few-Shot Image Synthesis](https://arxiv.org/abs/2409.17439)\n",
      "56. [Block Expanded DINORET: Adapting Natural Domain Foundation Models for Retinal Imaging Without Catastrophic Forgetting](https://arxiv.org/abs/2409.17332)\n",
      "57. [VL4AD: Vision-Language Models Improve Pixel-wise Anomaly Detection](https://arxiv.org/abs/2409.17330)\n",
      "58. [Global-Local Medical SAM Adaptor Based on Full Adaption](https://arxiv.org/abs/2409.17486)\n",
      "59. [Attention Prompting on Image for Large Vision-Language Models](https://arxiv.org/abs/2409.17143)\n",
      "60. [Text2CAD: Generating Sequential CAD Models from Beginner-to-Expert Level Text Prompts](https://arxiv.org/abs/2409.17106)\n",
      "61. [DALDA: Data Augmentation Leveraging Diffusion Model and LLM with Adaptive Guidance Scaling](https://arxiv.org/abs/2409.16949)\n",
      "62. [The Role of Language Models in Modern Healthcare: A Comprehensive Review](https://www.arxiv.org/abs/2409.16860)\n",
      "63. [EAGLE: Towards Efficient Arbitrary Referring Visual Prompts Comprehension for Multimodal Large Language Models](https://arxiv.org/abs/2409.16723)\n",
      "64. [Vision-Language Model Fine-Tuning via Simple Parameter-Efficient Modification](https://arxiv.org/abs/2409.16718)\n",
      "65. [Prompt Sliders for Fine-Grained Control, Editing and Erasing of Concepts in Diffusion Models](https://arxiv.org/abs/2409.16535)\n",
      "66. [A Unified Hallucination Mitigation Framework for Large Vision-Language Models](https://www.arxiv.org/abs/2409.16494)\n",
      "67. [Classification of Gleason Grading in Prostate Cancer Histopathology Images Using Deep Learning Techniques: YOLO, Vision Transformers, and Vision Mamba](https://arxiv.org/abs/2409.17122)\n",
      "68. [Scalable Ensemble Diversification for OOD Generalization and Detection](https://arxiv.org/abs/2409.16797)\n",
      "69. [SDCL: Students Discrepancy-Informed Correction Learning for Semi-supervised Medical Image Segmentation](https://arxiv.org/abs/2409.16728)\n",
      "70. [Lessons Learned from a Unifying Empirical Study of Parameter-Efficient Transfer Learning (PETL) in Visual Recognition](https://arxiv.org/abs/2409.16434)\n",
      "71. [Patch-Based Contrastive Learning and Memory Consolidation for Online Unsupervised Continual Learning](https://arxiv.org/abs/2409.16391)\n"
     ]
    }
   ],
   "source": [
    "# 请将 'path_to_your_file.txt' 替换为你的txt文件路径\n",
    "file_path_tmp = 'tmp.txt'\n",
    "converted_text = convert_text_in_file(file_path_tmp, cnt=total_lines)\n",
    "\n",
    "print(converted_text)"
   ]
  },
  {
   "cell_type": "code",
   "execution_count": 9,
   "metadata": {},
   "outputs": [
    {
     "name": "stdout",
     "output_type": "stream",
     "text": [
      "Susseccfully write to file!\n"
     ]
    }
   ],
   "source": [
    "# 写入Readme.md文件\n",
    "markdown_file = 'README.md'\n",
    "output_lines = converted_text\n",
    "result_write_md(markdown_file, output_lines)\n",
    "\n"
   ]
  },
  {
   "cell_type": "code",
   "execution_count": 4,
   "metadata": {},
   "outputs": [
    {
     "name": "stdout",
     "output_type": "stream",
     "text": [
      "Susseccfully write to file!\n"
     ]
    }
   ],
   "source": [
    "# 写入本周的markdown文件\n",
    "\n",
    "output_lines = converted_text\n",
    "result_write_md(file_path, output_lines)"
   ]
  }
 ],
 "metadata": {
  "kernelspec": {
   "display_name": "Python 3.8.13 ('pyt38')",
   "language": "python",
   "name": "python3"
  },
  "language_info": {
   "codemirror_mode": {
    "name": "ipython",
    "version": 3
   },
   "file_extension": ".py",
   "mimetype": "text/x-python",
   "name": "python",
   "nbconvert_exporter": "python",
   "pygments_lexer": "ipython3",
   "version": "3.8.13"
  },
  "orig_nbformat": 4,
  "vscode": {
   "interpreter": {
    "hash": "176c92cd5e5485b42e3e73d2f25e60c2ed8f24d584687c4dae8d36d44ade605d"
   }
  }
 },
 "nbformat": 4,
 "nbformat_minor": 2
}
