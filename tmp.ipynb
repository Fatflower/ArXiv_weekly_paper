{
 "cells": [
  {
   "cell_type": "code",
   "execution_count": 1,
   "metadata": {},
   "outputs": [
    {
     "name": "stdout",
     "output_type": "stream",
     "text": [
      "1. [Sigma: Siamese Mamba Network for Multi-Modal Semantic Segmentation](https://arxiv.org/abs/2404.04256)\n",
      "2. [Identity Decoupling for Multi-Subject Personalization of Text-to-Image Models](https://arxiv.org/abs/2404.04243)\n",
      "3. [Image-Text Co-Decomposition for Text-Supervised Semantic Segmentation](https://arxiv.org/abs/2404.04231)\n",
      "4. [Unlocking Parameter-Efficient Fine-Tuning for Low-Resource Language Translation](https://arxiv.org/abs/2404.04212)\n",
      "5. [Exploring Probabilistic Models for Semi-supervised Learning](https://arxiv.org/abs/2404.04199)\n",
      "6. [Chinese Tiny LLM: Pretraining a Chinese-Centric Large Language Model](https://arxiv.org/abs/2404.04167)\n",
      "7. [Generative AI in the Wild: Prospects, Challenges, and Strategies](https://arxiv.org/abs/2404.04101)\n",
      "8. [Dynamic Prompt Optimizing for Text-to-Image Generation](https://arxiv.org/abs/2404.04095)\n",
      "9. [Label Propagation for Zero-shot Classification with Vision-Language Models](https://arxiv.org/abs/2404.04072)\n",
      "10. [CLUE: A Clinical Language Understanding Evaluation for LLMs](https://arxiv.org/abs/2404.04067)\n",
      "11. [Teaching Llama a New Language Through Cross-Lingual Knowledge Transfer](https://arxiv.org/abs/2404.04042)\n",
      "12. [Concept Weaver: Enabling Multi-Concept Fusion in Text-to-Image Models](https://arxiv.org/abs/2404.03913)\n",
      "13. [Multi-Task Learning for Lung sound & Lung disease classification](https://arxiv.org/abs/2404.03908)\n",
      "14. [Bi-level Guided Diffusion Models for Zero-Shot Medical Imaging Inverse Problems](https://arxiv.org/abs/2404.03706)\n"
     ]
    }
   ],
   "source": [
    "def convert_text_in_file(file_path, cnt=1):\n",
    "    output_lines = []\n",
    "\n",
    "    with open(file_path, 'r') as file:\n",
    "        for i, line in enumerate(file):\n",
    "            url, title = line.strip().split(\" | \")\n",
    "            paper_title = title.split(\"] \")[1]\n",
    "            formatted_line = f\"{i+cnt+1}. [{paper_title}]({url})\"\n",
    "            output_lines.append(formatted_line)\n",
    "            \n",
    "\n",
    "    return \"\\n\".join(output_lines)\n",
    "\n",
    "\n",
    "# 请将 'path_to_your_file.txt' 替换为你的txt文件路径\n",
    "file_path = 'tmp.txt'\n",
    "converted_text = convert_text_in_file(file_path, cnt=0)\n",
    "print(converted_text)"
   ]
  },
  {
   "cell_type": "code",
   "execution_count": null,
   "metadata": {},
   "outputs": [],
   "source": []
  }
 ],
 "metadata": {
  "kernelspec": {
   "display_name": "pyt38",
   "language": "python",
   "name": "python3"
  },
  "language_info": {
   "codemirror_mode": {
    "name": "ipython",
    "version": 3
   },
   "file_extension": ".py",
   "mimetype": "text/x-python",
   "name": "python",
   "nbconvert_exporter": "python",
   "pygments_lexer": "ipython3",
   "version": "3.8.13"
  },
  "orig_nbformat": 4
 },
 "nbformat": 4,
 "nbformat_minor": 2
}
