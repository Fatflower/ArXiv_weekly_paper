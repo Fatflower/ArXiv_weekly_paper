{
 "cells": [
  {
   "cell_type": "code",
   "execution_count": 1,
   "metadata": {},
   "outputs": [],
   "source": [
    "def convert_text_in_file(file_path, cnt=1):\n",
    "    output_lines = []\n",
    "\n",
    "    with open(file_path, 'r') as file:\n",
    "        for i, line in enumerate(file):\n",
    "            url, title = line.strip().split(\" | \")\n",
    "            paper_title = title.split(\"] \")[1]\n",
    "            formatted_line = f\"{i+cnt+1}. [{paper_title}]({url})\"\n",
    "            output_lines.append(formatted_line)\n",
    "            \n",
    "\n",
    "    return \"\\n\".join(output_lines)\n",
    "\n",
    "def result_write_md(markdown_file, output_lines):\n",
    "    with open(markdown_file, 'a') as m_file:\n",
    "        m_file.seek(0, 2)\n",
    "        if m_file.tell() > 0:\n",
    "            m_file.write('\\n')\n",
    "        m_file.write(output_lines)\n",
    "    print(\"Susseccfully write to file!\")\n",
    "\n",
    "\n"
   ]
  },
  {
   "cell_type": "code",
   "execution_count": 2,
   "metadata": {},
   "outputs": [
    {
     "name": "stdout",
     "output_type": "stream",
     "text": [
      "The total number of lines in the file is: 30\n"
     ]
    }
   ],
   "source": [
    "def count_lines_in_file(file_path):\n",
    "    with open(file_path, 'r', encoding='utf-8') as file:\n",
    "        lines = file.readlines()\n",
    "        return len(lines)\n",
    "file_path = '2024/39_week.md'\n",
    "total_lines = count_lines_in_file(file_path)\n",
    "print(f\"The total number of lines in the file is: {total_lines}\")"
   ]
  },
  {
   "cell_type": "code",
   "execution_count": 3,
   "metadata": {},
   "outputs": [
    {
     "name": "stdout",
     "output_type": "stream",
     "text": [
      "31. [Aided design of bridge aesthetics based on Stable Diffusion fine-tuning](https://arxiv.org/abs/2409.15812)\n",
      "32. [DIAL: Dense Image-text ALignment for Weakly Supervised Semantic Segmentation](https://arxiv.org/abs/2409.15801)\n",
      "33. [TFG: Unified Training-Free Guidance for Diffusion Models](https://arxiv.org/abs/2409.15761)\n",
      "34. [Making Text Embedders Few-Shot Learners](https://arxiv.org/abs/2409.15700)\n",
      "35. [Clinical-grade Multi-Organ Pathology Report Generation for Multi-scale Whole Slide Images via a Semantically Guided Medical Text Foundation Model](https://arxiv.org/abs/2409.15574)\n",
      "36. [Critic Loss for Image Classification](https://arxiv.org/abs/2409.15565)\n",
      "37. [VLMine: Long-Tail Data Mining with Vision Language Models](https://arxiv.org/abs/2409.15486)\n",
      "38. [Visual Prompting in Multimodal Large Language Models: A Survey](https://arxiv.org/abs/2409.15310)\n",
      "39. [CAD: Memory Efficient Convolutional Adapter for Segment Anything](https://arxiv.org/abs/2409.15889)\n",
      "40. [Zero-Shot Detection of AI-Generated Images](https://arxiv.org/abs/2409.15875)\n",
      "41. [Bridging Environments and Language with Rendering Functions and Vision-Language Models](https://arxiv.org/abs/2409.16024)\n",
      "42. [Unleashing the Potential of Synthetic Images: A Study on Histopathology Image Classification](https://arxiv.org/abs/2409.16002)\n",
      "43. [Exploring the Impact of Outlier Variability on Anomaly Detection Evaluation Metrics](https://arxiv.org/abs/2409.15986)\n",
      "44. [Articulated Object Manipulation using Online Axis Estimation with SAM2-Based Tracking](https://arxiv.org/abs/2409.16287)\n",
      "45. [Label-Augmented Dataset Distillation](https://arxiv.org/abs/2409.16239)\n",
      "46. [Fine-Tuning is Fine, if Calibrated](https://arxiv.org/abs/2409.16223)\n",
      "47. [Segmentation Strategies in Deep Learning for Prostate Cancer Diagnosis: A Comparative Study of Mamba, SAM, and YOLO](https://arxiv.org/abs/2409.16205)\n",
      "48. [HA-FGOVD: Highlighting Fine-grained Attributes via Explicit Linear Composition for Open-Vocabulary Object Detection](https://arxiv.org/abs/2409.16136)\n",
      "49. [VisioPhysioENet: Multimodal Engagement Detection using Visual and Physiological Signals](https://arxiv.org/abs/2409.16126)\n"
     ]
    }
   ],
   "source": [
    "# 请将 'path_to_your_file.txt' 替换为你的txt文件路径\n",
    "file_path_tmp = 'tmp.txt'\n",
    "converted_text = convert_text_in_file(file_path_tmp, cnt=total_lines)\n",
    "\n",
    "print(converted_text)"
   ]
  },
  {
   "cell_type": "code",
   "execution_count": 4,
   "metadata": {},
   "outputs": [
    {
     "name": "stdout",
     "output_type": "stream",
     "text": [
      "Susseccfully write to file!\n"
     ]
    }
   ],
   "source": [
    "# 写入Readme.md文件\n",
    "markdown_file = 'README.md'\n",
    "output_lines = converted_text\n",
    "result_write_md(markdown_file, output_lines)\n",
    "\n"
   ]
  },
  {
   "cell_type": "code",
   "execution_count": 5,
   "metadata": {},
   "outputs": [
    {
     "name": "stdout",
     "output_type": "stream",
     "text": [
      "Susseccfully write to file!\n"
     ]
    }
   ],
   "source": [
    "# 写入本周的markdown文件\n",
    "\n",
    "output_lines = converted_text\n",
    "result_write_md(file_path, output_lines)"
   ]
  }
 ],
 "metadata": {
  "kernelspec": {
   "display_name": "Python 3.8.13 ('pyt38')",
   "language": "python",
   "name": "python3"
  },
  "language_info": {
   "codemirror_mode": {
    "name": "ipython",
    "version": 3
   },
   "file_extension": ".py",
   "mimetype": "text/x-python",
   "name": "python",
   "nbconvert_exporter": "python",
   "pygments_lexer": "ipython3",
   "version": "3.8.13"
  },
  "orig_nbformat": 4,
  "vscode": {
   "interpreter": {
    "hash": "176c92cd5e5485b42e3e73d2f25e60c2ed8f24d584687c4dae8d36d44ade605d"
   }
  }
 },
 "nbformat": 4,
 "nbformat_minor": 2
}
