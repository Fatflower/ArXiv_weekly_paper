{
 "cells": [
  {
   "cell_type": "code",
   "execution_count": 1,
   "metadata": {},
   "outputs": [],
   "source": [
    "def convert_text_in_file(file_path, cnt=1):\n",
    "    output_lines = []\n",
    "\n",
    "    with open(file_path, 'r') as file:\n",
    "        for i, line in enumerate(file):\n",
    "            url, title = line.strip().split(\" | \")\n",
    "            paper_title = title.split(\"] \")[1]\n",
    "            formatted_line = f\"{i+cnt+1}. [{paper_title}]({url})\"\n",
    "            output_lines.append(formatted_line)\n",
    "            \n",
    "\n",
    "    return \"\\n\".join(output_lines)\n",
    "\n",
    "def result_write_md(markdown_file, output_lines):\n",
    "    with open(markdown_file, 'a') as m_file:\n",
    "        m_file.seek(0, 2)\n",
    "        if m_file.tell() > 0:\n",
    "            m_file.write('\\n')\n",
    "        m_file.write(output_lines)\n",
    "    print(\"Susseccfully write to file!\")\n",
    "\n",
    "\n"
   ]
  },
  {
   "cell_type": "code",
   "execution_count": 2,
   "metadata": {},
   "outputs": [
    {
     "name": "stdout",
     "output_type": "stream",
     "text": [
      "The total number of lines in the file is: 47\n"
     ]
    }
   ],
   "source": [
    "def count_lines_in_file(file_path):\n",
    "    with open(file_path, 'r', encoding='utf-8') as file:\n",
    "        lines = file.readlines()\n",
    "        return len(lines)\n",
    "file_path = '2024/35_week.md'\n",
    "total_lines = count_lines_in_file(file_path)\n",
    "print(f\"The total number of lines in the file is: {total_lines}\")"
   ]
  },
  {
   "cell_type": "code",
   "execution_count": 3,
   "metadata": {},
   "outputs": [
    {
     "name": "stdout",
     "output_type": "stream",
     "text": [
      "48. [Mamba or Transformer for Time Series Forecasting? Mixture of Universals (MoU) Is All You Need](https://arxiv.org/abs/2408.15997)\n",
      "49. [Eagle: Exploring The Design Space for Multimodal LLMs with Mixture of Encoders](https://arxiv.org/abs/2408.15998)\n",
      "50. [In-Context Imitation Learning via Next-Token Prediction](https://arxiv.org/abs/2408.15980)\n",
      "51. [Local Descriptors Weighted Adaptive Threshold Filtering For Few-Shot Learning](https://arxiv.org/abs/2408.15924)\n",
      "52. [LLaVA-MoD: Making LLaVA Tiny via MoE Knowledge Distillation](https://arxiv.org/abs/2408.15881)\n",
      "53. [GenDDS: Generating Diverse Driving Video Scenarios with Prompt-to-Video Generative Model](https://arxiv.org/abs/2408.15868)\n",
      "54. [Evaluating Named Entity Recognition Using Few-Shot Prompting with Large Language Models](https://arxiv.org/abs/2408.15796)\n",
      "55. [A Survey on Evaluation of Multimodal Large Language Models](https://arxiv.org/abs/2408.15769)\n",
      "56. [MambaPlace:Text-to-Point-Cloud Cross-Modal Place Recognition with Attention Mamba Mechanisms](https://arxiv.org/abs/2408.15740)\n",
      "57. [Auxiliary-Loss-Free Load Balancing Strategy for Mixture-of-Experts](https://arxiv.org/abs/2408.15664)\n",
      "58. [TeFF: Tracking-enhanced Forgetting-free Few-shot 3D LiDAR Semantic Segmentation](https://arxiv.org/abs/2408.15657)\n",
      "59. [MMDRFuse: Distilled Mini-Model with Dynamic Refresh for Multi-Modality Image Fusion](https://arxiv.org/abs/2408.15641)\n",
      "60. [Hierarchical Visual Categories Modeling: A Joint Representation Learning and Density Estimation Framework for Out-of-Distribution Detection](https://arxiv.org/abs/2408.15580)\n",
      "61. [TagOOD: A Novel Approach to Out-of-Distribution Detection via Vision-Language Representations and Class Center Learning](https://arxiv.org/abs/2408.15566)\n",
      "62. [SciLitLLM: How to Adapt LLMs for Scientific Literature Understanding](https://arxiv.org/abs/2408.15545)\n",
      "63. [PromptSmooth: Certifying Robustness of Medical Vision-Language Models via Prompt Learning](https://arxiv.org/abs/2408.16769)\n",
      "64. [SAM2Point: Segment Any 3D as Videos in Zero-shot and Promptable Manners](https://arxiv.org/abs/2408.16768)\n",
      "65. [CSGO: Content-Style Composition in Text-to-Image Generation](https://arxiv.org/abs/2408.16766)\n",
      "66. [Smaller, Weaker, Yet Better: Training LLM Reasoners via Compute-Optimal Sampling](https://arxiv.org/abs/2408.16737)\n",
      "67. [Prediction-Feedback DETR for Temporal Action Detection](https://arxiv.org/abs/2408.16729)\n",
      "68. [RLCP: A Reinforcement Learning-based Copyright Protection Method for Text-to-Image Diffusion Model](https://arxiv.org/abs/2408.16634)\n",
      "69. [Seeking the Sufficiency and Necessity Causal Features in Multimodal Representation Learning](https://arxiv.org/abs/2408.16577)\n",
      "70. [Adapting Vision-Language Models to Open Classes via Test-Time Prompt Tuning](https://arxiv.org/abs/2408.16486)\n",
      "71. [A Comparative Study of Hyperparameter Tuning Methods](https://arxiv.org/abs/2408.16425)\n",
      "72. [Neural Spectral Decomposition for Dataset Distillation](https://arxiv.org/abs/2408.16236)\n",
      "73. [LLaVA-SG: Leveraging Scene Graphs as Visual Semantic Expression in Vision-Language Models](https://arxiv.org/abs/2408.16224)\n",
      "74. [Training-free Video Temporal Grounding using Large-scale Pre-trained Models](https://arxiv.org/abs/2408.16219)\n",
      "75. [DLM-VMTL:A Double Layer Mapper for heterogeneous data video Multi-task prompt learning](https://arxiv.org/abs/2408.16195)\n",
      "76. [VLM4Bio: A Benchmark Dataset to Evaluate Pretrained Vision-Language Models for Trait Discovery from Biological Images](https://arxiv.org/abs/2408.16176)\n",
      "77. [Using Backbone Foundation Model for Evaluating Fairness in Chest Radiography Without Demographic Data](https://arxiv.org/abs/2408.16130)\n",
      "78. [A More Unified Theory of Transfer Learning](https://arxiv.org/abs/2408.16189)\n"
     ]
    }
   ],
   "source": [
    "# 请将 'path_to_your_file.txt' 替换为你的txt文件路径\n",
    "file_path_tmp = 'tmp.txt'\n",
    "converted_text = convert_text_in_file(file_path_tmp, cnt=total_lines)\n",
    "\n",
    "print(converted_text)"
   ]
  },
  {
   "cell_type": "code",
   "execution_count": 4,
   "metadata": {},
   "outputs": [
    {
     "name": "stdout",
     "output_type": "stream",
     "text": [
      "Susseccfully write to file!\n"
     ]
    }
   ],
   "source": [
    "# 写入Readme.md文件\n",
    "markdown_file = 'README.md'\n",
    "output_lines = converted_text\n",
    "result_write_md(markdown_file, output_lines)\n",
    "\n"
   ]
  },
  {
   "cell_type": "code",
   "execution_count": 5,
   "metadata": {},
   "outputs": [
    {
     "name": "stdout",
     "output_type": "stream",
     "text": [
      "Susseccfully write to file!\n"
     ]
    }
   ],
   "source": [
    "# 写入本周的markdown文件\n",
    "\n",
    "output_lines = converted_text\n",
    "result_write_md(file_path, output_lines)"
   ]
  }
 ],
 "metadata": {
  "kernelspec": {
   "display_name": "Python 3.8.13 ('pyt38')",
   "language": "python",
   "name": "python3"
  },
  "language_info": {
   "codemirror_mode": {
    "name": "ipython",
    "version": 3
   },
   "file_extension": ".py",
   "mimetype": "text/x-python",
   "name": "python",
   "nbconvert_exporter": "python",
   "pygments_lexer": "ipython3",
   "version": "3.8.13"
  },
  "orig_nbformat": 4,
  "vscode": {
   "interpreter": {
    "hash": "176c92cd5e5485b42e3e73d2f25e60c2ed8f24d584687c4dae8d36d44ade605d"
   }
  }
 },
 "nbformat": 4,
 "nbformat_minor": 2
}
