{
 "cells": [
  {
   "cell_type": "code",
   "execution_count": 7,
   "metadata": {},
   "outputs": [
    {
     "name": "stdout",
     "output_type": "stream",
     "text": [
      "30. [BiMediX: Bilingual Medical Mixture of Experts LLM](https://arxiv.org/abs/2402.13253)\n",
      "31. [A Touch, Vision, and Language Dataset for Multimodal Alignment](https://arxiv.org/abs/2402.13232)\n",
      "32. [A Survey on Knowledge Distillation of Large Language Models](https://arxiv.org/abs/2402.13116)\n",
      "33. [Slot-VLM: SlowFast Slots for Video-Language Modeling](https://arxiv.org/abs/2402.13088)\n",
      "34. [UniCell: Universal Cell Nucleus Classification via Prompt Learning](https://arxiv.org/abs/2402.12938)\n",
      "35. [Handling Ambiguity in Emotion: From Out-of-Domain Detection to Distribution Estimation](https://arxiv.org/abs/2402.12862)\n",
      "36. [Instruction-tuned Language Models are Better Knowledge Learners](https://arxiv.org/abs/2402.12847)\n",
      "37. [Fine-Tuning, Prompting, In-Context Learning and Instruction-Tuning: How Many Labelled Samples Do We Need?](https://arxiv.org/abs/2402.12819)\n",
      "38. [A User-Friendly Framework for Generating Model-Preferred Prompts in Text-to-Image Synthesis](https://arxiv.org/abs/2402.12760)\n",
      "39. [Me LLaMA: Foundation Large Language Models for Medical Applications](https://arxiv.org/abs/2402.12749)\n",
      "40. [CST: Calibration Side-Tuning for Parameter and Memory Efficient Transfer Learning](https://arxiv.org/abs/2402.12736)\n",
      "41. [HyperMoE: Towards Better Mixture of Experts via Transferring Among Experts](https://arxiv.org/abs/2402.12656)\n",
      "42. [Efficient Parameter Mining and Freezing for Continual Object Detection](https://arxiv.org/abs/2402.12624)\n",
      "43. [Towards Cross-Domain Continual Learning](https://arxiv.org/abs/2402.12490)\n",
      "44. [The (R)Evolution of Multimodal Large Language Models: A Survey](https://arxiv.org/abs/2402.12451)\n",
      "45. [Denoising OCT Images Using Steered Mixture of Experts with Multi-Model Inference](https://arxiv.org/abs/2402.12735)\n"
     ]
    }
   ],
   "source": [
    "def convert_text_in_file(file_path, cnt=1):\n",
    "    output_lines = []\n",
    "\n",
    "    with open(file_path, 'r') as file:\n",
    "        for i, line in enumerate(file):\n",
    "            url, title = line.strip().split(\" | \")\n",
    "            paper_title = title.split(\"] \")[1]\n",
    "            formatted_line = f\"{i+cnt+1}. [{paper_title}]({url})\"\n",
    "            output_lines.append(formatted_line)\n",
    "            \n",
    "\n",
    "    return \"\\n\".join(output_lines)\n",
    "\n",
    "\n",
    "# 请将 'path_to_your_file.txt' 替换为你的txt文件路径\n",
    "file_path = 'tmp.txt'\n",
    "converted_text = convert_text_in_file(file_path, cnt=29)\n",
    "print(converted_text)"
   ]
  },
  {
   "cell_type": "code",
   "execution_count": null,
   "metadata": {},
   "outputs": [],
   "source": []
  }
 ],
 "metadata": {
  "kernelspec": {
   "display_name": "pyt38",
   "language": "python",
   "name": "python3"
  },
  "language_info": {
   "codemirror_mode": {
    "name": "ipython",
    "version": 3
   },
   "file_extension": ".py",
   "mimetype": "text/x-python",
   "name": "python",
   "nbconvert_exporter": "python",
   "pygments_lexer": "ipython3",
   "version": "3.8.13"
  },
  "orig_nbformat": 4
 },
 "nbformat": 4,
 "nbformat_minor": 2
}
