{
 "cells": [
  {
   "cell_type": "code",
   "execution_count": 1,
   "metadata": {},
   "outputs": [],
   "source": [
    "def convert_text_in_file(file_path, cnt=1):\n",
    "    output_lines = []\n",
    "\n",
    "    with open(file_path, 'r') as file:\n",
    "        for i, line in enumerate(file):\n",
    "            url, title = line.strip().split(\" | \")\n",
    "            paper_title = title.split(\"] \")[1]\n",
    "            formatted_line = f\"{i+cnt+1}. [{paper_title}]({url})\"\n",
    "            output_lines.append(formatted_line)\n",
    "            \n",
    "\n",
    "    return \"\\n\".join(output_lines)\n",
    "\n",
    "def result_write_md(markdown_file, output_lines):\n",
    "    with open(markdown_file, 'a') as m_file:\n",
    "        m_file.seek(0, 2)\n",
    "        if m_file.tell() > 0:\n",
    "            m_file.write('\\n')\n",
    "        m_file.write(output_lines)\n",
    "    print(\"Susseccfully write to file!\")\n",
    "\n",
    "\n"
   ]
  },
  {
   "cell_type": "code",
   "execution_count": 2,
   "metadata": {},
   "outputs": [
    {
     "name": "stdout",
     "output_type": "stream",
     "text": [
      "The total number of lines in the file is: 4\n"
     ]
    }
   ],
   "source": [
    "def count_lines_in_file(file_path):\n",
    "    with open(file_path, 'r', encoding='utf-8') as file:\n",
    "        lines = file.readlines()\n",
    "        return len(lines)\n",
    "file_path = '2024/31_week.md'\n",
    "total_lines = count_lines_in_file(file_path)\n",
    "print(f\"The total number of lines in the file is: {total_lines}\")"
   ]
  },
  {
   "cell_type": "code",
   "execution_count": 3,
   "metadata": {},
   "outputs": [
    {
     "name": "stdout",
     "output_type": "stream",
     "text": [
      "5. [Reproducibility Study of \"ITI-GEN: Inclusive Text-to-Image Generation\"](https://arxiv.org/abs/2407.19996)\n",
      "6. [HOBOTAN: Efficient Higher Order Binary Optimization Solver with Tensor Networks and PyTorch](https://arxiv.org/abs/2407.19987)\n",
      "7. [Mixture of Nested Experts: Adaptive Processing of Visual Tokens](https://arxiv.org/abs/2407.19985)\n",
      "8. [Self-Supervised Learning for Text Recognition: A Critical Survey](https://arxiv.org/abs/2407.19889)\n",
      "9. [Yucca: A Deep Learning Framework For Medical Image Analysis](https://arxiv.org/abs/2407.19888)\n",
      "10. [Normality Addition via Normality Detection in Industrial Image Anomaly Detection Models](https://arxiv.org/abs/2407.19849)\n",
      "11. [ML-Mamba: Efficient Multi-Modal Large Language Model Utilizing Mamba-2](https://arxiv.org/abs/2407.19832)\n",
      "12. [Cool-Fusion: Fuse Large Language Models without Training](https://arxiv.org/abs/2407.19807)\n",
      "13. [VolDoGer: LLM-assisted Datasets for Domain Generalization in Vision-Language Tasks](https://arxiv.org/abs/2407.19795)\n",
      "14. [Multimodal Large Language Models for Bioimage Analysis](https://arxiv.org/abs/2407.19778)\n",
      "15. [Harnessing Large Vision and Language Models in Agriculture: A Review](https://arxiv.org/abs/2407.19679)\n",
      "16. [ComNeck: Bridging Compressed Image Latents and Multimodal LLMs via Universal Transform-Neck](https://arxiv.org/abs/2407.19651)\n",
      "17. [Forecast-PEFT: Parameter-Efficient Fine-Tuning for Pre-trained Motion Forecasting Models](https://arxiv.org/abs/2407.19564)\n",
      "18. [XLIP: Cross-modal Attention Masked Modelling for Medical Language-Image Pre-Training](https://arxiv.org/abs/2407.19546)\n",
      "19. [Large-scale cervical precancerous screening via AI-assisted cytology whole slide image analysis](https://arxiv.org/abs/2407.19512)\n",
      "20. [Visual Riddles: a Commonsense and World Knowledge Challenge for Large Vision and Language Models](https://arxiv.org/abs/2407.19474)\n",
      "21. [LLAVADI: What Matters For Multimodal Large Language Models Distillation](https://arxiv.org/abs/2407.19409)\n",
      "22. [Faster Image2Video Generation: A Closer Look at CLIP Image Embedding's Impact on Spatio-Temporal Cross-Attentions](https://arxiv.org/abs/2407.19205)\n",
      "23. [LLaVA-Read: Enhancing Reading Ability of Multimodal Language Models](https://arxiv.org/abs/2407.19185)\n",
      "24. [Region Guided Attention Network for Retinal Vessel Segmentation](https://arxiv.org/abs/2407.18970)\n",
      "25. [Optimising Hard Prompts with Few-Shot Meta-Prompting](https://arxiv.org/abs/2407.18920)\n",
      "26. [Diffusion Feedback Helps CLIP See Better](https://arxiv.org/abs/2407.20171)\n"
     ]
    }
   ],
   "source": [
    "# 请将 'path_to_your_file.txt' 替换为你的txt文件路径\n",
    "file_path_tmp = 'tmp.txt'\n",
    "converted_text = convert_text_in_file(file_path_tmp, cnt=total_lines)\n",
    "\n",
    "print(converted_text)"
   ]
  },
  {
   "cell_type": "code",
   "execution_count": 4,
   "metadata": {},
   "outputs": [
    {
     "name": "stdout",
     "output_type": "stream",
     "text": [
      "Susseccfully write to file!\n"
     ]
    }
   ],
   "source": [
    "# 写入Readme.md文件\n",
    "markdown_file = 'README.md'\n",
    "output_lines = converted_text\n",
    "result_write_md(markdown_file, output_lines)\n",
    "\n"
   ]
  },
  {
   "cell_type": "code",
   "execution_count": 5,
   "metadata": {},
   "outputs": [
    {
     "name": "stdout",
     "output_type": "stream",
     "text": [
      "Susseccfully write to file!\n"
     ]
    }
   ],
   "source": [
    "# 写入本周的markdown文件\n",
    "\n",
    "output_lines = converted_text\n",
    "result_write_md(file_path, output_lines)"
   ]
  }
 ],
 "metadata": {
  "kernelspec": {
   "display_name": "Python 3.7.13 ('pyt37')",
   "language": "python",
   "name": "python3"
  },
  "language_info": {
   "codemirror_mode": {
    "name": "ipython",
    "version": 3
   },
   "file_extension": ".py",
   "mimetype": "text/x-python",
   "name": "python",
   "nbconvert_exporter": "python",
   "pygments_lexer": "ipython3",
   "version": "3.7.13"
  },
  "orig_nbformat": 4,
  "vscode": {
   "interpreter": {
    "hash": "eede682cbef55f8ad0df024616cb0079c6a04760c6a762ef3695647fd09e8831"
   }
  }
 },
 "nbformat": 4,
 "nbformat_minor": 2
}
