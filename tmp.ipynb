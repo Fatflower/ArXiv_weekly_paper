{
 "cells": [
  {
   "cell_type": "code",
   "execution_count": 1,
   "metadata": {},
   "outputs": [
    {
     "name": "stdout",
     "output_type": "stream",
     "text": [
      "62. [Demographic Bias of Expert-Level Vision-Language Foundation Models in Medical Imaging](https://arxiv.org/abs/2402.14815)\n",
      "63. [CriticBench: Benchmarking LLMs for Critique-Correct Reasoning](https://arxiv.org/abs/2402.14809)\n",
      "64. [PALO: A Polyglot Large Multimodal Model for 5B People](https://arxiv.org/abs/2402.14818)\n",
      "65. [WeakSAM: Segment Anything Meets Weakly-supervised Instance-level Recognition](https://arxiv.org/abs/2402.14812)\n",
      "66. [Generalizing Reward Modeling for Out-of-Distribution Preference Learning](https://arxiv.org/abs/2402.14760)\n",
      "67. [Visual Hallucinations of Multi-modal Large Language Models](https://arxiv.org/abs/2402.14683)\n",
      "68. [Overcoming Dimensional Collapse in Self-supervised Contrastive Learning for Medical Image Segmentation](https://arxiv.org/abs/2402.14611)\n",
      "69. [Debiasing Text-to-Image Diffusion Models](https://arxiv.org/abs/2402.14577)\n",
      "70. [INSTRAUG: Automatic Instruction Augmentation for Multimodal Instruction Fine-tuning](https://arxiv.org/abs/2402.14492)\n",
      "71. [Data Science with LLMs and Interpretable Models](https://arxiv.org/abs/2402.14474)\n",
      "72. [Uncertainty-Aware Evaluation for Vision-Language Models](https://arxiv.org/abs/2402.14418)\n",
      "73. [TinyLLaVA: A Framework of Small-scale Large Multimodal Models](https://arxiv.org/abs/2402.14289)\n",
      "74. [Multi-organ Self-supervised Contrastive Learning for Breast Lesion Segmentation](https://arxiv.org/abs/2402.14114)\n"
     ]
    }
   ],
   "source": [
    "def convert_text_in_file(file_path, cnt=1):\n",
    "    output_lines = []\n",
    "\n",
    "    with open(file_path, 'r') as file:\n",
    "        for i, line in enumerate(file):\n",
    "            url, title = line.strip().split(\" | \")\n",
    "            paper_title = title.split(\"] \")[1]\n",
    "            formatted_line = f\"{i+cnt+1}. [{paper_title}]({url})\"\n",
    "            output_lines.append(formatted_line)\n",
    "            \n",
    "\n",
    "    return \"\\n\".join(output_lines)\n",
    "\n",
    "\n",
    "# 请将 'path_to_your_file.txt' 替换为你的txt文件路径\n",
    "file_path = 'tmp.txt'\n",
    "converted_text = convert_text_in_file(file_path, cnt=61)\n",
    "print(converted_text)"
   ]
  },
  {
   "cell_type": "code",
   "execution_count": null,
   "metadata": {},
   "outputs": [],
   "source": []
  }
 ],
 "metadata": {
  "kernelspec": {
   "display_name": "pyt38",
   "language": "python",
   "name": "python3"
  },
  "language_info": {
   "codemirror_mode": {
    "name": "ipython",
    "version": 3
   },
   "file_extension": ".py",
   "mimetype": "text/x-python",
   "name": "python",
   "nbconvert_exporter": "python",
   "pygments_lexer": "ipython3",
   "version": "3.8.13"
  },
  "orig_nbformat": 4
 },
 "nbformat": 4,
 "nbformat_minor": 2
}
