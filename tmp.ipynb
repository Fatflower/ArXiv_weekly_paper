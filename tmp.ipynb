{
 "cells": [
  {
   "cell_type": "code",
   "execution_count": 11,
   "metadata": {},
   "outputs": [],
   "source": [
    "def convert_text_in_file(file_path, cnt=1):\n",
    "    output_lines = []\n",
    "\n",
    "    with open(file_path, 'r') as file:\n",
    "        for i, line in enumerate(file):\n",
    "            url, title = line.strip().split(\" | \")\n",
    "            paper_title = title.split(\"] \")[1]\n",
    "            formatted_line = f\"{i+cnt+1}. [{paper_title}]({url})\"\n",
    "            output_lines.append(formatted_line)\n",
    "            \n",
    "\n",
    "    return \"\\n\".join(output_lines)\n",
    "\n",
    "def result_write_md(markdown_file, output_lines):\n",
    "    with open(markdown_file, 'a') as m_file:\n",
    "        m_file.seek(0, 2)\n",
    "        if m_file.tell() > 0:\n",
    "            m_file.write('\\n')\n",
    "        m_file.write(output_lines)\n",
    "    print(\"Susseccfully write to file!\")\n",
    "\n",
    "\n"
   ]
  },
  {
   "cell_type": "code",
   "execution_count": 12,
   "metadata": {},
   "outputs": [
    {
     "name": "stdout",
     "output_type": "stream",
     "text": [
      "The total number of lines in the file is: 10\n"
     ]
    }
   ],
   "source": [
    "def count_lines_in_file(file_path):\n",
    "    with open(file_path, 'r', encoding='utf-8') as file:\n",
    "        lines = file.readlines()\n",
    "        return len(lines)\n",
    "file_path = '2024/34_week.md'\n",
    "total_lines = count_lines_in_file(file_path)\n",
    "print(f\"The total number of lines in the file is: {total_lines}\")"
   ]
  },
  {
   "cell_type": "code",
   "execution_count": 13,
   "metadata": {},
   "outputs": [
    {
     "name": "stdout",
     "output_type": "stream",
     "text": [
      "11. [SMILE: Zero-Shot Sparse Mixture of Low-Rank Experts Construction From Pre-Trained Foundation Models](https://arxiv.org/abs/2408.10174)\n",
      "12. [In-Context Learning with Representations: Contextual Generalization of Trained Transformers](https://arxiv.org/abs/2408.10147)\n",
      "13. [Video Object Segmentation via SAM 2: The 4th Solution for LSVOS Challenge VOS Track](https://arxiv.org/abs/2408.10125)\n",
      "14. [Exploiting Fine-Grained Prototype Distribution for Boosting Unsupervised Class Incremental Learning](https://arxiv.org/abs/2408.10046)\n",
      "15. [CLIPCleaner: Cleaning Noisy Labels with CLIP](https://arxiv.org/abs/2408.10012)\n",
      "16. [\"Image, Tell me your story!\" Predicting the original meta-context of visual misinformation](https://arxiv.org/abs/2408.09939)\n",
      "17. [SAM-UNet:Enhancing Zero-Shot Segmentation of SAM for Universal Medical Images](https://arxiv.org/abs/2408.09886)\n",
      "18. [R2GenCSR: Retrieving Context Samples for Large Language Model based X-ray Medical Report Generation](https://arxiv.org/abs/2408.09743)\n",
      "19. [MePT: Multi-Representation Guided Prompt Tuning for Vision-Language Model](https://arxiv.org/abs/2408.09706)\n",
      "20. [PA-LLaVA: A Large Language-Vision Assistant for Human Pathology Image Understanding](https://arxiv.org/abs/2408.09530)\n",
      "21. [MedMAP: Promoting Incomplete Multi-modal Brain Tumor Segmentation with Alignment](https://arxiv.org/abs/2408.09465)\n",
      "22. [Advancements in Molecular Property Prediction: A Survey of Single and Multimodal Approaches](https://arxiv.org/abs/2408.09461)\n",
      "23. [CLIP-CID: Efficient CLIP Distillation via Cluster-Instance Discrimination](https://arxiv.org/abs/2408.09441)\n",
      "24. [GoodSAM++: Bridging Domain and Capacity Gaps via Segment Anything Model for Panoramic Semantic Segmentation](https://arxiv.org/abs/2408.09115)\n",
      "25. [Depth-guided Texture Diffusion for Image Semantic Segmentation](https://arxiv.org/abs/2408.09097)\n",
      "26. [Learning to Route for Dynamic Adapter Composition in Continual Learning with Language Models](https://arxiv.org/abs/2408.09053)\n",
      "27. [Towards Effective Authorship Attribution: Integrating Class-Incremental Learning](https://arxiv.org/abs/2408.08900)\n",
      "28. [Cross-Species Data Integration for Enhanced Layer Segmentation in Kidney Pathology](https://arxiv.org/abs/2408.09278)\n",
      "29. [U-MedSAM: Uncertainty-aware MedSAM for Medical Image Segmentation](https://arxiv.org/abs/2408.08881)\n",
      "30. [A Survey on Symbolic Knowledge Distillation of Large Language Models](https://arxiv.org/abs/2408.10210)\n",
      "31. [Scaling Law with Learning Rate Annealing](https://arxiv.org/abs/2408.11029)\n",
      "32. [ViLReF: A Chinese Vision-Language Retinal Foundation Model](https://arxiv.org/abs/2408.10894)\n",
      "33. [EELE: Exploring Efficient and Extensible LoRA Integration in Emotional Text-to-Speech](https://arxiv.org/abs/2408.10852)\n",
      "34. [Representation Norm Amplification for Out-of-Distribution Detection in Long-Tail Learning](https://arxiv.org/abs/2408.10676)\n",
      "35. [Subspace Prototype Guidance for Mitigating Class Imbalance in Point Cloud Semantic Segmentation](https://arxiv.org/abs/2408.10537)\n",
      "36. [AIR: Analytic Imbalance Rectifier for Continual Learning](https://arxiv.org/abs/2408.10349)\n"
     ]
    }
   ],
   "source": [
    "# 请将 'path_to_your_file.txt' 替换为你的txt文件路径\n",
    "file_path_tmp = 'tmp.txt'\n",
    "converted_text = convert_text_in_file(file_path_tmp, cnt=total_lines)\n",
    "\n",
    "print(converted_text)"
   ]
  },
  {
   "cell_type": "code",
   "execution_count": 14,
   "metadata": {},
   "outputs": [
    {
     "name": "stdout",
     "output_type": "stream",
     "text": [
      "Susseccfully write to file!\n"
     ]
    }
   ],
   "source": [
    "# 写入Readme.md文件\n",
    "markdown_file = 'README.md'\n",
    "output_lines = converted_text\n",
    "result_write_md(markdown_file, output_lines)\n",
    "\n"
   ]
  },
  {
   "cell_type": "code",
   "execution_count": 15,
   "metadata": {},
   "outputs": [
    {
     "name": "stdout",
     "output_type": "stream",
     "text": [
      "Susseccfully write to file!\n"
     ]
    }
   ],
   "source": [
    "# 写入本周的markdown文件\n",
    "\n",
    "output_lines = converted_text\n",
    "result_write_md(file_path, output_lines)"
   ]
  }
 ],
 "metadata": {
  "kernelspec": {
   "display_name": "Python 3.7.13 ('pyt37')",
   "language": "python",
   "name": "python3"
  },
  "language_info": {
   "codemirror_mode": {
    "name": "ipython",
    "version": 3
   },
   "file_extension": ".py",
   "mimetype": "text/x-python",
   "name": "python",
   "nbconvert_exporter": "python",
   "pygments_lexer": "ipython3",
   "version": "3.7.13"
  },
  "orig_nbformat": 4,
  "vscode": {
   "interpreter": {
    "hash": "eede682cbef55f8ad0df024616cb0079c6a04760c6a762ef3695647fd09e8831"
   }
  }
 },
 "nbformat": 4,
 "nbformat_minor": 2
}
