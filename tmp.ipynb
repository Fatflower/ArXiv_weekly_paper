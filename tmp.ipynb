{
 "cells": [
  {
   "cell_type": "code",
   "execution_count": 6,
   "metadata": {},
   "outputs": [],
   "source": [
    "def convert_text_in_file(file_path, cnt=1):\n",
    "    output_lines = []\n",
    "\n",
    "    with open(file_path, 'r') as file:\n",
    "        for i, line in enumerate(file):\n",
    "            url, title = line.strip().split(\" | \")\n",
    "            paper_title = title.split(\"] \")[1]\n",
    "            formatted_line = f\"{i+cnt+1}. [{paper_title}]({url})\"\n",
    "            output_lines.append(formatted_line)\n",
    "            \n",
    "\n",
    "    return \"\\n\".join(output_lines)\n",
    "\n",
    "def result_write_md(markdown_file, output_lines):\n",
    "    with open(markdown_file, 'a') as m_file:\n",
    "        m_file.seek(0, 2)\n",
    "        if m_file.tell() > 0:\n",
    "            m_file.write('\\n')\n",
    "        m_file.write(output_lines)\n",
    "    print(\"Susseccfully write to file!\")\n",
    "\n",
    "\n"
   ]
  },
  {
   "cell_type": "code",
   "execution_count": 7,
   "metadata": {},
   "outputs": [
    {
     "name": "stdout",
     "output_type": "stream",
     "text": [
      "The total number of lines in the file is: 33\n"
     ]
    }
   ],
   "source": [
    "def count_lines_in_file(file_path):\n",
    "    with open(file_path, 'r', encoding='utf-8') as file:\n",
    "        lines = file.readlines()\n",
    "        return len(lines)\n",
    "file_path = '2024/38_week.md'\n",
    "total_lines = count_lines_in_file(file_path)\n",
    "print(f\"The total number of lines in the file is: {total_lines}\")"
   ]
  },
  {
   "cell_type": "code",
   "execution_count": 8,
   "metadata": {},
   "outputs": [
    {
     "name": "stdout",
     "output_type": "stream",
     "text": [
      "34. [Multi-OCT-SelfNet: Integrating Self-Supervised Learning with Multi-Source Data Fusion for Enhanced Multi-Class Retinal Disease Classification](https://arxiv.org/abs/2409.11375)\n",
      "35. [Reducing Catastrophic Forgetting in Online Class Incremental Learning Using Self-Distillation](https://arxiv.org/abs/2409.11329)\n",
      "36. [LPT++: Efficient Training on Mixture of Long-tailed Experts](https://arxiv.org/abs/2409.11323)\n",
      "37. [MSDNet: Multi-Scale Decoder for Few-Shot Semantic Segmentation via Transformer-Guided Prototyping](https://arxiv.org/abs/2409.11316)\n",
      "38. [Beyond LoRA: Exploring Efficient Fine-Tuning Techniques for Time Series Foundational Models](https://arxiv.org/abs/2409.11302)\n",
      "39. [Towards Novel Malicious Packet Recognition: A Few-Shot Learning Approach](https://arxiv.org/abs/2409.11254)\n",
      "40. [Diversity-grounded Channel Prototypical Learning for Out-of-Distribution Intent Detection](https://arxiv.org/abs/2409.11114)\n",
      "41. [Versatile Incremental Learning: Towards Class and Domain-Agnostic Incremental Learning](https://arxiv.org/abs/2409.10956)\n",
      "42. [Veridical Data Science for Medical Foundation Models](https://arxiv.org/abs/2409.10580)\n",
      "43. [Convolutional Networks as Extremely Small Foundation Models: Visual Prompting and Theoretical Perspective](https://arxiv.org/abs/2409.10555)\n",
      "44. [TTT-Unet: Enhancing U-Net with Test-Time Training Layers for biomedical image segmentation](https://arxiv.org/abs/2409.11299)\n",
      "45. [MAISI: Medical AI for Synthetic Imaging](https://arxiv.org/abs/2409.11169)\n",
      "46. [CUNSB-RFIE: Context-aware Unpaired Neural Schr\"{o}dinger Bridge in Retinal Fundus Image Enhancement](https://arxiv.org/abs/2409.10966)\n"
     ]
    }
   ],
   "source": [
    "# 请将 'path_to_your_file.txt' 替换为你的txt文件路径\n",
    "file_path_tmp = 'tmp.txt'\n",
    "converted_text = convert_text_in_file(file_path_tmp, cnt=total_lines)\n",
    "\n",
    "print(converted_text)"
   ]
  },
  {
   "cell_type": "code",
   "execution_count": 9,
   "metadata": {},
   "outputs": [
    {
     "name": "stdout",
     "output_type": "stream",
     "text": [
      "Susseccfully write to file!\n"
     ]
    }
   ],
   "source": [
    "# 写入Readme.md文件\n",
    "markdown_file = 'README.md'\n",
    "output_lines = converted_text\n",
    "result_write_md(markdown_file, output_lines)\n",
    "\n"
   ]
  },
  {
   "cell_type": "code",
   "execution_count": 10,
   "metadata": {},
   "outputs": [
    {
     "name": "stdout",
     "output_type": "stream",
     "text": [
      "Susseccfully write to file!\n"
     ]
    }
   ],
   "source": [
    "# 写入本周的markdown文件\n",
    "\n",
    "output_lines = converted_text\n",
    "result_write_md(file_path, output_lines)"
   ]
  }
 ],
 "metadata": {
  "kernelspec": {
   "display_name": "Python 3.8.13 ('pyt38')",
   "language": "python",
   "name": "python3"
  },
  "language_info": {
   "codemirror_mode": {
    "name": "ipython",
    "version": 3
   },
   "file_extension": ".py",
   "mimetype": "text/x-python",
   "name": "python",
   "nbconvert_exporter": "python",
   "pygments_lexer": "ipython3",
   "version": "3.8.13"
  },
  "orig_nbformat": 4,
  "vscode": {
   "interpreter": {
    "hash": "176c92cd5e5485b42e3e73d2f25e60c2ed8f24d584687c4dae8d36d44ade605d"
   }
  }
 },
 "nbformat": 4,
 "nbformat_minor": 2
}
