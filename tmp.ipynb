{
 "cells": [
  {
   "cell_type": "code",
   "execution_count": 1,
   "metadata": {},
   "outputs": [],
   "source": [
    "def convert_text_in_file(file_path, cnt=1):\n",
    "    output_lines = []\n",
    "\n",
    "    with open(file_path, 'r') as file:\n",
    "        for i, line in enumerate(file):\n",
    "            url, title = line.strip().split(\" | \")\n",
    "            paper_title = title.split(\"] \")[1]\n",
    "            formatted_line = f\"{i+cnt+1}. [{paper_title}]({url})\"\n",
    "            output_lines.append(formatted_line)\n",
    "            \n",
    "\n",
    "    return \"\\n\".join(output_lines)\n",
    "\n",
    "def result_write_md(markdown_file, output_lines):\n",
    "    with open(markdown_file, 'a') as m_file:\n",
    "        m_file.seek(0, 2)\n",
    "        if m_file.tell() > 0:\n",
    "            m_file.write('\\n')\n",
    "        m_file.write(output_lines)\n",
    "    print(\"Susseccfully write to file!\")\n",
    "\n",
    "\n"
   ]
  },
  {
   "cell_type": "code",
   "execution_count": 2,
   "metadata": {},
   "outputs": [
    {
     "name": "stdout",
     "output_type": "stream",
     "text": [
      "The total number of lines in the file is: 38\n"
     ]
    }
   ],
   "source": [
    "def count_lines_in_file(file_path):\n",
    "    with open(file_path, 'r', encoding='utf-8') as file:\n",
    "        lines = file.readlines()\n",
    "        return len(lines)\n",
    "file_path = '2024/33_week.md'\n",
    "total_lines = count_lines_in_file(file_path)\n",
    "print(f\"The total number of lines in the file is: {total_lines}\")"
   ]
  },
  {
   "cell_type": "code",
   "execution_count": 3,
   "metadata": {},
   "outputs": [
    {
     "name": "stdout",
     "output_type": "stream",
     "text": [
      "39. [Self-Taught Evaluators](https://arxiv.org/abs/2408.02666)\n",
      "40. [Interactive 3D Medical Image Segmentation with SAM 2](https://arxiv.org/abs/2408.02635)\n",
      "41. [Progressively Selective Label Enhancement for Language Model Alignment](https://arxiv.org/abs/2408.02599)\n",
      "42. [BioMamba: A Pre-trained Biomedical Language Representation Model Leveraging Mamba](https://arxiv.org/abs/2408.02600)\n",
      "43. [Contrastive Learning-based Multi Modal Architecture for Emoticon Prediction by Employing Image-Text Pairs](https://arxiv.org/abs/2408.02571)\n",
      "44. [Cross-Modality Clustering-based Self-Labeling for Multimodal Data Classification](https://arxiv.org/abs/2408.02568)\n",
      "45. [UnifiedMLLM: Enabling Unified Representation for Multi-modal Multi-tasks With Large Language Model](https://arxiv.org/abs/2408.02503)\n",
      "46. [Fairness and Bias Mitigation in Computer Vision: A Survey](https://arxiv.org/abs/2408.02464)\n",
      "47. [FPT+: A Parameter and Memory Efficient Transfer Learning Method for High-resolution Medical Image Classification](https://arxiv.org/abs/2408.02426)\n",
      "48. [Machine Learning Applications in Medical Prognostics: A Comprehensive Review](https://arxiv.org/abs/2408.02344)\n",
      "49. [Perception Matters: Enhancing Embodied AI with Uncertainty-Aware Semantic Segmentation](https://arxiv.org/abs/2408.02297)\n",
      "50. [Explain via Any Concept: Concept Bottleneck Model with Open Vocabulary Concepts](https://arxiv.org/abs/2408.02265)\n",
      "51. [Cross-Domain Semantic Segmentation on Inconsistent Taxonomy using VLMs](https://arxiv.org/abs/2408.02261)\n",
      "52. [EOL: Transductive Few-Shot Open-Set Recognition by Enhancing Outlier Logits](https://arxiv.org/abs/2408.02052)\n",
      "53. [Deep Spectral Methods for Unsupervised Ultrasound Image Interpretation](https://arxiv.org/abs/2408.02043)\n",
      "54. [Pixel-Level Domain Adaptation: A New Perspective for Enhancing Weakly Supervised Semantic Segmentation](https://arxiv.org/abs/2408.02039)\n",
      "55. [Self-Introspective Decoding: Alleviating Hallucinations for Large Vision-Language Models](https://arxiv.org/abs/2408.02032)\n",
      "56. [DeMansia: Mamba Never Forgets Any Tokens](https://arxiv.org/abs/2408.01986)\n",
      "57. [AnomalySD: Few-Shot Multi-Class Anomaly Detection with Stable Diffusion Model](https://arxiv.org/abs/2408.01960)\n",
      "58. [CAF-YOLO: A Robust Framework for Multi-Scale Lesion Detection in Biomedical Imagery](https://arxiv.org/abs/2408.01897)\n",
      "59. [TS-SAM: Fine-Tuning Segment-Anything Model for Downstream Tasks](https://arxiv.org/abs/2408.01835)\n",
      "60. [Domain penalisation for improved Out-of-Distribution Generalisation](https://arxiv.org/abs/2408.01746)\n",
      "61. [AVESFormer: Efficient Transformer Design for Real-Time Audio-Visual Segmentation](https://arxiv.org/abs/2408.01708)\n",
      "62. [Bayesian Active Learning for Semantic Segmentation](https://arxiv.org/abs/2408.01694)\n",
      "63. [VLG-CBM: Training Concept Bottleneck Models with Vision-Language Guidance](https://arxiv.org/abs/2408.01432)\n",
      "64. [NuLite -- Lightweight and Fast Model for Nuclei Instance Segmentation and Classification](https://arxiv.org/abs/2408.01797)\n",
      "65. [MedUHIP: Towards Human-In-the-Loop Medical Segmentation](https://arxiv.org/abs/2408.01620)\n"
     ]
    }
   ],
   "source": [
    "# 请将 'path_to_your_file.txt' 替换为你的txt文件路径\n",
    "file_path_tmp = 'tmp.txt'\n",
    "converted_text = convert_text_in_file(file_path_tmp, cnt=total_lines)\n",
    "\n",
    "print(converted_text)"
   ]
  },
  {
   "cell_type": "code",
   "execution_count": 4,
   "metadata": {},
   "outputs": [
    {
     "name": "stdout",
     "output_type": "stream",
     "text": [
      "Susseccfully write to file!\n"
     ]
    }
   ],
   "source": [
    "# 写入Readme.md文件\n",
    "markdown_file = 'README.md'\n",
    "output_lines = converted_text\n",
    "result_write_md(markdown_file, output_lines)\n",
    "\n"
   ]
  },
  {
   "cell_type": "code",
   "execution_count": 5,
   "metadata": {},
   "outputs": [
    {
     "name": "stdout",
     "output_type": "stream",
     "text": [
      "Susseccfully write to file!\n"
     ]
    }
   ],
   "source": [
    "# 写入本周的markdown文件\n",
    "\n",
    "output_lines = converted_text\n",
    "result_write_md(file_path, output_lines)"
   ]
  }
 ],
 "metadata": {
  "kernelspec": {
   "display_name": "Python 3.7.13 ('pyt37')",
   "language": "python",
   "name": "python3"
  },
  "language_info": {
   "codemirror_mode": {
    "name": "ipython",
    "version": 3
   },
   "file_extension": ".py",
   "mimetype": "text/x-python",
   "name": "python",
   "nbconvert_exporter": "python",
   "pygments_lexer": "ipython3",
   "version": "3.7.13"
  },
  "orig_nbformat": 4,
  "vscode": {
   "interpreter": {
    "hash": "eede682cbef55f8ad0df024616cb0079c6a04760c6a762ef3695647fd09e8831"
   }
  }
 },
 "nbformat": 4,
 "nbformat_minor": 2
}
