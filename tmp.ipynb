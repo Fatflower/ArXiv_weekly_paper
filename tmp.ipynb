{
 "cells": [
  {
   "cell_type": "code",
   "execution_count": 1,
   "metadata": {},
   "outputs": [],
   "source": [
    "def convert_text_in_file(file_path, cnt=1):\n",
    "    output_lines = []\n",
    "\n",
    "    with open(file_path, 'r') as file:\n",
    "        for i, line in enumerate(file):\n",
    "            url, title = line.strip().split(\" | \")\n",
    "            paper_title = title.split(\"] \")[1]\n",
    "            formatted_line = f\"{i+cnt+1}. [{paper_title}]({url})\"\n",
    "            output_lines.append(formatted_line)\n",
    "            \n",
    "\n",
    "    return \"\\n\".join(output_lines)\n",
    "\n",
    "def result_write_md(markdown_file, output_lines):\n",
    "    with open(markdown_file, 'a') as m_file:\n",
    "        m_file.seek(0, 2)\n",
    "        if m_file.tell() > 0:\n",
    "            m_file.write('\\n')\n",
    "        m_file.write(output_lines)\n",
    "    print(\"Susseccfully write to file!\")\n",
    "\n",
    "\n"
   ]
  },
  {
   "cell_type": "code",
   "execution_count": 2,
   "metadata": {},
   "outputs": [
    {
     "name": "stdout",
     "output_type": "stream",
     "text": [
      "The total number of lines in the file is: 13\n"
     ]
    }
   ],
   "source": [
    "def count_lines_in_file(file_path):\n",
    "    with open(file_path, 'r', encoding='utf-8') as file:\n",
    "        lines = file.readlines()\n",
    "        return len(lines)\n",
    "file_path = '2024/33_week.md'\n",
    "total_lines = count_lines_in_file(file_path)\n",
    "print(f\"The total number of lines in the file is: {total_lines}\")"
   ]
  },
  {
   "cell_type": "code",
   "execution_count": 3,
   "metadata": {},
   "outputs": [
    {
     "name": "stdout",
     "output_type": "stream",
     "text": [
      "14. [See It All: Contextualized Late Aggregation for 3D Dense Captioning](https://arxiv.org/abs/2408.07648)\n",
      "15. [Attention-Guided Perturbation for Unsupervised Image Anomaly Detection](https://arxiv.org/abs/2408.07490)\n",
      "16. [BAPLe: Backdoor Attacks on Medical Foundational Models using Prompt Learning](https://arxiv.org/abs/2408.07440)\n",
      "17. [Gradient Alignment Improves Test-Time Adaptation for Medical Image Segmentation](https://arxiv.org/abs/2408.07343)\n",
      "18. [UniFed: A Universal Federation of a Mixture of Highly Heterogeneous Medical Image Classification Tasks](https://arxiv.org/abs/2408.07075)\n",
      "19. [Imagen 3](https://arxiv.org/abs/2408.07009)\n",
      "20. [BMFT: Achieving Fairness via Bias-based Weight Masking Fine-tuning](https://arxiv.org/abs/2408.06890)\n",
      "21. [LoRA$^2$ : Multi-Scale Low-Rank Approximations for Fine-Tuning Large Language Models](https://arxiv.org/abs/2408.06854)\n",
      "22. [Token Compensator: Altering Inference Cost of Vision Transformer without Re-Tuning](https://arxiv.org/abs/2408.06798)\n",
      "23. [Layerwise Recurrent Router for Mixture-of-Experts](https://arxiv.org/abs/2408.06793)\n",
      "24. [ReCLIP++: Learn to Rectify the Bias of CLIP for Unsupervised Semantic Segmentation](https://arxiv.org/abs/2408.06747)\n",
      "25. [Long-Tailed Out-of-Distribution Detection: Prioritizing Attention to Tail](https://arxiv.org/abs/2408.06742)\n",
      "26. [DiffLoRA: Generating Personalized Low-Rank Adaptation Weights with Diffusion](https://arxiv.org/abs/2408.06740)\n",
      "27. [Towards Cross-Domain Single Blood Cell Image Classification via Large-Scale LoRA-based Segment Anything Model](https://arxiv.org/abs/2408.06716)\n",
      "28. [Masked Image Modeling: A Survey](https://arxiv.org/abs/2408.06687)\n",
      "29. [IFShip: A Large Vision-Language Model for Interpretable Fine-grained Ship Classification via Domain Knowledge-Enhanced Instruction Tuning](https://arxiv.org/abs/2408.06631)\n",
      "30. [CROME: Cross-Modal Adapters for Efficient Multimodal LLM](https://arxiv.org/abs/2408.06610)\n",
      "31. [S-SAM: SVD-based Fine-Tuning of Segment Anything Model for Medical Image Segmentation](https://arxiv.org/abs/2408.06447)\n",
      "32. [Attention Based Feature Fusion Network for Monkeypox Skin Lesion Detection](https://arxiv.org/abs/2408.06640)\n",
      "33. [How good nnU-Net for Segmenting Cardiac MRI: A Comprehensive Evaluation](https://arxiv.org/abs/2408.06358)\n",
      "34. [VisualAgentBench: Towards Large Multimodal Models as Visual Foundation Agents](https://arxiv.org/abs/2408.06327)\n",
      "35. [From SAM to SAM 2: Exploring Improvements in Meta's Segment Anything Model](https://arxiv.org/abs/2408.06305)\n",
      "36. [FuxiTranyu: A Multilingual Large Language Model Trained with Balanced Data](https://arxiv.org/abs/2408.06273)\n",
      "37. [Context-aware Visual Storytelling with Visual Prefix Tuning and Contrastive Learning](https://arxiv.org/abs/2408.06259)\n",
      "38. [Correlation Weighted Prototype-based Self-Supervised One-Shot Segmentation of Medical Images](https://arxiv.org/abs/2408.06235)\n",
      "39. [Med42-v2: A Suite of Clinical LLMs](https://arxiv.org/abs/2408.06142)\n",
      "40. [HySparK: Hybrid Sparse Masking for Large Scale Medical Image Pre-Training](https://arxiv.org/abs/2408.05815)\n",
      "41. [Efficient Test-Time Prompt Tuning for Vision-Language Models](https://arxiv.org/abs/2408.05775)\n",
      "42. [A Novel Momentum-Based Deep Learning Techniques for Medical Image Classification and Segmentation](https://arxiv.org/abs/2408.05692)\n",
      "43. [PS-TTL: Prototype-based Soft-labels and Test-Time Learning for Few-shot Object Detection](https://arxiv.org/abs/2408.05674)\n",
      "44. [SAM-FNet: SAM-Guided Fusion Network for Laryngo-Pharyngeal Tumor Detection](https://arxiv.org/abs/2408.05426)\n",
      "45. [Zero-shot 3D Segmentation of Abdominal Organs in CT Scans Using Segment Anything Model 2: Adapting Video Tracking Capabilities for 3D Medical Imaging](https://arxiv.org/abs/2408.06170)\n",
      "46. [Polyp SAM 2: Advancing Zero shot Polyp Segmentation in Colorectal Cancer Detection](https://arxiv.org/abs/2408.05892)\n"
     ]
    }
   ],
   "source": [
    "# 请将 'path_to_your_file.txt' 替换为你的txt文件路径\n",
    "file_path_tmp = 'tmp.txt'\n",
    "converted_text = convert_text_in_file(file_path_tmp, cnt=total_lines)\n",
    "\n",
    "print(converted_text)"
   ]
  },
  {
   "cell_type": "code",
   "execution_count": 4,
   "metadata": {},
   "outputs": [
    {
     "name": "stdout",
     "output_type": "stream",
     "text": [
      "Susseccfully write to file!\n"
     ]
    }
   ],
   "source": [
    "# 写入Readme.md文件\n",
    "markdown_file = 'README.md'\n",
    "output_lines = converted_text\n",
    "result_write_md(markdown_file, output_lines)\n",
    "\n"
   ]
  },
  {
   "cell_type": "code",
   "execution_count": 5,
   "metadata": {},
   "outputs": [
    {
     "name": "stdout",
     "output_type": "stream",
     "text": [
      "Susseccfully write to file!\n"
     ]
    }
   ],
   "source": [
    "# 写入本周的markdown文件\n",
    "\n",
    "output_lines = converted_text\n",
    "result_write_md(file_path, output_lines)"
   ]
  }
 ],
 "metadata": {
  "kernelspec": {
   "display_name": "Python 3.7.13 ('pyt37')",
   "language": "python",
   "name": "python3"
  },
  "language_info": {
   "codemirror_mode": {
    "name": "ipython",
    "version": 3
   },
   "file_extension": ".py",
   "mimetype": "text/x-python",
   "name": "python",
   "nbconvert_exporter": "python",
   "pygments_lexer": "ipython3",
   "version": "3.7.13"
  },
  "orig_nbformat": 4,
  "vscode": {
   "interpreter": {
    "hash": "eede682cbef55f8ad0df024616cb0079c6a04760c6a762ef3695647fd09e8831"
   }
  }
 },
 "nbformat": 4,
 "nbformat_minor": 2
}
