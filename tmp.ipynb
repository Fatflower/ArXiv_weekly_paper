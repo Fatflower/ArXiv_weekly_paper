{
 "cells": [
  {
   "cell_type": "code",
   "execution_count": 1,
   "metadata": {},
   "outputs": [],
   "source": [
    "def convert_text_in_file(file_path, cnt=1):\n",
    "    output_lines = []\n",
    "\n",
    "    with open(file_path, 'r') as file:\n",
    "        for i, line in enumerate(file):\n",
    "            url, title = line.strip().split(\" | \")\n",
    "            paper_title = title.split(\"] \")[1]\n",
    "            formatted_line = f\"{i+cnt+1}. [{paper_title}]({url})\"\n",
    "            output_lines.append(formatted_line)\n",
    "            \n",
    "\n",
    "    return \"\\n\".join(output_lines)\n",
    "\n",
    "def result_write_md(markdown_file, output_lines):\n",
    "    with open(markdown_file, 'a') as m_file:\n",
    "        m_file.seek(0, 2)\n",
    "        if m_file.tell() > 0:\n",
    "            m_file.write('\\n')\n",
    "        m_file.write(output_lines)\n",
    "    print(\"Susseccfully write to file!\")\n",
    "\n",
    "\n"
   ]
  },
  {
   "cell_type": "code",
   "execution_count": 2,
   "metadata": {},
   "outputs": [
    {
     "name": "stdout",
     "output_type": "stream",
     "text": [
      "40. [Bitune: Bidirectional Instruction-Tuning](https://arxiv.org/abs/2405.14862)\n",
      "41. [Not All Language Model Features Are Linear](https://arxiv.org/abs/2405.14860)\n",
      "42. [Mamba-R: Vision Mamba ALSO Needs Registers](https://arxiv.org/abs/2405.14858)\n",
      "43. [Good Seed Makes a Good Crop: Discovering Secret Seeds in Text-to-Image Diffusion Models](https://arxiv.org/abs/2405.14828)\n",
      "44. [Masked Image Modelling for retinal OCT understanding](https://arxiv.org/abs/2405.14788)\n",
      "45. [CLIPScope: Enhancing Zero-Shot OOD Detection with Bayesian Scoring](https://arxiv.org/abs/2405.14737)\n",
      "46. [Towards Cross-modal Backward-compatible Representation Learning for Vision-Language Models](https://arxiv.org/abs/2405.14715)\n",
      "47. [Learning Multi-dimensional Human Preference for Text-to-Image Generation](https://arxiv.org/abs/2405.14705)\n",
      "48. [Sparse-Tuning: Adapting Vision Transformers with Efficient Fine-tuning and Inference](https://arxiv.org/abs/2405.14700)\n",
      "49. [Towards Imperceptible Backdoor Attack in Self-supervised Learning](https://arxiv.org/abs/2405.14672)\n",
      "50. [Reinforcement Learning for Fine-tuning Text-to-speech Diffusion Models](https://arxiv.org/abs/2405.14632)\n",
      "51. [U-TELL: Unsupervised Task Expert Lifelong Learning](https://arxiv.org/abs/2405.14623)\n",
      "52. [Concept Visualization: Explaining the CLIP Multi-modal Embedding Using WordNet](https://arxiv.org/abs/2405.14563)\n",
      "53. [Multistable Shape from Shading Emerges from Patch Diffusion](https://arxiv.org/abs/2405.14530)\n",
      "54. [AnomalyDINO: Boosting Patch-based Few-shot Anomaly Detection with DINOv2](https://arxiv.org/abs/2405.14529)\n",
      "55. [Identity Inference from CLIP Models using Only Textual Data](https://arxiv.org/abs/2405.14517)\n",
      "56. [DuEDL: Dual-Branch Evidential Deep Learning for Scribble-Supervised Medical Image Segmentation](https://arxiv.org/abs/2405.14444)\n",
      "57. [Adaptive Rentention & Correction for Continual Learning](https://arxiv.org/abs/2405.14318)\n",
      "58. [Dynamic Mixture of Experts: An Auto-Tuning Approach for Efficient Transformer Models](https://arxiv.org/abs/2405.14297)\n",
      "59. [Tuning-free Universally-Supervised Semantic Segmentation](https://arxiv.org/abs/2405.14294)\n",
      "60. [Fine-grained Image-to-LiDAR Contrastive Distillation with Visual Foundation Models](https://arxiv.org/abs/2405.14271)\n",
      "61. [LG-VQ: Language-Guided Codebook Learning](https://arxiv.org/abs/2405.14206)\n",
      "62. [Multi-view Remote Sensing Image Segmentation With SAM priors](https://arxiv.org/abs/2405.14171)\n",
      "63. [Leveraging Semantic Segmentation Masks with Embeddings for Fine-Grained Form Classification](https://arxiv.org/abs/2405.14162)\n",
      "64. [RET-CLIP: A Retinal Image Foundation Model Pre-trained with Clinical Diagnostic Reports](https://arxiv.org/abs/2405.14137)\n",
      "65. [Automated Loss function Search for Class-imbalanced Node Classification](https://arxiv.org/abs/2405.14133)\n",
      "66. [Mixture of Experts Meets Prompt-Based Continual Learning](https://arxiv.org/abs/2405.14124)\n",
      "67. [Refining Skewed Perceptions in Vision-Language Models through Visual Representations](https://arxiv.org/abs/2405.14030)\n",
      "68. [Mitigating Interference in the Knowledge Continuum through Attention-Guided Incremental Learning](https://arxiv.org/abs/2405.13978)\n",
      "69. [MAGIC: Map-Guided Few-Shot Audio-Visual Acoustics Modeling](https://arxiv.org/abs/2405.13860)\n",
      "70. [Robust Disaster Assessment from Aerial Imagery Using Text-to-Image Synthetic Data](https://arxiv.org/abs/2405.13779)\n",
      "71. [What Makes Good Few-shot Examples for Vision-Language Models?](https://arxiv.org/abs/2405.13532)\n",
      "72. [A Label Propagation Strategy for CutMix in Multi-Label Remote Sensing Image Classification](https://arxiv.org/abs/2405.13451)\n",
      "73. [Unsupervised Pre-training with Language-Vision Prompts for Low-Data Instance Segmentation](https://arxiv.org/abs/2405.13388)\n",
      "74. [Gradient Projection For Parameter-Efficient Continual Learning](https://arxiv.org/abs/2405.13383)\n",
      "75. [MeteoRA: Multiple-tasks Embedded LoRA for Large Language Models](https://arxiv.org/abs/2405.13053)\n",
      "76. [CoLay: Controllable Layout Generation through Multi-conditional Latent Diffusion](https://arxiv.org/abs/2405.13045)\n",
      "77. [Fast Denoising Diffusion Probabilistic Models for Medical Image-to-Image Generation](https://arxiv.org/abs/2405.14802)\n",
      "78. [A label-free and data-free training strategy for vasculature segmentation in serial sectioning OCT data](https://arxiv.org/abs/2405.13757)\n"
     ]
    }
   ],
   "source": [
    "# 请将 'path_to_your_file.txt' 替换为你的txt文件路径\n",
    "file_path = 'tmp.txt'\n",
    "converted_text = convert_text_in_file(file_path, cnt=39)\n",
    "\n",
    "print(converted_text)"
   ]
  },
  {
   "cell_type": "code",
   "execution_count": 3,
   "metadata": {},
   "outputs": [
    {
     "name": "stdout",
     "output_type": "stream",
     "text": [
      "Susseccfully write to file!\n"
     ]
    }
   ],
   "source": [
    "# 写入Readme.md文件\n",
    "markdown_file = 'README.md'\n",
    "output_lines = converted_text\n",
    "result_write_md(markdown_file, output_lines)\n",
    "\n"
   ]
  },
  {
   "cell_type": "code",
   "execution_count": 4,
   "metadata": {},
   "outputs": [
    {
     "name": "stdout",
     "output_type": "stream",
     "text": [
      "Susseccfully write to file!\n"
     ]
    }
   ],
   "source": [
    "# 写入本周的markdown文件\n",
    "markdown_file = '2024/21_week.md'\n",
    "output_lines = converted_text\n",
    "result_write_md(markdown_file, output_lines)"
   ]
  }
 ],
 "metadata": {
  "kernelspec": {
   "display_name": "Python 3.8.13 ('pyt38')",
   "language": "python",
   "name": "python3"
  },
  "language_info": {
   "codemirror_mode": {
    "name": "ipython",
    "version": 3
   },
   "file_extension": ".py",
   "mimetype": "text/x-python",
   "name": "python",
   "nbconvert_exporter": "python",
   "pygments_lexer": "ipython3",
   "version": "3.8.13"
  },
  "orig_nbformat": 4,
  "vscode": {
   "interpreter": {
    "hash": "176c92cd5e5485b42e3e73d2f25e60c2ed8f24d584687c4dae8d36d44ade605d"
   }
  }
 },
 "nbformat": 4,
 "nbformat_minor": 2
}
