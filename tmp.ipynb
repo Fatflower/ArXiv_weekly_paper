{
 "cells": [
  {
   "cell_type": "code",
   "execution_count": 1,
   "metadata": {},
   "outputs": [],
   "source": [
    "def convert_text_in_file(file_path, cnt=1):\n",
    "    output_lines = []\n",
    "\n",
    "    with open(file_path, 'r') as file:\n",
    "        for i, line in enumerate(file):\n",
    "            url, title = line.strip().split(\" | \")\n",
    "            paper_title = title.split(\"] \")[1]\n",
    "            formatted_line = f\"{i+cnt+1}. [{paper_title}]({url})\"\n",
    "            output_lines.append(formatted_line)\n",
    "            \n",
    "\n",
    "    return \"\\n\".join(output_lines)\n",
    "\n",
    "def result_write_md(markdown_file, output_lines):\n",
    "    with open(markdown_file, 'a') as m_file:\n",
    "        m_file.seek(0, 2)\n",
    "        if m_file.tell() > 0:\n",
    "            m_file.write('\\n')\n",
    "        m_file.write(output_lines)\n",
    "    print(\"Susseccfully write to file!\")\n",
    "\n",
    "\n"
   ]
  },
  {
   "cell_type": "code",
   "execution_count": 2,
   "metadata": {},
   "outputs": [
    {
     "name": "stdout",
     "output_type": "stream",
     "text": [
      "10. [Adapting Large Multimodal Models to Distribution Shifts: The Role of In-Context Learning](https://arxiv.org/abs/2405.12217)\n",
      "11. [DTLLM-VLT: Diverse Text Generation for Visual Language Tracking Based on LLM](https://arxiv.org/abs/2405.12139)\n",
      "12. [MoRA: High-Rank Updating for Parameter-Efficient Fine-Tuning](https://arxiv.org/abs/2405.12130)\n",
      "13. [Position-Guided Prompt Learning for Anomaly Detection in Chest X-Rays](https://arxiv.org/abs/2405.11976)\n",
      "14. [Data Augmentation for Text-based Person Retrieval Using Large Language Models](https://arxiv.org/abs/2405.11971)\n",
      "15. [MM-Retinal: Knowledge-Enhanced Foundational Pretraining with Fundus Image-Text Expertise](https://arxiv.org/abs/2405.11793)\n",
      "16. [Erasing the Bias: Fine-Tuning Foundation Models for Semi-Supervised Learning](https://arxiv.org/abs/2405.11756)\n",
      "17. [Universal Organizer of SAM for Unsupervised Semantic Segmentation](https://arxiv.org/abs/2405.11742)\n",
      "18. [Reproducibility Study of CDUL: CLIP-Driven Unsupervised Learning for Multi-Label Image Classification](https://arxiv.org/abs/2405.11574)\n",
      "19. [DEMO: A Statistical Perspective for Efficient Image-Text Matching](https://arxiv.org/abs/2405.11496)\n",
      "20. [BOSC: A Backdoor-based Framework for Open Set Synthetic Image Attribution](https://arxiv.org/abs/2405.11491)\n",
      "21. [NubbleDrop: A Simple Way to Improve Matching Strategy for Prompted One-Shot Segmentation](https://arxiv.org/abs/2405.11476)\n",
      "22. [Efficient Prompt Tuning by Multi-Space Projection and Prompt Fusion](https://arxiv.org/abs/2405.11464)\n",
      "23. [MAML-en-LLM: Model Agnostic Meta-Training of LLMs for Improved In-Context Learning](https://arxiv.org/abs/2405.11446)\n",
      "24. [A Unified Approach Towards Active Learning and Out-of-Distribution Detection](https://arxiv.org/abs/2405.11337)\n",
      "25. [MediCLIP: Adapting CLIP for Few-shot Medical Image Anomaly Detection](https://arxiv.org/abs/2405.11315)\n",
      "26. [Enhancing Fine-Grained Image Classifications via Cascaded Vision Language Models](https://arxiv.org/abs/2405.11301)\n",
      "27. [Uni-MoE: Scaling Unified Multimodal LLMs with Mixture of Experts](https://arxiv.org/abs/2405.11273)\n",
      "28. [Bayesian Learning-driven Prototypical Contrastive Loss for Class-Incremental Learning](https://arxiv.org/abs/2405.11067)\n",
      "29. [Multimodal CLIP Inference for Meta-Few-Shot Image Classification](https://arxiv.org/abs/2405.10954)\n",
      "30. [Diffusion Model Driven Test-Time Image Adaptation for Robust Skin Lesion Classification](https://arxiv.org/abs/2405.11289)\n"
     ]
    }
   ],
   "source": [
    "# 请将 'path_to_your_file.txt' 替换为你的txt文件路径\n",
    "file_path = 'tmp.txt'\n",
    "converted_text = convert_text_in_file(file_path, cnt=9)\n",
    "\n",
    "print(converted_text)"
   ]
  },
  {
   "cell_type": "code",
   "execution_count": 3,
   "metadata": {},
   "outputs": [
    {
     "name": "stdout",
     "output_type": "stream",
     "text": [
      "Susseccfully write to file!\n"
     ]
    }
   ],
   "source": [
    "# 写入Readme.md文件\n",
    "markdown_file = 'README.md'\n",
    "output_lines = converted_text\n",
    "result_write_md(markdown_file, output_lines)\n",
    "\n"
   ]
  },
  {
   "cell_type": "code",
   "execution_count": 4,
   "metadata": {},
   "outputs": [
    {
     "name": "stdout",
     "output_type": "stream",
     "text": [
      "Susseccfully write to file!\n"
     ]
    }
   ],
   "source": [
    "# 写入本周的markdown文件\n",
    "markdown_file = '2024/21_week.md'\n",
    "output_lines = converted_text\n",
    "result_write_md(markdown_file, output_lines)"
   ]
  }
 ],
 "metadata": {
  "kernelspec": {
   "display_name": "Python 3.8.13 ('pyt38')",
   "language": "python",
   "name": "python3"
  },
  "language_info": {
   "codemirror_mode": {
    "name": "ipython",
    "version": 3
   },
   "file_extension": ".py",
   "mimetype": "text/x-python",
   "name": "python",
   "nbconvert_exporter": "python",
   "pygments_lexer": "ipython3",
   "version": "3.8.13"
  },
  "orig_nbformat": 4,
  "vscode": {
   "interpreter": {
    "hash": "176c92cd5e5485b42e3e73d2f25e60c2ed8f24d584687c4dae8d36d44ade605d"
   }
  }
 },
 "nbformat": 4,
 "nbformat_minor": 2
}
