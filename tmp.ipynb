{
 "cells": [
  {
   "cell_type": "code",
   "execution_count": 4,
   "metadata": {},
   "outputs": [
    {
     "name": "stdout",
     "output_type": "stream",
     "text": [
      "11. [BrushNet: A Plug-and-Play Image Inpainting Model with Decomposed Dual-Branch Diffusion](https://arxiv.org/abs/2403.06976)\n",
      "12. [SELMA: Learning and Merging Skill-Specific Text-to-Image Experts with Auto-Generated Data](https://arxiv.org/abs/2403.06952)\n",
      "13. [MEND: Meta dEmonstratioN Distillation for Efficient and Effective In-Context Learning](https://arxiv.org/abs/2403.06914)\n",
      "14. [Semantic Residual Prompts for Continual Learning](https://arxiv.org/abs/2403.06870)\n",
      "15. [An Image is Worth 1/2 Tokens After Layer 2: Plug-and-Play Inference Acceleration for Large Vision-Language Models](https://arxiv.org/abs/2403.06764)\n",
      "16. [Probabilistic Contrastive Learning for Long-Tailed Visual Recognition](https://arxiv.org/abs/2403.06726)\n",
      "17. [Trustworthy Partial Label Learning with Out-of-distribution Detection](https://arxiv.org/abs/2403.06681)\n",
      "18. [CEAT: Continual Expansion and Absorption Transformer for Non-Exemplar Class-Incremental Learnin](https://arxiv.org/abs/2403.06670)\n",
      "19. [Query-guided Prototype Evolution Network for Few-Shot Segmentation](https://arxiv.org/abs/2403.06488)\n",
      "20. [DivCon: Divide and Conquer for Progressive Text-to-Image Generation](https://arxiv.org/abs/2403.06400)\n",
      "21. [On the Diminishing Returns of Width for Continual Learning](https://arxiv.org/abs/2403.06398)\n",
      "22. [Enhancing Semantic Fidelity in Text-to-Image Synthesis: Attention Regulation in Diffusion Models](https://arxiv.org/abs/2403.06381)\n",
      "23. [A streamlined Approach to Multimodal Few-Shot Class Incremental Learning for Fine-Grained Datasets](https://arxiv.org/abs/2403.06295)\n",
      "24. [Probing Image Compression For Class-Incremental Learning](https://arxiv.org/abs/2403.06288)\n",
      "25. [Poly Kernel Inception Network for Remote Sensing Detection](https://arxiv.org/abs/2403.06258)\n",
      "26. [Decoupled Contrastive Learning for Long-Tailed Recognition](https://arxiv.org/abs/2403.06151)\n",
      "27. [RESTORE: Towards Feature Shift for Vision-Language Prompt Learning](https://arxiv.org/abs/2403.06136)\n",
      "28. [MACE: Mass Concept Erasure in Diffusion Models](https://arxiv.org/abs/2403.06135)\n",
      "29. [In-context Prompt Learning for Test-time Vision Recognition with Frozen Vision-language Model](https://arxiv.org/abs/2403.06126)\n",
      "30. [Universal Debiased Editing for Fair Medical Image Classification](https://arxiv.org/abs/2403.06104)\n",
      "31. [VidProM: A Million-scale Real Prompt-Gallery Dataset for Text-to-Video Diffusion Models](https://arxiv.org/abs/2403.06098)\n",
      "32. [Is Vanilla MLP in Neural Radiance Field Enough for Few-shot View Synthesis?](https://arxiv.org/abs/2403.06092)\n",
      "33. [Frequency Attention for Knowledge Distillation](https://arxiv.org/abs/2403.05894)\n",
      "34. [Last Iterate Convergence of Incremental Methods and Applications in Continual Learning](https://arxiv.org/abs/2403.06873)\n",
      "35. [Shortcut Learning in Medical Image Segmentation](https://arxiv.org/abs/2403.06748)\n",
      "36. [Mask-Enhanced Segment Anything Model for Tumor Lesion Semantic Segmentation](https://arxiv.org/abs/2403.05912)\n"
     ]
    }
   ],
   "source": [
    "def convert_text_in_file(file_path, cnt=1):\n",
    "    output_lines = []\n",
    "\n",
    "    with open(file_path, 'r') as file:\n",
    "        for i, line in enumerate(file):\n",
    "            url, title = line.strip().split(\" | \")\n",
    "            paper_title = title.split(\"] \")[1]\n",
    "            formatted_line = f\"{i+cnt+1}. [{paper_title}]({url})\"\n",
    "            output_lines.append(formatted_line)\n",
    "            \n",
    "\n",
    "    return \"\\n\".join(output_lines)\n",
    "\n",
    "\n",
    "# 请将 'path_to_your_file.txt' 替换为你的txt文件路径\n",
    "file_path = 'tmp.txt'\n",
    "converted_text = convert_text_in_file(file_path, cnt=10)\n",
    "print(converted_text)"
   ]
  },
  {
   "cell_type": "code",
   "execution_count": null,
   "metadata": {},
   "outputs": [],
   "source": []
  }
 ],
 "metadata": {
  "kernelspec": {
   "display_name": "pyt38",
   "language": "python",
   "name": "python3"
  },
  "language_info": {
   "codemirror_mode": {
    "name": "ipython",
    "version": 3
   },
   "file_extension": ".py",
   "mimetype": "text/x-python",
   "name": "python",
   "nbconvert_exporter": "python",
   "pygments_lexer": "ipython3",
   "version": "3.8.13"
  },
  "orig_nbformat": 4
 },
 "nbformat": 4,
 "nbformat_minor": 2
}
