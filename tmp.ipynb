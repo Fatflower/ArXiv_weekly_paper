{
 "cells": [
  {
   "cell_type": "code",
   "execution_count": 1,
   "metadata": {},
   "outputs": [
    {
     "name": "stdout",
     "output_type": "stream",
     "text": [
      "98. [Know Your Neighbors: Improving Single-View Reconstruction via Spatial Vision-Language Reasoning](https://arxiv.org/abs/2404.03658)\n",
      "99. [OW-VISCap: Open-World Video Instance Segmentation and Captioning](https://arxiv.org/abs/2404.03657)\n",
      "100. [CoMat: Aligning Text-to-Image Diffusion Model with Image-to-Text Concept Matching](https://arxiv.org/abs/2404.03653)\n",
      "101. [OpenNeRF: Open Set 3D Neural Scene Segmentation with Pixel-Wise Features and Rendered Novel Views](https://arxiv.org/abs/2404.03650)\n",
      "102. [Locating and Editing Factual Associations in Mamba](https://arxiv.org/abs/2404.03646)\n",
      "103. [Training LLMs over Neurally Compressed Text](https://arxiv.org/abs/2404.03626)\n",
      "104. [LCM-Lookahead for Encoder-based Text-to-Image Personalization](https://arxiv.org/abs/2404.03620)\n",
      "105. [DeViDe: Faceted medical knowledge for improved medical vision-language pre-training](https://arxiv.org/abs/2404.03618)\n",
      "106. [ReFT: Representation Finetuning for Language Models](https://arxiv.org/abs/2404.03592)\n",
      "107. [Embodied AI with Two Arms: Zero-shot Learning, Safety and Modularity](https://arxiv.org/abs/2404.03570)\n",
      "108. [Is CLIP the main roadblock for fine-grained open-world perception?](https://arxiv.org/abs/2404.03539)\n",
      "109. [How Much Data are Enough? Investigating Dataset Requirements for Patch-Based Brain MRI Segmentation Tasks](https://arxiv.org/abs/2404.03451)\n",
      "110. [Red Teaming GPT-4V: Are GPT-4V Safe Against Uni/Multi-Modal Jailbreak Attacks?](https://arxiv.org/abs/2404.03411)\n",
      "111. [Scaling Up Video Summarization Pretraining with Large Language Models](https://arxiv.org/abs/2404.03398)\n",
      "112. [Two Tricks to Improve Unsupervised Segmentation Learning](https://arxiv.org/abs/2404.03392)\n",
      "113. [Foundation Model for Advancing Healthcare: Challenges, Opportunities, and Future Directions](https://arxiv.org/abs/2404.03264)\n",
      "114. [On the Surprising Efficacy of Distillation as an Alternative to Pre-Training Small Models](https://arxiv.org/abs/2404.03263)\n",
      "115. [Learning Transferable Negative Prompts for Out-of-Distribution Detection](https://arxiv.org/abs/2404.03248)\n",
      "116. [Future-Proofing Class Incremental Learning](https://arxiv.org/abs/2404.03200)\n",
      "117. [LVLM-Intrepret: An Interpretability Tool for Large Vision-Language Models](https://arxiv.org/abs/2404.03118)\n",
      "118. [AWOL: Analysis WithOut synthesis using Language](https://arxiv.org/abs/2404.03042)\n",
      "119. [JailBreakV-28K: A Benchmark for Assessing the Robustness of MultiModal Large Language Models against Jailbreak Attacks](https://arxiv.org/abs/2404.03027)\n",
      "120. [Min-K%++: Improved Baseline for Detecting Pre-Training Data from Large Language Models](https://arxiv.org/abs/2404.02936)\n"
     ]
    }
   ],
   "source": [
    "def convert_text_in_file(file_path, cnt=1):\n",
    "    output_lines = []\n",
    "\n",
    "    with open(file_path, 'r') as file:\n",
    "        for i, line in enumerate(file):\n",
    "            url, title = line.strip().split(\" | \")\n",
    "            paper_title = title.split(\"] \")[1]\n",
    "            formatted_line = f\"{i+cnt+1}. [{paper_title}]({url})\"\n",
    "            output_lines.append(formatted_line)\n",
    "            \n",
    "\n",
    "    return \"\\n\".join(output_lines)\n",
    "\n",
    "\n",
    "# 请将 'path_to_your_file.txt' 替换为你的txt文件路径\n",
    "file_path = 'tmp.txt'\n",
    "converted_text = convert_text_in_file(file_path, cnt=97)\n",
    "print(converted_text)"
   ]
  },
  {
   "cell_type": "code",
   "execution_count": null,
   "metadata": {},
   "outputs": [],
   "source": []
  }
 ],
 "metadata": {
  "kernelspec": {
   "display_name": "pyt38",
   "language": "python",
   "name": "python3"
  },
  "language_info": {
   "codemirror_mode": {
    "name": "ipython",
    "version": 3
   },
   "file_extension": ".py",
   "mimetype": "text/x-python",
   "name": "python",
   "nbconvert_exporter": "python",
   "pygments_lexer": "ipython3",
   "version": "3.8.13"
  },
  "orig_nbformat": 4
 },
 "nbformat": 4,
 "nbformat_minor": 2
}
