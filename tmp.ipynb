{
 "cells": [
  {
   "cell_type": "code",
   "execution_count": 2,
   "metadata": {},
   "outputs": [],
   "source": [
    "def convert_text_in_file(file_path, cnt=1):\n",
    "    output_lines = []\n",
    "\n",
    "    with open(file_path, 'r') as file:\n",
    "        for i, line in enumerate(file):\n",
    "            url, title = line.strip().split(\" | \")\n",
    "            paper_title = title.split(\"] \")[1]\n",
    "            formatted_line = f\"{i+cnt+1}. [{paper_title}]({url})\"\n",
    "            output_lines.append(formatted_line)\n",
    "            \n",
    "\n",
    "    return \"\\n\".join(output_lines)\n",
    "\n"
   ]
  },
  {
   "cell_type": "code",
   "execution_count": 3,
   "metadata": {},
   "outputs": [
    {
     "name": "stdout",
     "output_type": "stream",
     "text": [
      "13. [Exploring Simple Open-Vocabulary Semantic Segmentation](https://arxiv.org/abs/2401.12217)\n",
      "14. [Less Could Be Better: Parameter-efficient Fine-tuning Advances Medical Vision Foundation Models](https://arxiv.org/abs/2401.12215)\n",
      "15. [CheXagent: Towards a Foundation Model for Chest X-Ray Interpretation](https://arxiv.org/abs/2401.12208)\n",
      "16. [APT: Adaptive Pruning and Tuning Pretrained Language Models for Efficient Training and Inference](https://arxiv.org/abs/2401.12200)\n",
      "17. [Revisiting Demonstration Selection Strategies in In-Context Learning](https://arxiv.org/abs/2401.12087)\n",
      "18. [Look, Listen and Recognise: Character-Aware Audio-Visual Subtitling](https://arxiv.org/abs/2401.12039)\n",
      "19. [SignVTCL: Multi-Modal Continuous Sign Language Recognition Enhanced by Visual-Textual Contrastive Learning](https://arxiv.org/abs/2401.11847)\n",
      "20. [SemPLeS: Semantic Prompt Learning for Weakly-Supervised Semantic Segmentation](https://arxiv.org/abs/2401.11791)\n",
      "21. [Colorectal Polyp Segmentation in the Deep Learning Era: A Comprehensive Survey](https://arxiv.org/abs/2401.11734)\n",
      "22. [Augmenting Prototype Network with TransMix for Few-shot Hyperspectral Image Classification](https://arxiv.org/abs/2401.11724)\n",
      "23. [INCPrompt: Task-Aware incremental Prompting for Rehearsal-Free Class-incremental Learning](https://arxiv.org/abs/2401.11667)\n",
      "24. [Zoom-shot: Fast and Efficient Unsupervised Zero-Shot Transfer of CLIP to Vision Encoders with Multimodal Loss](https://arxiv.org/abs/2401.11633)\n",
      "25. [Hierarchical Prompts for Rehearsal-free Continual Learning](https://arxiv.org/abs/2401.11544)\n",
      "26. [Geometric Prior Guided Feature Representation Learning for Long-Tailed Classification](https://arxiv.org/abs/2401.11436)\n",
      "27. [A Novel Benchmark for Few-Shot Semantic Segmentation in the Era of Foundation Models](https://arxiv.org/abs/2401.11311)\n",
      "28. [Inducing High Energy-Latency of Large Vision-Language Models with Verbose Images](https://arxiv.org/abs/2401.11170)\n",
      "29. [Spatial Structure Constraints for Weakly Supervised Semantic Segmentation](https://arxiv.org/abs/2401.11122)\n",
      "30. [One Step Learning, One Step Review](https://arxiv.org/abs/2401.10962)\n"
     ]
    }
   ],
   "source": [
    "# 请将 'path_to_your_file.txt' 替换为你的txt文件路径\n",
    "file_path = 'tmp.txt'\n",
    "converted_text = convert_text_in_file(file_path, cnt=12)\n",
    "print(converted_text)"
   ]
  }
 ],
 "metadata": {
  "kernelspec": {
   "display_name": "pyt38",
   "language": "python",
   "name": "python3"
  },
  "language_info": {
   "codemirror_mode": {
    "name": "ipython",
    "version": 3
   },
   "file_extension": ".py",
   "mimetype": "text/x-python",
   "name": "python",
   "nbconvert_exporter": "python",
   "pygments_lexer": "ipython3",
   "version": "3.9.18"
  },
  "orig_nbformat": 4
 },
 "nbformat": 4,
 "nbformat_minor": 2
}
