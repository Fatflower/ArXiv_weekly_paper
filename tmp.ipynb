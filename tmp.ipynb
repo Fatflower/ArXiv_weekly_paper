{
 "cells": [
  {
   "cell_type": "code",
   "execution_count": 1,
   "metadata": {},
   "outputs": [
    {
     "name": "stdout",
     "output_type": "stream",
     "text": [
      "45. [MOWA: Multiple-in-One Image Warping Model](https://arxiv.org/abs/2404.10716)\n",
      "46. [Contextrast: Contextual Contrastive Learning for Semantic Segmentation](https://arxiv.org/abs/2404.10633)\n",
      "47. [Private Attribute Inference from Images with Vision-Language Models](https://arxiv.org/abs/2404.10618)\n",
      "48. [Construction of Domain-specified Japanese Large Language Model for Finance through Continual Pre-training](https://arxiv.org/abs/2404.10555)\n",
      "49. [A Sentiment Analysis of Medical Text Based on Deep Learning](https://arxiv.org/abs/2404.10503)\n",
      "50. [Self-Supervised Visual Preference Alignment](https://arxiv.org/abs/2404.10501)\n",
      "51. [Toward a Realistic Benchmark for Out-of-Distribution Detection](https://arxiv.org/abs/2404.10474)\n",
      "52. [Optimization of Prompt Learning via Multi-Knowledge Representation for Vision-Language Models](https://arxiv.org/abs/2404.10357)\n",
      "53. [Domain-Rectifying Adapter for Cross-Domain Few-Shot Segmentation](https://arxiv.org/abs/2404.10322)\n",
      "54. [Hierarchical Context Merging: Better Long Context Understanding for Pre-trained LLMs](https://arxiv.org/abs/2404.10308)\n",
      "55. [MoE-TinyMed: Mixture of Experts for Tiny Medical Large Vision-Language Models](https://arxiv.org/abs/2404.10237)\n",
      "56. [Closed-Loop Open-Vocabulary Mobile Manipulation with GPT-4V](https://arxiv.org/abs/2404.10220)\n",
      "57. [Salient Object-Aware Background Generation using Text-Guided Diffusion Models](https://arxiv.org/abs/2404.10157)\n",
      "58. [SegFormer3D: an Efficient Transformer for 3D Medical Image Segmentation](https://arxiv.org/abs/2404.10156)\n",
      "59. [Dual Modalities of Text: Visual and Textual Generative Pre-training](https://arxiv.org/abs/2404.10710)\n",
      "60. [Mixed Prototype Consistency Learning for Semi-supervised Medical Image Segmentation](https://arxiv.org/abs/2404.10717)\n",
      "61. [LaDiC: Are Diffusion Models Really Inferior to Autoregressive Counterparts for Image-to-Text Generation?](https://arxiv.org/abs/2404.10763)\n",
      "62. [Watch Your Step: Optimal Retrieval for Continual Learning at Scale](https://arxiv.org/abs/2404.10758)\n"
     ]
    }
   ],
   "source": [
    "def convert_text_in_file(file_path, cnt=1):\n",
    "    output_lines = []\n",
    "\n",
    "    with open(file_path, 'r') as file:\n",
    "        for i, line in enumerate(file):\n",
    "            url, title = line.strip().split(\" | \")\n",
    "            paper_title = title.split(\"] \")[1]\n",
    "            formatted_line = f\"{i+cnt+1}. [{paper_title}]({url})\"\n",
    "            output_lines.append(formatted_line)\n",
    "            \n",
    "\n",
    "    return \"\\n\".join(output_lines)\n",
    "\n",
    "\n",
    "# 请将 'path_to_your_file.txt' 替换为你的txt文件路径\n",
    "file_path = 'tmp.txt'\n",
    "converted_text = convert_text_in_file(file_path, cnt=44)\n",
    "print(converted_text)"
   ]
  },
  {
   "cell_type": "code",
   "execution_count": null,
   "metadata": {},
   "outputs": [],
   "source": []
  }
 ],
 "metadata": {
  "kernelspec": {
   "display_name": "pyt38",
   "language": "python",
   "name": "python3"
  },
  "language_info": {
   "codemirror_mode": {
    "name": "ipython",
    "version": 3
   },
   "file_extension": ".py",
   "mimetype": "text/x-python",
   "name": "python",
   "nbconvert_exporter": "python",
   "pygments_lexer": "ipython3",
   "version": "3.8.13"
  },
  "orig_nbformat": 4
 },
 "nbformat": 4,
 "nbformat_minor": 2
}
