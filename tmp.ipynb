{
 "cells": [
  {
   "cell_type": "code",
   "execution_count": 1,
   "metadata": {},
   "outputs": [
    {
     "name": "stdout",
     "output_type": "stream",
     "text": [
      "37. [Rethinking Generative Large Language Model Evaluation for Semantic Comprehension](https://arxiv.org/abs/2403.07872)\n",
      "38. [MoPE-CLIP: Structured Pruning for Efficient Vision-Language Models with Module-wise Pruning Error Metric](https://arxiv.org/abs/2403.07839)\n",
      "39. [Branch-Train-MiX: Mixing Expert LLMs into a Mixture-of-Experts LLM](https://arxiv.org/abs/2403.07816)\n",
      "40. [Multi-modal Auto-regressive Modeling via Visual Words](https://arxiv.org/abs/2403.07720)\n",
      "41. [FPT: Fine-grained Prompt Tuning for Parameter and Memory Efficient Fine Tuning in High-resolution Medical Image Classification](https://arxiv.org/abs/2403.07576)\n",
      "42. [LLMvsSmall Model? Large Language Model Based Text Augmentation Enhanced Personality Detection Model](https://arxiv.org/abs/2403.07581)\n",
      "43. [RSBuilding: Towards General Remote Sensing Image Building Extraction and Change Detection with Foundation Model](https://arxiv.org/abs/2403.07564)\n",
      "44. [MoAI: Mixture of All Intelligence for Large Language and Vision Models](https://arxiv.org/abs/2403.07508)\n",
      "45. [Block-wise LoRA: Revisiting Fine-grained LoRA for Effective Personalization and Stylization in Text-to-Image Generation](https://arxiv.org/abs/2403.07500)\n",
      "46. [Matrix-Transformation Based Low-Rank Adaptation (MTLoRA): A Brain-Inspired Method for Parameter-Efficient Fine-Tuning](https://arxiv.org/abs/2403.07440)\n",
      "47. [Textual Knowledge Matters: Cross-Modality Co-Teaching for Generalized Visual Class Discovery](https://arxiv.org/abs/2403.07369)\n",
      "48. [Premonition: Using Generative Models to Preempt Future Data Changes in Continual Learning](https://arxiv.org/abs/2403.07356)\n",
      "49. [KEBench: A Benchmark on Knowledge Editing for Large Vision-Language Models](https://arxiv.org/abs/2403.07350)\n",
      "50. [A Bayesian Approach to OOD Robustness in Image Classification](https://arxiv.org/abs/2403.07277)\n",
      "51. [You'll Never Walk Alone: A Sketch and Text Duet for Fine-Grained Image Retrieval](https://arxiv.org/abs/2403.07222)\n",
      "52. [UPS: Towards Foundation Models for PDE Solving via Cross-Modal Adaptation](https://arxiv.org/abs/2403.07187)\n",
      "53. [AuG-KD: Anchor-Based Mixup Generation for Out-of-Domain Knowledge Distillation](https://arxiv.org/abs/2403.07030)\n",
      "54. [Adaptive Hyperparameter Optimization for Continual Learning Scenarios](https://arxiv.org/abs/2403.07015)\n",
      "55. [When Eye-Tracking Meets Machine Learning: A Systematic Review on Applications in Medical Image Analysis](https://arxiv.org/abs/2403.07834)\n",
      "56. [Dynamic U-Net: Adaptively Calibrate Features for Abdominal Multi-organ Segmentation](https://arxiv.org/abs/2403.07303)\n",
      "57. [Simulation-Based Segmentation of Blood Vessels in Cerebral 3D OCTA Images](https://arxiv.org/abs/2403.07116)\n",
      "58. [Re-Simulation-based Self-Supervised Learning for Pre-Training Foundation Models](https://arxiv.org/abs/2403.07066)\n"
     ]
    }
   ],
   "source": [
    "def convert_text_in_file(file_path, cnt=1):\n",
    "    output_lines = []\n",
    "\n",
    "    with open(file_path, 'r') as file:\n",
    "        for i, line in enumerate(file):\n",
    "            url, title = line.strip().split(\" | \")\n",
    "            paper_title = title.split(\"] \")[1]\n",
    "            formatted_line = f\"{i+cnt+1}. [{paper_title}]({url})\"\n",
    "            output_lines.append(formatted_line)\n",
    "            \n",
    "\n",
    "    return \"\\n\".join(output_lines)\n",
    "\n",
    "\n",
    "# 请将 'path_to_your_file.txt' 替换为你的txt文件路径\n",
    "file_path = 'tmp.txt'\n",
    "converted_text = convert_text_in_file(file_path, cnt=36)\n",
    "print(converted_text)"
   ]
  },
  {
   "cell_type": "code",
   "execution_count": null,
   "metadata": {},
   "outputs": [],
   "source": []
  }
 ],
 "metadata": {
  "kernelspec": {
   "display_name": "pyt38",
   "language": "python",
   "name": "python3"
  },
  "language_info": {
   "codemirror_mode": {
    "name": "ipython",
    "version": 3
   },
   "file_extension": ".py",
   "mimetype": "text/x-python",
   "name": "python",
   "nbconvert_exporter": "python",
   "pygments_lexer": "ipython3",
   "version": "3.8.13"
  },
  "orig_nbformat": 4
 },
 "nbformat": 4,
 "nbformat_minor": 2
}
