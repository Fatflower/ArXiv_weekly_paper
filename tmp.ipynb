{
 "cells": [
  {
   "cell_type": "code",
   "execution_count": 1,
   "metadata": {},
   "outputs": [],
   "source": [
    "def convert_text_in_file(file_path, cnt=1):\n",
    "    output_lines = []\n",
    "\n",
    "    with open(file_path, 'r') as file:\n",
    "        for i, line in enumerate(file):\n",
    "            url, title = line.strip().split(\" | \")\n",
    "            paper_title = title.split(\"] \")[1]\n",
    "            formatted_line = f\"{i+cnt+1}. [{paper_title}]({url})\"\n",
    "            output_lines.append(formatted_line)\n",
    "            \n",
    "\n",
    "    return \"\\n\".join(output_lines)\n",
    "\n",
    "def result_write_md(markdown_file, output_lines):\n",
    "    with open(markdown_file, 'a') as m_file:\n",
    "        m_file.seek(0, 2)\n",
    "        if m_file.tell() > 0:\n",
    "            m_file.write('\\n')\n",
    "        m_file.write(output_lines)\n",
    "    print(\"Susseccfully write to file!\")\n",
    "\n",
    "\n"
   ]
  },
  {
   "cell_type": "code",
   "execution_count": 2,
   "metadata": {},
   "outputs": [
    {
     "name": "stdout",
     "output_type": "stream",
     "text": [
      "14. [Why is SAM Robust to Label Noise?](https://arxiv.org/abs/2405.03676)\n",
      "15. [Liberating Seen Classes: Boosting Few-Shot and Zero-Shot Text Classification via Anchor Generation and Classification Reframing](https://arxiv.org/abs/2405.03565)\n",
      "16. [CCDM: Continuous Conditional Diffusion Models for Image Generation](https://arxiv.org/abs/2405.03546)\n",
      "17. [Knowledge-aware Text-Image Retrieval for Remote Sensing Images](https://arxiv.org/abs/2405.03373)\n",
      "18. [Examining Changes in Internal Representations of Continual Learning Models Through Tensor Decomposition](https://arxiv.org/abs/2405.03244)\n",
      "19. [Intra-task Mutual Attention based Vision Transformer for Few-Shot Learning](https://arxiv.org/abs/2405.03109)\n",
      "20. [Tree-based Ensemble Learning for Out-of-distribution Detection](https://arxiv.org/abs/2405.03060)\n",
      "21. [Source-Free Domain Adaptation Guided by Vision and Vision-Language Pre-Training](https://arxiv.org/abs/2405.02954)\n",
      "22. [Beyond Unimodal Learning: The Importance of Integrating Multiple Modalities for Lifelong Learning](https://arxiv.org/abs/2405.02766)\n",
      "23. [Efficient Exploration of Image Classifier Failures with Bayesian Optimization and Text-to-Image Models](https://arxiv.org/abs/2405.02332)\n"
     ]
    }
   ],
   "source": [
    "# 请将 'path_to_your_file.txt' 替换为你的txt文件路径\n",
    "file_path = 'tmp.txt'\n",
    "converted_text = convert_text_in_file(file_path, cnt=13)\n",
    "\n",
    "print(converted_text)"
   ]
  },
  {
   "cell_type": "code",
   "execution_count": 3,
   "metadata": {},
   "outputs": [
    {
     "name": "stdout",
     "output_type": "stream",
     "text": [
      "Susseccfully write to file!\n"
     ]
    }
   ],
   "source": [
    "# 写入Readme.md文件\n",
    "markdown_file = 'README.md'\n",
    "output_lines = converted_text\n",
    "result_write_md(markdown_file, output_lines)\n",
    "\n"
   ]
  },
  {
   "cell_type": "code",
   "execution_count": 4,
   "metadata": {},
   "outputs": [
    {
     "name": "stdout",
     "output_type": "stream",
     "text": [
      "Susseccfully write to file!\n"
     ]
    }
   ],
   "source": [
    "# 写入本周的markdown文件\n",
    "markdown_file = '2024/19_week.md'\n",
    "output_lines = converted_text\n",
    "result_write_md(markdown_file, output_lines)"
   ]
  }
 ],
 "metadata": {
  "kernelspec": {
   "display_name": "Python 3.8.13 ('pyt38')",
   "language": "python",
   "name": "python3"
  },
  "language_info": {
   "codemirror_mode": {
    "name": "ipython",
    "version": 3
   },
   "file_extension": ".py",
   "mimetype": "text/x-python",
   "name": "python",
   "nbconvert_exporter": "python",
   "pygments_lexer": "ipython3",
   "version": "3.8.13"
  },
  "orig_nbformat": 4,
  "vscode": {
   "interpreter": {
    "hash": "176c92cd5e5485b42e3e73d2f25e60c2ed8f24d584687c4dae8d36d44ade605d"
   }
  }
 },
 "nbformat": 4,
 "nbformat_minor": 2
}
