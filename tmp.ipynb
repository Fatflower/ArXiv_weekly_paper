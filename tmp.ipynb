{
 "cells": [
  {
   "cell_type": "code",
   "execution_count": 17,
   "metadata": {},
   "outputs": [],
   "source": [
    "def convert_text_in_file(file_path, cnt=1):\n",
    "    output_lines = []\n",
    "\n",
    "    with open(file_path, 'r') as file:\n",
    "        for i, line in enumerate(file):\n",
    "            url, title = line.strip().split(\" | \")\n",
    "            paper_title = title.split(\"] \")[1]\n",
    "            formatted_line = f\"{i+cnt+1}. [{paper_title}]({url})\"\n",
    "            output_lines.append(formatted_line)\n",
    "            \n",
    "\n",
    "    return \"\\n\".join(output_lines)\n",
    "\n",
    "def result_write_md(markdown_file, output_lines):\n",
    "    with open(markdown_file, 'a') as m_file:\n",
    "        m_file.seek(0, 2)\n",
    "        if m_file.tell() > 0:\n",
    "            m_file.write('\\n')\n",
    "        m_file.write(output_lines)\n",
    "    print(\"Susseccfully write to file!\")\n",
    "\n",
    "\n"
   ]
  },
  {
   "cell_type": "code",
   "execution_count": 18,
   "metadata": {},
   "outputs": [
    {
     "name": "stdout",
     "output_type": "stream",
     "text": [
      "1. [Multi-Target Unsupervised Domain Adaptation for Semantic Segmentation without External Data](https://arxiv.org/abs/2405.06502)\n",
      "2. [Pseudo-Prompt Generating in Pre-trained Vision-Language Models for Multi-Label Medical Image Classification](https://arxiv.org/abs/2405.06468)\n",
      "3. [XAI4LLM. Let Machine Learning Models and LLMs Collaborate for Enhanced In-Context Learning in Healthcare](https://arxiv.org/abs/2405.06270)\n",
      "4. [Multimodal LLMs Struggle with Basic Visual Network Analysis: a VNA Benchmark](https://arxiv.org/abs/2405.06634)\n",
      "5. [Explaining Text Similarity in Transformer Models](https://arxiv.org/abs/2405.06604)\n",
      "6. [Enhancing Weakly Supervised Semantic Segmentation with Multi-modal Foundation Models: An End-to-End Approach](https://arxiv.org/abs/2405.06586)\n",
      "7. [MambaOut: Do We Really Need Mamba for Vision?](https://arxiv.org/abs/2405.07992)\n",
      "8. [Investigating the Semantic Robustness of CLIP-based Zero-Shot Anomaly Segmentation](https://arxiv.org/abs/2405.07969)\n",
      "9. [Can Better Text Semantics in Prompt Tuning Improve VLM Generalization?](https://arxiv.org/abs/2405.07921)\n",
      "10. [Text Grouping Adapter: Adapting Pre-trained Text Detector for Layout Analysis](https://arxiv.org/abs/2405.07481)\n",
      "11. [Liquid Ensemble Selection for Continual Learning](https://arxiv.org/abs/2405.07327)\n",
      "12. [Erasing Concepts from Text-to-Image Diffusion Models with Few-shot Unlearning](https://arxiv.org/abs/2405.07288)\n",
      "13. [Zero Shot Context-Based Object Segmentation using SLIP (SAM+CLIP)](https://arxiv.org/abs/2405.07284)\n",
      "14. [Cross-Domain Continual Learning via CLAMP](https://arxiv.org/abs/2405.07142)\n",
      "15. [TAI++: Text as Image for Multi-Label Image Classification by Co-Learning Transferable Prompt](https://arxiv.org/abs/2405.06926)\n",
      "16. [PLUTO: Pathology-Universal Transformer](https://arxiv.org/abs/2405.07905)\n",
      "17. [Leveraging Fixed and Dynamic Pseudo-labels for Semi-supervised Medical Image Segmentation](https://arxiv.org/abs/2405.07256)\n",
      "18. [Realizing Visual Question Answering for Education: GPT-4V as a Multimodal AI](https://arxiv.org/abs/2405.07163)\n",
      "19. [EMCAD: Efficient Multi-scale Convolutional Attention Decoding for Medical Image Segmentation](https://arxiv.org/abs/2405.06880)\n",
      "20. [SAM3D: Zero-Shot Semi-Automatic Segmentation in 3D Medical Images with the Segment Anything Model](https://arxiv.org/abs/2405.06786)\n",
      "21. [DrugLLM: Open Large Language Model for Few-shot Molecule Generation](https://arxiv.org/abs/2405.06690)\n"
     ]
    }
   ],
   "source": [
    "# 请将 'path_to_your_file.txt' 替换为你的txt文件路径\n",
    "file_path = 'tmp.txt'\n",
    "converted_text = convert_text_in_file(file_path, cnt=0)\n",
    "\n",
    "print(converted_text)"
   ]
  },
  {
   "cell_type": "code",
   "execution_count": 19,
   "metadata": {},
   "outputs": [
    {
     "name": "stdout",
     "output_type": "stream",
     "text": [
      "Susseccfully write to file!\n"
     ]
    }
   ],
   "source": [
    "# 写入Readme.md文件\n",
    "markdown_file = 'README.md'\n",
    "output_lines = converted_text\n",
    "result_write_md(markdown_file, output_lines)\n",
    "\n"
   ]
  },
  {
   "cell_type": "code",
   "execution_count": 20,
   "metadata": {},
   "outputs": [
    {
     "name": "stdout",
     "output_type": "stream",
     "text": [
      "Susseccfully write to file!\n"
     ]
    }
   ],
   "source": [
    "# 写入本周的markdown文件\n",
    "markdown_file = '2024/20_week.md'\n",
    "output_lines = converted_text\n",
    "result_write_md(markdown_file, output_lines)"
   ]
  }
 ],
 "metadata": {
  "kernelspec": {
   "display_name": "Python 3.8.13 ('pyt38')",
   "language": "python",
   "name": "python3"
  },
  "language_info": {
   "codemirror_mode": {
    "name": "ipython",
    "version": 3
   },
   "file_extension": ".py",
   "mimetype": "text/x-python",
   "name": "python",
   "nbconvert_exporter": "python",
   "pygments_lexer": "ipython3",
   "version": "3.8.13"
  },
  "orig_nbformat": 4,
  "vscode": {
   "interpreter": {
    "hash": "176c92cd5e5485b42e3e73d2f25e60c2ed8f24d584687c4dae8d36d44ade605d"
   }
  }
 },
 "nbformat": 4,
 "nbformat_minor": 2
}
