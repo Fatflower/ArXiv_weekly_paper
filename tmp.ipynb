{
 "cells": [
  {
   "cell_type": "code",
   "execution_count": 1,
   "metadata": {},
   "outputs": [],
   "source": [
    "def convert_text_in_file(file_path, cnt=1):\n",
    "    output_lines = []\n",
    "\n",
    "    with open(file_path, 'r') as file:\n",
    "        for i, line in enumerate(file):\n",
    "            url, title = line.strip().split(\" | \")\n",
    "            paper_title = title.split(\"] \")[1]\n",
    "            formatted_line = f\"{i+cnt+1}. [{paper_title}]({url})\"\n",
    "            output_lines.append(formatted_line)\n",
    "            \n",
    "\n",
    "    return \"\\n\".join(output_lines)\n",
    "\n",
    "def result_write_md(markdown_file, output_lines):\n",
    "    with open(markdown_file, 'a') as m_file:\n",
    "        m_file.seek(0, 2)\n",
    "        if m_file.tell() > 0:\n",
    "            m_file.write('\\n')\n",
    "        m_file.write(output_lines)\n",
    "    print(\"Susseccfully write to file!\")\n",
    "\n",
    "\n"
   ]
  },
  {
   "cell_type": "code",
   "execution_count": 2,
   "metadata": {},
   "outputs": [
    {
     "name": "stdout",
     "output_type": "stream",
     "text": [
      "The total number of lines in the file is: 16\n"
     ]
    }
   ],
   "source": [
    "def count_lines_in_file(file_path):\n",
    "    with open(file_path, 'r', encoding='utf-8') as file:\n",
    "        lines = file.readlines()\n",
    "        return len(lines)\n",
    "file_path = '2024/37_week.md'\n",
    "total_lines = count_lines_in_file(file_path)\n",
    "print(f\"The total number of lines in the file is: {total_lines}\")"
   ]
  },
  {
   "cell_type": "code",
   "execution_count": 3,
   "metadata": {},
   "outputs": [
    {
     "name": "stdout",
     "output_type": "stream",
     "text": [
      "17. [LSVOS Challenge Report: Large-scale Complex and Long Video Object Segmentation](https://arxiv.org/abs/2409.05847)\n",
      "18. [A CLIP-based siamese approach for meme classification](https://arxiv.org/abs/2409.05772)\n",
      "19. [Zero-shot Outlier Detection via Prior-data Fitted Networks: Model Selection Bygone!](https://arxiv.org/abs/2409.05672)\n",
      "20. [Joint Input and Output Coordination for Class-Incremental Learning](https://arxiv.org/abs/2409.05620)\n",
      "21. [CustomContrast: A Multilevel Contrastive Perspective For Subject-Driven Text-to-Image Customization](https://arxiv.org/abs/2409.05606)\n",
      "22. [StratXplore: Strategic Novelty-seeking and Instruction-aligned Exploration for Vision and Language Navigation](https://arxiv.org/abs/2409.05593)\n",
      "23. [Seeing is Believing? Enhancing Vision-Language Navigation using Visual Perturbations](https://arxiv.org/abs/2409.05552)\n",
      "24. [Elsevier Arena: Human Evaluation of Chemistry/Biology/Health Foundational Large Language Models](https://arxiv.org/abs/2409.05486)\n",
      "25. [Proto-OOD: Enhancing OOD Object Detection with Prototype Feature Similarity](https://arxiv.org/abs/2409.05466)\n",
      "26. [TextToucher: Fine-Grained Text-to-Touch Generation](https://arxiv.org/abs/2409.05427)\n",
      "27. [TAVP: Task-Adaptive Visual Prompt for Cross-domain Few-shot Segmentation](https://arxiv.org/abs/2409.05393)\n",
      "28. [Shaking Up VLMs: Comparing Transformers and Structured State Space Models for Vision & Language Modeling](https://arxiv.org/abs/2409.05395)\n",
      "29. [Boosting CLIP Adaptation for Image Quality Assessment via Meta-Prompt Learning and Gradient Regularization](https://arxiv.org/abs/2409.05381)\n",
      "30. [FIF-UNet: An Efficient UNet Using Feature Interaction and Fusion for Medical Image Segmentation](https://arxiv.org/abs/2409.05324)\n",
      "31. [Open-World Dynamic Prompt and Continual Visual Representation Learning](https://arxiv.org/abs/2409.05312)\n",
      "32. [A Survey on Mixup Augmentations and Beyond](https://arxiv.org/abs/2409.05202)\n",
      "33. [Can OOD Object Detectors Learn from Foundation Models?](https://arxiv.org/abs/2409.05162)\n",
      "34. [Deep Self-cleansing for Medical Image Segmentation with Noisy Labels](https://arxiv.org/abs/2409.05024)\n",
      "35. [Visual Grounding with Multi-modal Conditional Adaptation](https://arxiv.org/abs/2409.04999)\n",
      "36. [PatchAlign:Fair and Accurate Skin Disease Image Classification by Alignment with Clinical Labels](https://arxiv.org/abs/2409.04975)\n",
      "37. [SGSeg: Enabling Text-free Inference in Language-guided Segmentation of Chest X-rays via Self-guidance](https://arxiv.org/abs/2409.04758)\n",
      "38. [Cross-Organ Domain Adaptive Neural Network for Pancreatic Endoscopic Ultrasound Image Segmentation](https://arxiv.org/abs/2409.04718)\n",
      "39. [MuAP: Multi-step Adaptive Prompt Learning for Vision-Language Model with Missing Modality](https://arxiv.org/abs/2409.04693)\n",
      "40. [Multi-Conditioned Denoising Diffusion Probabilistic Model (mDDPM) for Medical Image Synthesis](https://arxiv.org/abs/2409.04670)\n",
      "41. [Zero-Shot Whole Slide Image Retrieval in Histopathology Using Embeddings of Foundation Models](https://arxiv.org/abs/2409.04631)\n",
      "42. [High-Performance Few-Shot Segmentation with Foundation Models: An Empirical Study](https://arxiv.org/abs/2409.06305)\n",
      "43. [Revisiting Prompt Pretraining of Vision-Language Models](https://arxiv.org/abs/2409.06166)\n",
      "44. [SVFit: Parameter-Efficient Fine-Tuning of Large Pre-Trained Models Using Singular Values](https://arxiv.org/abs/2409.05926)\n",
      "45. [DA-MoE: Towards Dynamic Expert Allocation for Mixture-of-Experts Models](https://arxiv.org/abs/2409.06669)\n",
      "46. [SaRA: High-Efficient Diffusion Model Fine-tuning with Progressive Sparse Low-Rank Adaptation](https://arxiv.org/abs/2409.06633)\n",
      "47. [Elucidating Optimal Reward-Diversity Tradeoffs in Text-to-Image Diffusion Models](https://arxiv.org/abs/2409.06493)\n",
      "48. [Knowledge Distillation via Query Selection for Detection Transformer](https://arxiv.org/abs/2409.06443)\n"
     ]
    }
   ],
   "source": [
    "# 请将 'path_to_your_file.txt' 替换为你的txt文件路径\n",
    "file_path_tmp = 'tmp.txt'\n",
    "converted_text = convert_text_in_file(file_path_tmp, cnt=total_lines)\n",
    "\n",
    "print(converted_text)"
   ]
  },
  {
   "cell_type": "code",
   "execution_count": 4,
   "metadata": {},
   "outputs": [
    {
     "name": "stdout",
     "output_type": "stream",
     "text": [
      "Susseccfully write to file!\n"
     ]
    }
   ],
   "source": [
    "# 写入Readme.md文件\n",
    "markdown_file = 'README.md'\n",
    "output_lines = converted_text\n",
    "result_write_md(markdown_file, output_lines)\n",
    "\n"
   ]
  },
  {
   "cell_type": "code",
   "execution_count": 5,
   "metadata": {},
   "outputs": [
    {
     "name": "stdout",
     "output_type": "stream",
     "text": [
      "Susseccfully write to file!\n"
     ]
    }
   ],
   "source": [
    "# 写入本周的markdown文件\n",
    "\n",
    "output_lines = converted_text\n",
    "result_write_md(file_path, output_lines)"
   ]
  }
 ],
 "metadata": {
  "kernelspec": {
   "display_name": "Python 3.8.13 ('pyt38')",
   "language": "python",
   "name": "python3"
  },
  "language_info": {
   "codemirror_mode": {
    "name": "ipython",
    "version": 3
   },
   "file_extension": ".py",
   "mimetype": "text/x-python",
   "name": "python",
   "nbconvert_exporter": "python",
   "pygments_lexer": "ipython3",
   "version": "3.8.13"
  },
  "orig_nbformat": 4,
  "vscode": {
   "interpreter": {
    "hash": "176c92cd5e5485b42e3e73d2f25e60c2ed8f24d584687c4dae8d36d44ade605d"
   }
  }
 },
 "nbformat": 4,
 "nbformat_minor": 2
}
