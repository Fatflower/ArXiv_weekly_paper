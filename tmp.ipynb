{
 "cells": [
  {
   "cell_type": "code",
   "execution_count": 5,
   "metadata": {},
   "outputs": [],
   "source": [
    "def convert_text_in_file(file_path, cnt=1):\n",
    "    output_lines = []\n",
    "\n",
    "    with open(file_path, 'r') as file:\n",
    "        for i, line in enumerate(file):\n",
    "            url, title = line.strip().split(\" | \")\n",
    "            paper_title = title.split(\"] \")[1]\n",
    "            formatted_line = f\"{i+cnt+1}. [{paper_title}]({url})\"\n",
    "            output_lines.append(formatted_line)\n",
    "            \n",
    "\n",
    "    return \"\\n\".join(output_lines)\n",
    "\n",
    "def result_write_md(markdown_file, output_lines):\n",
    "    with open(markdown_file, 'a') as m_file:\n",
    "        m_file.seek(0, 2)\n",
    "        if m_file.tell() > 0:\n",
    "            m_file.write('\\n')\n",
    "        m_file.write(output_lines)\n",
    "    print(\"Susseccfully write to file!\")\n",
    "\n",
    "\n"
   ]
  },
  {
   "cell_type": "code",
   "execution_count": 6,
   "metadata": {},
   "outputs": [
    {
     "name": "stdout",
     "output_type": "stream",
     "text": [
      "39. [Reason3D: Searching and Reasoning 3D Segmentation via Large Language Model](https://arxiv.org/abs/2405.17427)\n",
      "40. [BehaviorGPT: Smart Agent Simulation for Autonomous Driving with Next-Patch Prediction](https://arxiv.org/abs/2405.17372)\n",
      "41. [On the Noise Robustness of In-Context Learning for Text Generation](https://arxiv.org/abs/2405.17264)\n",
      "42. [$\\textit{Trans-LoRA}$: towards data-free Transferable Parameter Efficient Finetuning](https://arxiv.org/abs/2405.17258)\n",
      "43. [RLAIF-V: Aligning MLLMs through Open-Source AI Feedback for Super GPT-4V Trustworthiness](https://arxiv.org/abs/2405.17220)\n",
      "44. [The Expressive Capacity of State Space Models: A Formal Language Perspective](https://arxiv.org/abs/2405.17394)\n",
      "45. [Efficient Ensembles Improve Training Data Attribution](https://arxiv.org/abs/2405.17293)\n",
      "46. [An Introduction to Vision-Language Modeling](https://arxiv.org/abs/2405.17247)\n",
      "47. [Benchmarking General Purpose In-Context Learning](https://arxiv.org/abs/2405.17234)\n",
      "48. [Efficient multi-prompt evaluation of LLMs](https://arxiv.org/abs/2405.17202)\n",
      "49. [WeiPer: OOD Detection using Weight Perturbations of Class Projections](https://arxiv.org/abs/2405.17164)\n",
      "50. [Training-free Editioning of Text-to-Image Models](https://arxiv.org/abs/2405.17069)\n",
      "51. [Improving Data-aware and Parameter-aware Robustness for Continual Learning](https://arxiv.org/abs/2405.17054)\n",
      "52. [Compositional Few-Shot Class-Incremental Learning](https://arxiv.org/abs/2405.17022)\n",
      "53. [Vision-and-Language Navigation Generative Pretrained Transformer](https://arxiv.org/abs/2405.16994)\n",
      "54. [Multilingual Diversity Improves Vision-Language Representations](https://arxiv.org/abs/2405.16915)\n",
      "55. [Safe LoRA: the Silver Lining of Reducing Safety Risks when Fine-tuning Large Language Models](https://arxiv.org/abs/2405.16833)\n",
      "56. [Automatic Domain Adaptation by Transformers in In-Context Learning](https://arxiv.org/abs/2405.16819)\n",
      "57. [Image-level Regression for Uncertainty-aware Retinal Image Segmentation](https://arxiv.org/abs/2405.16815)\n",
      "58. [Reframing the Relationship in Out-of-Distribution Detection](https://arxiv.org/abs/2405.16766)\n",
      "59. [Adaptive VIO: Deep Visual-Inertial Odometry with Online Continual Learning](https://arxiv.org/abs/2405.16754)\n",
      "60. [Few-shot Tuning of Foundation Models for Class-incremental Learning](https://arxiv.org/abs/2405.16625)\n",
      "61. [On Sequential Loss Approximation for Continual Learning](https://arxiv.org/abs/2405.16498)\n",
      "62. [CRoFT: Robust Fine-Tuning with Concurrent Optimization for OOD Generalization and Open-Set OOD Detection](https://arxiv.org/abs/2405.16417)\n",
      "63. [Understanding the Effect of using Semantically Meaningful Tokens for Visual Representation Learning](https://arxiv.org/abs/2405.16401)\n",
      "64. [A Second-Order perspective on Compositionality and Incremental Learning](https://arxiv.org/abs/2405.16350)\n",
      "65. [Dual-Adapter: Training-free Dual Adaptation for Few-shot Out-of-Distribution Detection](https://arxiv.org/abs/2405.16146)\n",
      "66. [Unsupervised Meta-Learning via In-Context Learning](https://arxiv.org/abs/2405.16124)\n",
      "67. [Enhancing Visual-Language Modality Alignment in Large Vision Language Models via Self-Improvement](https://arxiv.org/abs/2405.15973)\n",
      "68. [Activator: GLU Activations as The Core Functions of a Vision Transformer](https://arxiv.org/abs/2405.15953)\n",
      "69. [Theories of synaptic memory consolidation and intelligent plasticity for continual learning](https://arxiv.org/abs/2405.16922)\n",
      "70. [Memory-efficient High-resolution OCT Volume Synthesis with Cascaded Amortized Latent Diffusion Models](https://arxiv.org/abs/2405.16516)\n"
     ]
    }
   ],
   "source": [
    "# 请将 'path_to_your_file.txt' 替换为你的txt文件路径\n",
    "file_path = 'tmp.txt'\n",
    "converted_text = convert_text_in_file(file_path, cnt=38)\n",
    "\n",
    "print(converted_text)"
   ]
  },
  {
   "cell_type": "code",
   "execution_count": 7,
   "metadata": {},
   "outputs": [
    {
     "name": "stdout",
     "output_type": "stream",
     "text": [
      "Susseccfully write to file!\n"
     ]
    }
   ],
   "source": [
    "# 写入Readme.md文件\n",
    "markdown_file = 'README.md'\n",
    "output_lines = converted_text\n",
    "result_write_md(markdown_file, output_lines)\n",
    "\n"
   ]
  },
  {
   "cell_type": "code",
   "execution_count": 8,
   "metadata": {},
   "outputs": [
    {
     "name": "stdout",
     "output_type": "stream",
     "text": [
      "Susseccfully write to file!\n"
     ]
    }
   ],
   "source": [
    "# 写入本周的markdown文件\n",
    "markdown_file = '2024/22_week.md'\n",
    "output_lines = converted_text\n",
    "result_write_md(markdown_file, output_lines)"
   ]
  }
 ],
 "metadata": {
  "kernelspec": {
   "display_name": "Python 3.8.13 ('pyt38')",
   "language": "python",
   "name": "python3"
  },
  "language_info": {
   "codemirror_mode": {
    "name": "ipython",
    "version": 3
   },
   "file_extension": ".py",
   "mimetype": "text/x-python",
   "name": "python",
   "nbconvert_exporter": "python",
   "pygments_lexer": "ipython3",
   "version": "3.8.13"
  },
  "orig_nbformat": 4,
  "vscode": {
   "interpreter": {
    "hash": "176c92cd5e5485b42e3e73d2f25e60c2ed8f24d584687c4dae8d36d44ade605d"
   }
  }
 },
 "nbformat": 4,
 "nbformat_minor": 2
}
